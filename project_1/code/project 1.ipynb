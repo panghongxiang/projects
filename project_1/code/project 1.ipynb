{
 "cells": [
  {
   "cell_type": "markdown",
   "metadata": {},
   "source": [
    "<img src=\"http://imgur.com/1ZcRyrc.png\" style=\"float: left; margin: 20px; height: 55px\">\n",
    "\n",
    "# Project 1: Data Analysis of Singapore Rainfall"
   ]
  },
  {
   "cell_type": "markdown",
   "metadata": {},
   "source": [
    "--- \n",
    "# Part 1\n",
    "\n",
    "Part 1 requires knowledge of basic Python.\n",
    "\n",
    "---"
   ]
  },
  {
   "cell_type": "markdown",
   "metadata": {},
   "source": [
    "### Contents:\n",
    "- [Background](#Background)\n",
    "- [Data Import & Cleaning](#Data-Import-and-Cleaning)\n",
    "- [Exploratory Data Analysis](#Exploratory-Data-Analysis)\n",
    "- [Data Visualization](#Visualize-the-Data)\n",
    "- [Conclusions and Recommendations](#Conclusions-and-Recommendations)"
   ]
  },
  {
   "cell_type": "markdown",
   "metadata": {},
   "source": [
    "## Background"
   ]
  },
  {
   "cell_type": "markdown",
   "metadata": {},
   "source": [
    "According to the [Meteorological Services Singapore](http://www.weather.gov.sg/climate-climate-of-singapore/#:~:text=Singapore%20is%20situated%20near%20the,month%2Dto%2Dmonth%20variation.), Singapore has typical tropical climate with adundant rainfall, high and uniform temperatures and high humidity all year round, since its situated near the equator. There are many factors that help us understand the climate of a country and in this project we are going to look into a few, especially rainfall.\n",
    "\n",
    "Singapore’s climate is characterised by two main monsoon seasons separated by inter-monsoonal periods.  The **Northeast Monsoon** occurs from December to early March, and the **Southwest Monsoon** from June to September.\n",
    "\n",
    "The major weather systems affecting Singapore that can lead to heavy rainfall are:\n",
    "\n",
    "-Monsoon surges, or strong wind episodes in the Northeast Monsoon flow bringing about major rainfall events;\n",
    "\n",
    "-Sumatra squalls, an organised line of thunderstorms travelling eastward across Singapore, having developed over the island of Sumatra or Straits of Malacca west of us;\n",
    "\n",
    "-Afternoon and evening thunderstorms caused by strong surface heating and by the sea breeze circulation that develops in the afternoon.\n",
    "\n",
    "Singapore’s climate station has been located at several different sites in the past 140 years. The station had been decommissioned at various points in the past due to changes to local land use in the site’s vicinity, and had to be relocated. Since 1984, the climate station has been located at **Changi**.\n",
    "\n",
    "There are other metrics of climate such as temperature, humidity, sun shine duration, wind speed, cloud cover etc. All the dataset used in the project comes from [data.gov.sg](data.gov.sg), as recorded at the Changi climate station \n"
   ]
  },
  {
   "cell_type": "markdown",
   "metadata": {},
   "source": [
    "### Choose your Data\n",
    "\n",
    "There are 2 datasets included in the [`data`](./data/) folder for this project. These correponds to rainfall information. \n",
    "\n",
    "* [`rainfall-monthly-number-of-rain-days.csv`](./data/rainfall-monthly-number-of-rain-days.csv): Monthly number of rain days from 1982 to 2022. A day is considered to have “rained” if the total rainfall for that day is 0.2mm or more.\n",
    "* [`rainfall-monthly-total.csv`](./data/rainfall-monthly-total.csv): Monthly total rain recorded in mm(millimeters) from 1982 to 2022\n",
    "\n",
    "Other relevant weather datasets from [data.gov.sg](data.gov.sg) that you can download and use are as follows:\n",
    "\n",
    "* [Relative Humidity](https://data.gov.sg/dataset/relative-humidity-monthly-mean)\n",
    "* [Monthly Maximum Daily Rainfall](https://data.gov.sg/dataset/rainfall-monthly-maximum-daily-total)\n",
    "* [Hourly wet buld temperature](https://data.gov.sg/dataset/wet-bulb-temperature-hourly)\n",
    "* [Monthly mean sunshine hours](https://data.gov.sg/dataset/sunshine-duration-monthly-mean-daily-duration)\n",
    "* [Surface Air Temperature](https://data.gov.sg/dataset/surface-air-temperature-mean-daily-minimum)\n",
    "\n",
    "You can also use other datasets for your analysis, make sure to cite the source when you are using them"
   ]
  },
  {
   "cell_type": "markdown",
   "metadata": {},
   "source": [
    "**Additional datasets used**\n",
    "* [`road_accidents_fatal.csv`](./data/road_accidents_fatal.csv): Monthly total number of accidents leading to fatalities from 2008 to 2022 (Source:https://www.police.gov.sg/-/media/1F7F9460FD8F48928B6DEFE096414975.ashx Table 1B)\n",
    "* [`road_accidents_injuries.csv`](./data/road_accidents_injuries.csv): Monthly total number of accidents leading to injuries from 2008 to 2022 (Source:https://www.police.gov.sg/-/media/1F7F9460FD8F48928B6DEFE096414975.ashx Table 1C)"
   ]
  },
  {
   "cell_type": "markdown",
   "metadata": {},
   "source": [
    "## Problem Statement"
   ]
  },
  {
   "cell_type": "markdown",
   "metadata": {},
   "source": [
    "You work for the Land Transport Authority. Every year, there are road accidents leading to injuries and even fatalities, which could be due to adverse weather conditions. Factors such as slippery roads and lower visibility increases the risk of traffic incidents. \n",
    "\n",
    "This analysis aims to allow better planning of traffic management based on weather patterns, to reduce the number of road accidents."
   ]
  },
  {
   "cell_type": "markdown",
   "metadata": {},
   "source": [
    "### Outside Research"
   ]
  },
  {
   "cell_type": "markdown",
   "metadata": {},
   "source": [
    "**1) Adverse weather conditions lead to more road accidents, due to lower visibility and slippery roads.**\n",
    "\n",
    "Source: https://www.straitstimes.com/singapore/more-road-accidents-on-days-of-thunderstorms"
   ]
  },
  {
   "cell_type": "markdown",
   "metadata": {},
   "source": [
    "### Coding Challenges\n",
    "\n",
    "1. Manually calculate mean:\n",
    "\n",
    "    Write a function that takes in values and returns the mean of the values. Create a list of numbers that you test on your function to check to make sure your function works!\n",
    "    \n",
    "    *Note*: Do not use any mean methods built-in to any Python libraries to do this! This should be done without importing any additional libraries."
   ]
  },
  {
   "cell_type": "code",
   "execution_count": 1,
   "metadata": {},
   "outputs": [
    {
     "data": {
      "text/plain": [
       "3.0"
      ]
     },
     "execution_count": 1,
     "metadata": {},
     "output_type": "execute_result"
    }
   ],
   "source": [
    "def get_mean(test_list):\n",
    "    return sum(test_list)/len(test_list)\n",
    "\n",
    "list1 = [1, 2, 3, 4, 5]\n",
    "get_mean(list1)"
   ]
  },
  {
   "cell_type": "markdown",
   "metadata": {},
   "source": [
    "2. Manually calculate standard deviation:\n",
    "\n",
    "    The formula for standard deviation is below:\n",
    "\n",
    "    $$\\sigma = \\sqrt{\\frac{1}{n}\\sum_{i=1}^n(x_i - \\mu)^2}$$\n",
    "\n",
    "    Where $x_i$ represents each value in the dataset, $\\mu$ represents the mean of all values in the dataset and $n$ represents the number of values in the dataset.\n",
    "\n",
    "    Write a function that takes in values and returns the standard deviation of the values using the formula above. Hint: use the function you wrote above to calculate the mean! Use the list of numbers you created above to test on your function.\n",
    "    \n",
    "    *Note*: Do not use any standard deviation methods built-in to any Python libraries to do this! This should be done without importing any additional libraries."
   ]
  },
  {
   "cell_type": "code",
   "execution_count": 2,
   "metadata": {},
   "outputs": [
    {
     "data": {
      "text/plain": [
       "1.4142135623730951"
      ]
     },
     "execution_count": 2,
     "metadata": {},
     "output_type": "execute_result"
    }
   ],
   "source": [
    "def get_stdev(test_list):\n",
    "    sum = 0\n",
    "    for i in test_list:\n",
    "        diff = (i - get_mean(test_list))**2\n",
    "        sum += diff\n",
    "    return (sum/len(test_list))**(1/2)\n",
    "\n",
    "get_stdev(list1)"
   ]
  },
  {
   "cell_type": "markdown",
   "metadata": {
    "tags": []
   },
   "source": [
    "--- \n",
    "# Part 2\n",
    "\n",
    "Part 2 requires knowledge of Pandas, EDA, data cleaning, and data visualization.\n",
    "\n",
    "---"
   ]
  },
  {
   "cell_type": "markdown",
   "metadata": {},
   "source": [
    "*All libraries used should be added here*"
   ]
  },
  {
   "cell_type": "code",
   "execution_count": 3,
   "metadata": {},
   "outputs": [],
   "source": [
    "# Imports:\n",
    "\n",
    "import pandas as pd\n",
    "import numpy as np\n",
    "import matplotlib.pyplot as plt\n",
    "import seaborn as sns\n",
    "\n",
    "%matplotlib inline"
   ]
  },
  {
   "cell_type": "markdown",
   "metadata": {},
   "source": [
    "## Data Import and Cleaning"
   ]
  },
  {
   "cell_type": "markdown",
   "metadata": {},
   "source": [
    "### Data Import & Cleaning\n",
    "\n",
    "Import all the datasets that you selected for this project and go through the following steps at a minimum. You are welcome to do further cleaning as you feel necessary. Make sure to comment your code to showcase the intent behind the data processing step.\n",
    "1. Display the data: print the first 5 rows of each dataframe to your Jupyter notebook.\n",
    "2. Check for missing values and datatype.\n",
    "3. Check for any obvious issues with the observations.\n",
    "4. Fix any errors you identified in steps 2-3.\n",
    "6. Fix any incorrect data types found in step 5.\n",
    "    - Fix any individual values preventing other columns from being the appropriate type.\n",
    "    - If the month column data is better analyzed as month and year, create new columns for the same\n",
    "7. Rename Columns.\n",
    "    - Column names should be all lowercase.\n",
    "    - Column names should not contain spaces (underscores will suffice--this allows for using the `df.column_name` method to access columns in addition to `df['column_name']`).\n",
    "    - Column names should be unique and informative.\n",
    "8. Drop unnecessary rows (if needed).\n",
    "9. Merge dataframes that can be merged.\n",
    "    - Since different climate metrics are in month format, you can merge them into one single dataframe for easier analysis\n",
    "10. Perform any additional cleaning that you feel is necessary.\n",
    "11. Save your cleaned and merged dataframes as csv files."
   ]
  },
  {
   "cell_type": "code",
   "execution_count": 4,
   "metadata": {},
   "outputs": [],
   "source": [
    "# reading in the data files\n",
    "df_rainy_days = pd.read_csv('../data/rainfall-monthly-number-of-rain-days.csv')\n",
    "df_rainfall = pd.read_csv('../data/rainfall-monthly-total.csv')\n",
    "df_accident_fatal = pd.read_csv('../data/road_accidents_fatal.csv')\n",
    "df_accident_injury = pd.read_csv('../data/road_accidents_injuries.csv')"
   ]
  },
  {
   "cell_type": "code",
   "execution_count": 5,
   "metadata": {},
   "outputs": [
    {
     "data": {
      "text/html": [
       "<div>\n",
       "<style scoped>\n",
       "    .dataframe tbody tr th:only-of-type {\n",
       "        vertical-align: middle;\n",
       "    }\n",
       "\n",
       "    .dataframe tbody tr th {\n",
       "        vertical-align: top;\n",
       "    }\n",
       "\n",
       "    .dataframe thead th {\n",
       "        text-align: right;\n",
       "    }\n",
       "</style>\n",
       "<table border=\"1\" class=\"dataframe\">\n",
       "  <thead>\n",
       "    <tr style=\"text-align: right;\">\n",
       "      <th></th>\n",
       "      <th>month</th>\n",
       "      <th>no_of_rainy_days</th>\n",
       "    </tr>\n",
       "  </thead>\n",
       "  <tbody>\n",
       "    <tr>\n",
       "      <th>0</th>\n",
       "      <td>1982-01</td>\n",
       "      <td>10</td>\n",
       "    </tr>\n",
       "    <tr>\n",
       "      <th>1</th>\n",
       "      <td>1982-02</td>\n",
       "      <td>5</td>\n",
       "    </tr>\n",
       "    <tr>\n",
       "      <th>2</th>\n",
       "      <td>1982-03</td>\n",
       "      <td>11</td>\n",
       "    </tr>\n",
       "    <tr>\n",
       "      <th>3</th>\n",
       "      <td>1982-04</td>\n",
       "      <td>14</td>\n",
       "    </tr>\n",
       "    <tr>\n",
       "      <th>4</th>\n",
       "      <td>1982-05</td>\n",
       "      <td>10</td>\n",
       "    </tr>\n",
       "  </tbody>\n",
       "</table>\n",
       "</div>"
      ],
      "text/plain": [
       "     month  no_of_rainy_days\n",
       "0  1982-01                10\n",
       "1  1982-02                 5\n",
       "2  1982-03                11\n",
       "3  1982-04                14\n",
       "4  1982-05                10"
      ]
     },
     "execution_count": 5,
     "metadata": {},
     "output_type": "execute_result"
    }
   ],
   "source": [
    "#print first 5 rows to see data\n",
    "df_rainy_days.head()"
   ]
  },
  {
   "cell_type": "code",
   "execution_count": 6,
   "metadata": {},
   "outputs": [
    {
     "data": {
      "text/plain": [
       "month               0\n",
       "no_of_rainy_days    0\n",
       "dtype: int64"
      ]
     },
     "execution_count": 6,
     "metadata": {},
     "output_type": "execute_result"
    }
   ],
   "source": [
    "#check for missing data\n",
    "df_rainy_days.isnull().sum()"
   ]
  },
  {
   "cell_type": "code",
   "execution_count": 7,
   "metadata": {},
   "outputs": [
    {
     "data": {
      "text/plain": [
       "(488, 2)"
      ]
     },
     "execution_count": 7,
     "metadata": {},
     "output_type": "execute_result"
    }
   ],
   "source": [
    "#check number of observations and features\n",
    "df_rainy_days.shape"
   ]
  },
  {
   "cell_type": "code",
   "execution_count": 8,
   "metadata": {},
   "outputs": [
    {
     "data": {
      "text/html": [
       "<div>\n",
       "<style scoped>\n",
       "    .dataframe tbody tr th:only-of-type {\n",
       "        vertical-align: middle;\n",
       "    }\n",
       "\n",
       "    .dataframe tbody tr th {\n",
       "        vertical-align: top;\n",
       "    }\n",
       "\n",
       "    .dataframe thead th {\n",
       "        text-align: right;\n",
       "    }\n",
       "</style>\n",
       "<table border=\"1\" class=\"dataframe\">\n",
       "  <thead>\n",
       "    <tr style=\"text-align: right;\">\n",
       "      <th></th>\n",
       "      <th>month</th>\n",
       "      <th>total_rainfall</th>\n",
       "    </tr>\n",
       "  </thead>\n",
       "  <tbody>\n",
       "    <tr>\n",
       "      <th>0</th>\n",
       "      <td>1982-01</td>\n",
       "      <td>107.1</td>\n",
       "    </tr>\n",
       "    <tr>\n",
       "      <th>1</th>\n",
       "      <td>1982-02</td>\n",
       "      <td>27.8</td>\n",
       "    </tr>\n",
       "    <tr>\n",
       "      <th>2</th>\n",
       "      <td>1982-03</td>\n",
       "      <td>160.8</td>\n",
       "    </tr>\n",
       "    <tr>\n",
       "      <th>3</th>\n",
       "      <td>1982-04</td>\n",
       "      <td>157.0</td>\n",
       "    </tr>\n",
       "    <tr>\n",
       "      <th>4</th>\n",
       "      <td>1982-05</td>\n",
       "      <td>102.2</td>\n",
       "    </tr>\n",
       "  </tbody>\n",
       "</table>\n",
       "</div>"
      ],
      "text/plain": [
       "     month  total_rainfall\n",
       "0  1982-01           107.1\n",
       "1  1982-02            27.8\n",
       "2  1982-03           160.8\n",
       "3  1982-04           157.0\n",
       "4  1982-05           102.2"
      ]
     },
     "execution_count": 8,
     "metadata": {},
     "output_type": "execute_result"
    }
   ],
   "source": [
    "#print first 5 rows to see data\n",
    "df_rainfall.head()"
   ]
  },
  {
   "cell_type": "code",
   "execution_count": 9,
   "metadata": {},
   "outputs": [
    {
     "data": {
      "text/plain": [
       "month             0\n",
       "total_rainfall    0\n",
       "dtype: int64"
      ]
     },
     "execution_count": 9,
     "metadata": {},
     "output_type": "execute_result"
    }
   ],
   "source": [
    "#check for missing data\n",
    "df_rainfall.isnull().sum()"
   ]
  },
  {
   "cell_type": "code",
   "execution_count": 10,
   "metadata": {},
   "outputs": [
    {
     "data": {
      "text/plain": [
       "(488, 2)"
      ]
     },
     "execution_count": 10,
     "metadata": {},
     "output_type": "execute_result"
    }
   ],
   "source": [
    "#check number of observations and features\n",
    "df_rainfall.shape"
   ]
  },
  {
   "cell_type": "code",
   "execution_count": 11,
   "metadata": {},
   "outputs": [
    {
     "data": {
      "text/html": [
       "<div>\n",
       "<style scoped>\n",
       "    .dataframe tbody tr th:only-of-type {\n",
       "        vertical-align: middle;\n",
       "    }\n",
       "\n",
       "    .dataframe tbody tr th {\n",
       "        vertical-align: top;\n",
       "    }\n",
       "\n",
       "    .dataframe thead th {\n",
       "        text-align: right;\n",
       "    }\n",
       "</style>\n",
       "<table border=\"1\" class=\"dataframe\">\n",
       "  <thead>\n",
       "    <tr style=\"text-align: right;\">\n",
       "      <th></th>\n",
       "      <th>month</th>\n",
       "      <th>fatal_accidents</th>\n",
       "    </tr>\n",
       "  </thead>\n",
       "  <tbody>\n",
       "    <tr>\n",
       "      <th>0</th>\n",
       "      <td>2008-01</td>\n",
       "      <td>15</td>\n",
       "    </tr>\n",
       "    <tr>\n",
       "      <th>1</th>\n",
       "      <td>2008-02</td>\n",
       "      <td>17</td>\n",
       "    </tr>\n",
       "    <tr>\n",
       "      <th>2</th>\n",
       "      <td>2008-03</td>\n",
       "      <td>18</td>\n",
       "    </tr>\n",
       "    <tr>\n",
       "      <th>3</th>\n",
       "      <td>2008-04</td>\n",
       "      <td>21</td>\n",
       "    </tr>\n",
       "    <tr>\n",
       "      <th>4</th>\n",
       "      <td>2008-05</td>\n",
       "      <td>21</td>\n",
       "    </tr>\n",
       "  </tbody>\n",
       "</table>\n",
       "</div>"
      ],
      "text/plain": [
       "     month  fatal_accidents\n",
       "0  2008-01               15\n",
       "1  2008-02               17\n",
       "2  2008-03               18\n",
       "3  2008-04               21\n",
       "4  2008-05               21"
      ]
     },
     "execution_count": 11,
     "metadata": {},
     "output_type": "execute_result"
    }
   ],
   "source": [
    "#print first 5 rows to see data\n",
    "df_accident_fatal.head()"
   ]
  },
  {
   "cell_type": "code",
   "execution_count": 12,
   "metadata": {},
   "outputs": [
    {
     "data": {
      "text/plain": [
       "month              0\n",
       "fatal_accidents    0\n",
       "dtype: int64"
      ]
     },
     "execution_count": 12,
     "metadata": {},
     "output_type": "execute_result"
    }
   ],
   "source": [
    "#check for missing data\n",
    "df_accident_fatal.isnull().sum()"
   ]
  },
  {
   "cell_type": "code",
   "execution_count": 13,
   "metadata": {},
   "outputs": [
    {
     "data": {
      "text/plain": [
       "(168, 2)"
      ]
     },
     "execution_count": 13,
     "metadata": {},
     "output_type": "execute_result"
    }
   ],
   "source": [
    "#check number of observations and features\n",
    "df_accident_fatal.shape"
   ]
  },
  {
   "cell_type": "code",
   "execution_count": 14,
   "metadata": {
    "tags": []
   },
   "outputs": [
    {
     "data": {
      "text/html": [
       "<div>\n",
       "<style scoped>\n",
       "    .dataframe tbody tr th:only-of-type {\n",
       "        vertical-align: middle;\n",
       "    }\n",
       "\n",
       "    .dataframe tbody tr th {\n",
       "        vertical-align: top;\n",
       "    }\n",
       "\n",
       "    .dataframe thead th {\n",
       "        text-align: right;\n",
       "    }\n",
       "</style>\n",
       "<table border=\"1\" class=\"dataframe\">\n",
       "  <thead>\n",
       "    <tr style=\"text-align: right;\">\n",
       "      <th></th>\n",
       "      <th>month</th>\n",
       "      <th>accident_injuries</th>\n",
       "    </tr>\n",
       "  </thead>\n",
       "  <tbody>\n",
       "    <tr>\n",
       "      <th>0</th>\n",
       "      <td>2008-01</td>\n",
       "      <td>735</td>\n",
       "    </tr>\n",
       "    <tr>\n",
       "      <th>1</th>\n",
       "      <td>2008-02</td>\n",
       "      <td>589</td>\n",
       "    </tr>\n",
       "    <tr>\n",
       "      <th>2</th>\n",
       "      <td>2008-03</td>\n",
       "      <td>695</td>\n",
       "    </tr>\n",
       "    <tr>\n",
       "      <th>3</th>\n",
       "      <td>2008-04</td>\n",
       "      <td>697</td>\n",
       "    </tr>\n",
       "    <tr>\n",
       "      <th>4</th>\n",
       "      <td>2008-05</td>\n",
       "      <td>685</td>\n",
       "    </tr>\n",
       "  </tbody>\n",
       "</table>\n",
       "</div>"
      ],
      "text/plain": [
       "     month  accident_injuries\n",
       "0  2008-01                735\n",
       "1  2008-02                589\n",
       "2  2008-03                695\n",
       "3  2008-04                697\n",
       "4  2008-05                685"
      ]
     },
     "execution_count": 14,
     "metadata": {},
     "output_type": "execute_result"
    }
   ],
   "source": [
    "#print first 5 rows to see data\n",
    "df_accident_injury.head()"
   ]
  },
  {
   "cell_type": "code",
   "execution_count": 15,
   "metadata": {},
   "outputs": [
    {
     "data": {
      "text/plain": [
       "month                0\n",
       "accident_injuries    0\n",
       "dtype: int64"
      ]
     },
     "execution_count": 15,
     "metadata": {},
     "output_type": "execute_result"
    }
   ],
   "source": [
    "#check for missing data\n",
    "df_accident_injury.isnull().sum()"
   ]
  },
  {
   "cell_type": "code",
   "execution_count": 16,
   "metadata": {},
   "outputs": [
    {
     "data": {
      "text/plain": [
       "(168, 2)"
      ]
     },
     "execution_count": 16,
     "metadata": {},
     "output_type": "execute_result"
    }
   ],
   "source": [
    "#check number of observations and features\n",
    "df_accident_injury.shape"
   ]
  },
  {
   "cell_type": "code",
   "execution_count": 17,
   "metadata": {},
   "outputs": [
    {
     "data": {
      "text/html": [
       "<div>\n",
       "<style scoped>\n",
       "    .dataframe tbody tr th:only-of-type {\n",
       "        vertical-align: middle;\n",
       "    }\n",
       "\n",
       "    .dataframe tbody tr th {\n",
       "        vertical-align: top;\n",
       "    }\n",
       "\n",
       "    .dataframe thead th {\n",
       "        text-align: right;\n",
       "    }\n",
       "</style>\n",
       "<table border=\"1\" class=\"dataframe\">\n",
       "  <thead>\n",
       "    <tr style=\"text-align: right;\">\n",
       "      <th></th>\n",
       "      <th>month</th>\n",
       "      <th>no_of_rainy_days</th>\n",
       "      <th>total_rainfall</th>\n",
       "      <th>fatal_accidents</th>\n",
       "      <th>accident_injuries</th>\n",
       "    </tr>\n",
       "  </thead>\n",
       "  <tbody>\n",
       "    <tr>\n",
       "      <th>0</th>\n",
       "      <td>1982-01</td>\n",
       "      <td>10</td>\n",
       "      <td>107.1</td>\n",
       "      <td>NaN</td>\n",
       "      <td>NaN</td>\n",
       "    </tr>\n",
       "    <tr>\n",
       "      <th>1</th>\n",
       "      <td>1982-02</td>\n",
       "      <td>5</td>\n",
       "      <td>27.8</td>\n",
       "      <td>NaN</td>\n",
       "      <td>NaN</td>\n",
       "    </tr>\n",
       "    <tr>\n",
       "      <th>2</th>\n",
       "      <td>1982-03</td>\n",
       "      <td>11</td>\n",
       "      <td>160.8</td>\n",
       "      <td>NaN</td>\n",
       "      <td>NaN</td>\n",
       "    </tr>\n",
       "    <tr>\n",
       "      <th>3</th>\n",
       "      <td>1982-04</td>\n",
       "      <td>14</td>\n",
       "      <td>157.0</td>\n",
       "      <td>NaN</td>\n",
       "      <td>NaN</td>\n",
       "    </tr>\n",
       "    <tr>\n",
       "      <th>4</th>\n",
       "      <td>1982-05</td>\n",
       "      <td>10</td>\n",
       "      <td>102.2</td>\n",
       "      <td>NaN</td>\n",
       "      <td>NaN</td>\n",
       "    </tr>\n",
       "  </tbody>\n",
       "</table>\n",
       "</div>"
      ],
      "text/plain": [
       "     month  no_of_rainy_days  total_rainfall  fatal_accidents  \\\n",
       "0  1982-01                10           107.1              NaN   \n",
       "1  1982-02                 5            27.8              NaN   \n",
       "2  1982-03                11           160.8              NaN   \n",
       "3  1982-04                14           157.0              NaN   \n",
       "4  1982-05                10           102.2              NaN   \n",
       "\n",
       "   accident_injuries  \n",
       "0                NaN  \n",
       "1                NaN  \n",
       "2                NaN  \n",
       "3                NaN  \n",
       "4                NaN  "
      ]
     },
     "execution_count": 17,
     "metadata": {},
     "output_type": "execute_result"
    }
   ],
   "source": [
    "#merge datasets\n",
    "df = pd.merge(left = df_rainy_days,\n",
    "         right = df_rainfall,\n",
    "         on = \"month\", how = 'left')\n",
    "df = pd.merge(left = df,\n",
    "         right = df_accident_fatal,\n",
    "         on = \"month\", how = 'left')\n",
    "df = pd.merge(left = df,\n",
    "         right = df_accident_injury,\n",
    "         on = \"month\", how = 'left')\n",
    "\n",
    "df.head()"
   ]
  },
  {
   "cell_type": "code",
   "execution_count": 18,
   "metadata": {},
   "outputs": [
    {
     "data": {
      "text/plain": [
       "month                  0\n",
       "no_of_rainy_days       0\n",
       "total_rainfall         0\n",
       "fatal_accidents      320\n",
       "accident_injuries    320\n",
       "dtype: int64"
      ]
     },
     "execution_count": 18,
     "metadata": {},
     "output_type": "execute_result"
    }
   ],
   "source": [
    "#check for missing data\n",
    "df.isnull().sum()"
   ]
  },
  {
   "cell_type": "code",
   "execution_count": 19,
   "metadata": {},
   "outputs": [
    {
     "name": "stdout",
     "output_type": "stream",
     "text": [
      "<class 'pandas.core.frame.DataFrame'>\n",
      "Int64Index: 488 entries, 0 to 487\n",
      "Data columns (total 5 columns):\n",
      " #   Column             Non-Null Count  Dtype  \n",
      "---  ------             --------------  -----  \n",
      " 0   month              488 non-null    object \n",
      " 1   no_of_rainy_days   488 non-null    int64  \n",
      " 2   total_rainfall     488 non-null    float64\n",
      " 3   fatal_accidents    168 non-null    float64\n",
      " 4   accident_injuries  168 non-null    float64\n",
      "dtypes: float64(3), int64(1), object(1)\n",
      "memory usage: 22.9+ KB\n"
     ]
    }
   ],
   "source": [
    "#check data types\n",
    "df.info()"
   ]
  },
  {
   "cell_type": "code",
   "execution_count": 20,
   "metadata": {},
   "outputs": [
    {
     "name": "stderr",
     "output_type": "stream",
     "text": [
      "/var/folders/3n/fkv2x4vs6_jc1rvhs53fssxr0000gn/T/ipykernel_6023/567820234.py:3: FutureWarning: In a future version of pandas all arguments of StringMethods.split except for the argument 'pat' will be keyword-only.\n",
      "  df[['year', 'month']] = df['year_month'].str.split('-', 1, expand=True)\n"
     ]
    },
    {
     "data": {
      "text/html": [
       "<div>\n",
       "<style scoped>\n",
       "    .dataframe tbody tr th:only-of-type {\n",
       "        vertical-align: middle;\n",
       "    }\n",
       "\n",
       "    .dataframe tbody tr th {\n",
       "        vertical-align: top;\n",
       "    }\n",
       "\n",
       "    .dataframe thead th {\n",
       "        text-align: right;\n",
       "    }\n",
       "</style>\n",
       "<table border=\"1\" class=\"dataframe\">\n",
       "  <thead>\n",
       "    <tr style=\"text-align: right;\">\n",
       "      <th></th>\n",
       "      <th>year_month</th>\n",
       "      <th>no_of_rainy_days</th>\n",
       "      <th>total_rainfall</th>\n",
       "      <th>accidents_with_fatalities</th>\n",
       "      <th>accidents_with_injuries</th>\n",
       "      <th>year</th>\n",
       "      <th>month</th>\n",
       "      <th>average_rainfall</th>\n",
       "      <th>total_accidents</th>\n",
       "    </tr>\n",
       "  </thead>\n",
       "  <tbody>\n",
       "    <tr>\n",
       "      <th>0</th>\n",
       "      <td>1982-01</td>\n",
       "      <td>10</td>\n",
       "      <td>107.1</td>\n",
       "      <td>NaN</td>\n",
       "      <td>NaN</td>\n",
       "      <td>1982</td>\n",
       "      <td>01</td>\n",
       "      <td>10.710000</td>\n",
       "      <td>NaN</td>\n",
       "    </tr>\n",
       "    <tr>\n",
       "      <th>1</th>\n",
       "      <td>1982-02</td>\n",
       "      <td>5</td>\n",
       "      <td>27.8</td>\n",
       "      <td>NaN</td>\n",
       "      <td>NaN</td>\n",
       "      <td>1982</td>\n",
       "      <td>02</td>\n",
       "      <td>5.560000</td>\n",
       "      <td>NaN</td>\n",
       "    </tr>\n",
       "    <tr>\n",
       "      <th>2</th>\n",
       "      <td>1982-03</td>\n",
       "      <td>11</td>\n",
       "      <td>160.8</td>\n",
       "      <td>NaN</td>\n",
       "      <td>NaN</td>\n",
       "      <td>1982</td>\n",
       "      <td>03</td>\n",
       "      <td>14.618182</td>\n",
       "      <td>NaN</td>\n",
       "    </tr>\n",
       "    <tr>\n",
       "      <th>3</th>\n",
       "      <td>1982-04</td>\n",
       "      <td>14</td>\n",
       "      <td>157.0</td>\n",
       "      <td>NaN</td>\n",
       "      <td>NaN</td>\n",
       "      <td>1982</td>\n",
       "      <td>04</td>\n",
       "      <td>11.214286</td>\n",
       "      <td>NaN</td>\n",
       "    </tr>\n",
       "    <tr>\n",
       "      <th>4</th>\n",
       "      <td>1982-05</td>\n",
       "      <td>10</td>\n",
       "      <td>102.2</td>\n",
       "      <td>NaN</td>\n",
       "      <td>NaN</td>\n",
       "      <td>1982</td>\n",
       "      <td>05</td>\n",
       "      <td>10.220000</td>\n",
       "      <td>NaN</td>\n",
       "    </tr>\n",
       "  </tbody>\n",
       "</table>\n",
       "</div>"
      ],
      "text/plain": [
       "  year_month  no_of_rainy_days  total_rainfall  accidents_with_fatalities  \\\n",
       "0    1982-01                10           107.1                        NaN   \n",
       "1    1982-02                 5            27.8                        NaN   \n",
       "2    1982-03                11           160.8                        NaN   \n",
       "3    1982-04                14           157.0                        NaN   \n",
       "4    1982-05                10           102.2                        NaN   \n",
       "\n",
       "   accidents_with_injuries  year month  average_rainfall  total_accidents  \n",
       "0                      NaN  1982    01         10.710000              NaN  \n",
       "1                      NaN  1982    02          5.560000              NaN  \n",
       "2                      NaN  1982    03         14.618182              NaN  \n",
       "3                      NaN  1982    04         11.214286              NaN  \n",
       "4                      NaN  1982    05         10.220000              NaN  "
      ]
     },
     "execution_count": 20,
     "metadata": {},
     "output_type": "execute_result"
    }
   ],
   "source": [
    "#rename columns and create new columns\n",
    "df = df.rename(columns={'month':'year_month','fatal_accidents':'accidents_with_fatalities','accident_injuries':'accidents_with_injuries'})\n",
    "df[['year', 'month']] = df['year_month'].str.split('-', 1, expand=True)\n",
    "df['average_rainfall'] = df['total_rainfall']/df['no_of_rainy_days']\n",
    "df['total_accidents'] = df['accidents_with_fatalities'] + df['accidents_with_injuries']\n",
    "df.head()"
   ]
  },
  {
   "cell_type": "code",
   "execution_count": 21,
   "metadata": {},
   "outputs": [
    {
     "data": {
      "text/plain": [
       "array(['1982', '1983', '1984', '1985', '1986', '1987', '1988', '1989',\n",
       "       '1990', '1991', '1992', '1993', '1994', '1995', '1996', '1997',\n",
       "       '1998', '1999', '2000', '2001', '2002', '2003', '2004', '2005',\n",
       "       '2006', '2007', '2008', '2009', '2010', '2011', '2012', '2013',\n",
       "       '2014', '2015', '2016', '2017', '2018', '2019', '2020', '2021',\n",
       "       '2022'], dtype=object)"
      ]
     },
     "execution_count": 21,
     "metadata": {},
     "output_type": "execute_result"
    }
   ],
   "source": [
    "#check the years available for analysis\n",
    "df.year.unique()"
   ]
  },
  {
   "cell_type": "code",
   "execution_count": 22,
   "metadata": {},
   "outputs": [
    {
     "data": {
      "text/plain": [
       "array(['01', '02', '03', '04', '05', '06', '07', '08', '09', '10', '11',\n",
       "       '12'], dtype=object)"
      ]
     },
     "execution_count": 22,
     "metadata": {},
     "output_type": "execute_result"
    }
   ],
   "source": [
    "#check the months available for analysis\n",
    "df.month.unique()"
   ]
  },
  {
   "cell_type": "code",
   "execution_count": 23,
   "metadata": {},
   "outputs": [
    {
     "name": "stdout",
     "output_type": "stream",
     "text": [
      "<class 'pandas.core.frame.DataFrame'>\n",
      "Int64Index: 488 entries, 0 to 487\n",
      "Data columns (total 9 columns):\n",
      " #   Column                     Non-Null Count  Dtype  \n",
      "---  ------                     --------------  -----  \n",
      " 0   year_month                 488 non-null    object \n",
      " 1   no_of_rainy_days           488 non-null    int64  \n",
      " 2   total_rainfall             488 non-null    float64\n",
      " 3   accidents_with_fatalities  168 non-null    float64\n",
      " 4   accidents_with_injuries    168 non-null    float64\n",
      " 5   year                       488 non-null    object \n",
      " 6   month                      488 non-null    object \n",
      " 7   average_rainfall           488 non-null    float64\n",
      " 8   total_accidents            168 non-null    float64\n",
      "dtypes: float64(5), int64(1), object(3)\n",
      "memory usage: 38.1+ KB\n"
     ]
    }
   ],
   "source": [
    "#check datatypes\n",
    "df.info()"
   ]
  },
  {
   "cell_type": "code",
   "execution_count": 24,
   "metadata": {},
   "outputs": [
    {
     "data": {
      "text/plain": [
       "year_month                     0\n",
       "no_of_rainy_days               0\n",
       "total_rainfall                 0\n",
       "accidents_with_fatalities    320\n",
       "accidents_with_injuries      320\n",
       "year                           0\n",
       "month                          0\n",
       "average_rainfall               0\n",
       "total_accidents              320\n",
       "dtype: int64"
      ]
     },
     "execution_count": 24,
     "metadata": {},
     "output_type": "execute_result"
    }
   ],
   "source": [
    "#checked that accidents data had missing data because start from 2008. keep for now to answer the compulsory EDA questions.\n",
    "df.isnull().sum()"
   ]
  },
  {
   "cell_type": "code",
   "execution_count": 25,
   "metadata": {
    "tags": []
   },
   "outputs": [],
   "source": [
    "#save cleaned dataset to csv\n",
    "df.to_csv('../data/merged_data.csv', index=False)"
   ]
  },
  {
   "cell_type": "markdown",
   "metadata": {},
   "source": [
    "**Data Dictionary**\n",
    "\n",
    "|Feature|Type|Dataset|Description|\n",
    "|---|---|---|---|\n",
    "|year_month|object|Period of reference|Year-Month|\n",
    "|no_of_rainy_days|integer|rainfall-monthly-number-of-rain-days|Total number of days with rain|\n",
    "|total_rainfall|float|rainfall-monthly-total|Total rainfall in mm| \n",
    "|accidents_with_fatalities|integer|road_accidents_fatal|Total number of accidents leading to fatalities|\n",
    "|accidents_with_injuries|integer|road_accidents_injuries|Total number of accidents leading to injuries|\n",
    "|year|object|Period of reference|Year|\n",
    "|month|object|Period of reference|Month|\n",
    "|average_rainfall|float|total_rainfall / no_of_rainy_days|Average rainfall per rainy day in mm|\n",
    "|total_accidents|integer|accidents_with_fatalities + accidents_with_injuries|Total number of accidents|\n"
   ]
  },
  {
   "cell_type": "markdown",
   "metadata": {
    "tags": []
   },
   "source": [
    "## Exploratory Data Analysis\n",
    "\n",
    "In this analysis, we would like to explore if number of accidents increases during adverse weather conditions.\n",
    "\n",
    "Adverse weather conditions could be identified through:\n",
    "1) High total rainfall in the month - indicates the general weather condition of the month in terms of how much it rained\n",
    "2) High number of rainy days in the month - indicates the frequemcy of rain occurences during the month\n",
    "3) Higher average daily rainfall in the month - indicates the intensity of rain during the rainy days e.g. drizzle vs storm\n",
    "\n",
    "For the first part of the analysis, we looked at general weather trends:\n",
    "1) Which month have the highest and lowest total rainfall in 1990, 2000, 2010 and 2020?\n",
    "2) Which year have the highest and lowest total rainfall in the date range of analysis?\n",
    "3) Which month have the highest and lowest number of rainy days in 1990, 2000, 2010 and 2020?\n",
    "4) Which year have the highest and lowest number of rainy days in the date range of analysis?\n",
    "5) Are there any outliers months in the dataset?\n",
    "\n",
    "For the second part of the analysis, we narrowed down to the period 2008-2021 where the traffic accidents data was available. We then aggregated the data by month, and identified months with high number of accidents, before trying to identify correlations with weather-related data.\n",
    "1) Which months had highest number of accidents?\n",
    "2) Which months had highest number of rainy days?\n",
    "3) Which months had highest total rainfall?\n",
    "4) Which months had highest number of accidents with fatalities?\n",
    "5) Which months had highest number of accidents with injuries?\n",
    "6) Which months had had highest average daily rainfall?\n",
    "7) Is there any correlation between number of rainy days and total rainfall?\n",
    "8) Is there any correlation between number of accidents with number of rainy days?\n",
    "9) Is there any correlation between number of accidents with total rainfall?\n",
    "10) Is there any correlation between number of accidents with average daily rainfall?"
   ]
  },
  {
   "cell_type": "code",
   "execution_count": 26,
   "metadata": {},
   "outputs": [
    {
     "data": {
      "text/html": [
       "<div>\n",
       "<style scoped>\n",
       "    .dataframe tbody tr th:only-of-type {\n",
       "        vertical-align: middle;\n",
       "    }\n",
       "\n",
       "    .dataframe tbody tr th {\n",
       "        vertical-align: top;\n",
       "    }\n",
       "\n",
       "    .dataframe thead th {\n",
       "        text-align: right;\n",
       "    }\n",
       "</style>\n",
       "<table border=\"1\" class=\"dataframe\">\n",
       "  <thead>\n",
       "    <tr style=\"text-align: right;\">\n",
       "      <th></th>\n",
       "      <th>no_of_rainy_days</th>\n",
       "      <th>total_rainfall</th>\n",
       "      <th>accidents_with_fatalities</th>\n",
       "      <th>accidents_with_injuries</th>\n",
       "      <th>average_rainfall</th>\n",
       "      <th>total_accidents</th>\n",
       "    </tr>\n",
       "  </thead>\n",
       "  <tbody>\n",
       "    <tr>\n",
       "      <th>count</th>\n",
       "      <td>488.000000</td>\n",
       "      <td>488.000000</td>\n",
       "      <td>168.000000</td>\n",
       "      <td>168.000000</td>\n",
       "      <td>488.000000</td>\n",
       "      <td>168.000000</td>\n",
       "    </tr>\n",
       "    <tr>\n",
       "      <th>mean</th>\n",
       "      <td>14.061475</td>\n",
       "      <td>177.163730</td>\n",
       "      <td>12.196429</td>\n",
       "      <td>643.833333</td>\n",
       "      <td>12.123057</td>\n",
       "      <td>656.029762</td>\n",
       "    </tr>\n",
       "    <tr>\n",
       "      <th>std</th>\n",
       "      <td>4.947394</td>\n",
       "      <td>113.916029</td>\n",
       "      <td>4.203305</td>\n",
       "      <td>87.336137</td>\n",
       "      <td>5.920178</td>\n",
       "      <td>89.574672</td>\n",
       "    </tr>\n",
       "    <tr>\n",
       "      <th>min</th>\n",
       "      <td>1.000000</td>\n",
       "      <td>0.200000</td>\n",
       "      <td>2.000000</td>\n",
       "      <td>260.000000</td>\n",
       "      <td>0.200000</td>\n",
       "      <td>262.000000</td>\n",
       "    </tr>\n",
       "    <tr>\n",
       "      <th>25%</th>\n",
       "      <td>11.000000</td>\n",
       "      <td>93.850000</td>\n",
       "      <td>9.000000</td>\n",
       "      <td>622.000000</td>\n",
       "      <td>8.393421</td>\n",
       "      <td>634.750000</td>\n",
       "    </tr>\n",
       "    <tr>\n",
       "      <th>50%</th>\n",
       "      <td>14.000000</td>\n",
       "      <td>159.450000</td>\n",
       "      <td>12.000000</td>\n",
       "      <td>661.000000</td>\n",
       "      <td>11.164103</td>\n",
       "      <td>673.500000</td>\n",
       "    </tr>\n",
       "    <tr>\n",
       "      <th>75%</th>\n",
       "      <td>18.000000</td>\n",
       "      <td>238.075000</td>\n",
       "      <td>15.000000</td>\n",
       "      <td>694.000000</td>\n",
       "      <td>15.149918</td>\n",
       "      <td>708.250000</td>\n",
       "    </tr>\n",
       "    <tr>\n",
       "      <th>max</th>\n",
       "      <td>27.000000</td>\n",
       "      <td>765.900000</td>\n",
       "      <td>23.000000</td>\n",
       "      <td>791.000000</td>\n",
       "      <td>46.223077</td>\n",
       "      <td>811.000000</td>\n",
       "    </tr>\n",
       "  </tbody>\n",
       "</table>\n",
       "</div>"
      ],
      "text/plain": [
       "       no_of_rainy_days  total_rainfall  accidents_with_fatalities  \\\n",
       "count        488.000000      488.000000                 168.000000   \n",
       "mean          14.061475      177.163730                  12.196429   \n",
       "std            4.947394      113.916029                   4.203305   \n",
       "min            1.000000        0.200000                   2.000000   \n",
       "25%           11.000000       93.850000                   9.000000   \n",
       "50%           14.000000      159.450000                  12.000000   \n",
       "75%           18.000000      238.075000                  15.000000   \n",
       "max           27.000000      765.900000                  23.000000   \n",
       "\n",
       "       accidents_with_injuries  average_rainfall  total_accidents  \n",
       "count               168.000000        488.000000       168.000000  \n",
       "mean                643.833333         12.123057       656.029762  \n",
       "std                  87.336137          5.920178        89.574672  \n",
       "min                 260.000000          0.200000       262.000000  \n",
       "25%                 622.000000          8.393421       634.750000  \n",
       "50%                 661.000000         11.164103       673.500000  \n",
       "75%                 694.000000         15.149918       708.250000  \n",
       "max                 791.000000         46.223077       811.000000  "
      ]
     },
     "execution_count": 26,
     "metadata": {},
     "output_type": "execute_result"
    }
   ],
   "source": [
    "#Summary Statistics\n",
    "df.describe()"
   ]
  },
  {
   "cell_type": "code",
   "execution_count": 27,
   "metadata": {},
   "outputs": [
    {
     "data": {
      "text/plain": [
       "['no_of_rainy_days',\n",
       " 'total_rainfall',\n",
       " 'accidents_with_fatalities',\n",
       " 'accidents_with_injuries',\n",
       " 'average_rainfall',\n",
       " 'total_accidents']"
      ]
     },
     "execution_count": 27,
     "metadata": {},
     "output_type": "execute_result"
    }
   ],
   "source": [
    "#list of column names for numeric variables for reference\n",
    "col_names = list(df.drop(columns = ['year_month','year','month']).columns.values)\n",
    "col_names"
   ]
  },
  {
   "cell_type": "code",
   "execution_count": 28,
   "metadata": {},
   "outputs": [
    {
     "data": {
      "text/plain": [
       "{'no_of_rainy_days': 4.9423221913224085,\n",
       " 'total_rainfall': 113.79925170470057,\n",
       " 'accidents_with_fatalities': nan,\n",
       " 'accidents_with_injuries': nan,\n",
       " 'average_rainfall': 5.9141087527920115,\n",
       " 'total_accidents': nan}"
      ]
     },
     "execution_count": 28,
     "metadata": {},
     "output_type": "execute_result"
    }
   ],
   "source": [
    "#creating dictionary of standard deviations for numeric variables\n",
    "sd = {\n",
    "    'no_of_rainy_days': get_stdev(df['no_of_rainy_days']),\n",
    "    'total_rainfall': get_stdev(df['total_rainfall']),\n",
    "    'accidents_with_fatalities': get_stdev(df['accidents_with_fatalities']),\n",
    "    'accidents_with_injuries': get_stdev(df['accidents_with_injuries']),\n",
    "    'average_rainfall': get_stdev(df['average_rainfall']),\n",
    "    'total_accidents': get_stdev(df['total_accidents']),\n",
    "}\n",
    "\n",
    "sd"
   ]
  },
  {
   "cell_type": "code",
   "execution_count": 29,
   "metadata": {},
   "outputs": [
    {
     "data": {
      "text/html": [
       "<div>\n",
       "<style scoped>\n",
       "    .dataframe tbody tr th:only-of-type {\n",
       "        vertical-align: middle;\n",
       "    }\n",
       "\n",
       "    .dataframe tbody tr th {\n",
       "        vertical-align: top;\n",
       "    }\n",
       "\n",
       "    .dataframe thead th {\n",
       "        text-align: right;\n",
       "    }\n",
       "</style>\n",
       "<table border=\"1\" class=\"dataframe\">\n",
       "  <thead>\n",
       "    <tr style=\"text-align: right;\">\n",
       "      <th></th>\n",
       "      <th>year_month</th>\n",
       "      <th>no_of_rainy_days</th>\n",
       "      <th>total_rainfall</th>\n",
       "      <th>accidents_with_fatalities</th>\n",
       "      <th>accidents_with_injuries</th>\n",
       "      <th>year</th>\n",
       "      <th>month</th>\n",
       "      <th>average_rainfall</th>\n",
       "      <th>total_accidents</th>\n",
       "    </tr>\n",
       "  </thead>\n",
       "  <tbody>\n",
       "    <tr>\n",
       "      <th>104</th>\n",
       "      <td>1990-09</td>\n",
       "      <td>17</td>\n",
       "      <td>204.5</td>\n",
       "      <td>NaN</td>\n",
       "      <td>NaN</td>\n",
       "      <td>1990</td>\n",
       "      <td>09</td>\n",
       "      <td>12.029412</td>\n",
       "      <td>NaN</td>\n",
       "    </tr>\n",
       "    <tr>\n",
       "      <th>107</th>\n",
       "      <td>1990-12</td>\n",
       "      <td>16</td>\n",
       "      <td>201.1</td>\n",
       "      <td>NaN</td>\n",
       "      <td>NaN</td>\n",
       "      <td>1990</td>\n",
       "      <td>12</td>\n",
       "      <td>12.568750</td>\n",
       "      <td>NaN</td>\n",
       "    </tr>\n",
       "    <tr>\n",
       "      <th>106</th>\n",
       "      <td>1990-11</td>\n",
       "      <td>17</td>\n",
       "      <td>180.4</td>\n",
       "      <td>NaN</td>\n",
       "      <td>NaN</td>\n",
       "      <td>1990</td>\n",
       "      <td>11</td>\n",
       "      <td>10.611765</td>\n",
       "      <td>NaN</td>\n",
       "    </tr>\n",
       "    <tr>\n",
       "      <th>100</th>\n",
       "      <td>1990-05</td>\n",
       "      <td>11</td>\n",
       "      <td>180.1</td>\n",
       "      <td>NaN</td>\n",
       "      <td>NaN</td>\n",
       "      <td>1990</td>\n",
       "      <td>05</td>\n",
       "      <td>16.372727</td>\n",
       "      <td>NaN</td>\n",
       "    </tr>\n",
       "    <tr>\n",
       "      <th>96</th>\n",
       "      <td>1990-01</td>\n",
       "      <td>13</td>\n",
       "      <td>147.4</td>\n",
       "      <td>NaN</td>\n",
       "      <td>NaN</td>\n",
       "      <td>1990</td>\n",
       "      <td>01</td>\n",
       "      <td>11.338462</td>\n",
       "      <td>NaN</td>\n",
       "    </tr>\n",
       "  </tbody>\n",
       "</table>\n",
       "</div>"
      ],
      "text/plain": [
       "    year_month  no_of_rainy_days  total_rainfall  accidents_with_fatalities  \\\n",
       "104    1990-09                17           204.5                        NaN   \n",
       "107    1990-12                16           201.1                        NaN   \n",
       "106    1990-11                17           180.4                        NaN   \n",
       "100    1990-05                11           180.1                        NaN   \n",
       "96     1990-01                13           147.4                        NaN   \n",
       "\n",
       "     accidents_with_injuries  year month  average_rainfall  total_accidents  \n",
       "104                      NaN  1990    09         12.029412              NaN  \n",
       "107                      NaN  1990    12         12.568750              NaN  \n",
       "106                      NaN  1990    11         10.611765              NaN  \n",
       "100                      NaN  1990    05         16.372727              NaN  \n",
       "96                       NaN  1990    01         11.338462              NaN  "
      ]
     },
     "execution_count": 29,
     "metadata": {},
     "output_type": "execute_result"
    }
   ],
   "source": [
    "#sort month in 1990 from highest rainfall to lowest\n",
    "df[df['year'] == '1990'].sort_values(by='total_rainfall', ascending = False).head()"
   ]
  },
  {
   "cell_type": "markdown",
   "metadata": {},
   "source": [
    "September had the highest rainfall in 1990."
   ]
  },
  {
   "cell_type": "code",
   "execution_count": 30,
   "metadata": {},
   "outputs": [
    {
     "data": {
      "text/html": [
       "<div>\n",
       "<style scoped>\n",
       "    .dataframe tbody tr th:only-of-type {\n",
       "        vertical-align: middle;\n",
       "    }\n",
       "\n",
       "    .dataframe tbody tr th {\n",
       "        vertical-align: top;\n",
       "    }\n",
       "\n",
       "    .dataframe thead th {\n",
       "        text-align: right;\n",
       "    }\n",
       "</style>\n",
       "<table border=\"1\" class=\"dataframe\">\n",
       "  <thead>\n",
       "    <tr style=\"text-align: right;\">\n",
       "      <th></th>\n",
       "      <th>year_month</th>\n",
       "      <th>no_of_rainy_days</th>\n",
       "      <th>total_rainfall</th>\n",
       "      <th>accidents_with_fatalities</th>\n",
       "      <th>accidents_with_injuries</th>\n",
       "      <th>year</th>\n",
       "      <th>month</th>\n",
       "      <th>average_rainfall</th>\n",
       "      <th>total_accidents</th>\n",
       "    </tr>\n",
       "  </thead>\n",
       "  <tbody>\n",
       "    <tr>\n",
       "      <th>97</th>\n",
       "      <td>1990-02</td>\n",
       "      <td>8</td>\n",
       "      <td>24.1</td>\n",
       "      <td>NaN</td>\n",
       "      <td>NaN</td>\n",
       "      <td>1990</td>\n",
       "      <td>02</td>\n",
       "      <td>3.012500</td>\n",
       "      <td>NaN</td>\n",
       "    </tr>\n",
       "    <tr>\n",
       "      <th>99</th>\n",
       "      <td>1990-04</td>\n",
       "      <td>10</td>\n",
       "      <td>52.4</td>\n",
       "      <td>NaN</td>\n",
       "      <td>NaN</td>\n",
       "      <td>1990</td>\n",
       "      <td>04</td>\n",
       "      <td>5.240000</td>\n",
       "      <td>NaN</td>\n",
       "    </tr>\n",
       "    <tr>\n",
       "      <th>105</th>\n",
       "      <td>1990-10</td>\n",
       "      <td>12</td>\n",
       "      <td>56.4</td>\n",
       "      <td>NaN</td>\n",
       "      <td>NaN</td>\n",
       "      <td>1990</td>\n",
       "      <td>10</td>\n",
       "      <td>4.700000</td>\n",
       "      <td>NaN</td>\n",
       "    </tr>\n",
       "    <tr>\n",
       "      <th>98</th>\n",
       "      <td>1990-03</td>\n",
       "      <td>4</td>\n",
       "      <td>94.2</td>\n",
       "      <td>NaN</td>\n",
       "      <td>NaN</td>\n",
       "      <td>1990</td>\n",
       "      <td>03</td>\n",
       "      <td>23.550000</td>\n",
       "      <td>NaN</td>\n",
       "    </tr>\n",
       "    <tr>\n",
       "      <th>101</th>\n",
       "      <td>1990-06</td>\n",
       "      <td>9</td>\n",
       "      <td>112.6</td>\n",
       "      <td>NaN</td>\n",
       "      <td>NaN</td>\n",
       "      <td>1990</td>\n",
       "      <td>06</td>\n",
       "      <td>12.511111</td>\n",
       "      <td>NaN</td>\n",
       "    </tr>\n",
       "  </tbody>\n",
       "</table>\n",
       "</div>"
      ],
      "text/plain": [
       "    year_month  no_of_rainy_days  total_rainfall  accidents_with_fatalities  \\\n",
       "97     1990-02                 8            24.1                        NaN   \n",
       "99     1990-04                10            52.4                        NaN   \n",
       "105    1990-10                12            56.4                        NaN   \n",
       "98     1990-03                 4            94.2                        NaN   \n",
       "101    1990-06                 9           112.6                        NaN   \n",
       "\n",
       "     accidents_with_injuries  year month  average_rainfall  total_accidents  \n",
       "97                       NaN  1990    02          3.012500              NaN  \n",
       "99                       NaN  1990    04          5.240000              NaN  \n",
       "105                      NaN  1990    10          4.700000              NaN  \n",
       "98                       NaN  1990    03         23.550000              NaN  \n",
       "101                      NaN  1990    06         12.511111              NaN  "
      ]
     },
     "execution_count": 30,
     "metadata": {},
     "output_type": "execute_result"
    }
   ],
   "source": [
    "#sort month in 1990 from lowest rainfall to highest\n",
    "df[df['year'] == '1990'].sort_values(by='total_rainfall', ascending = True).head()"
   ]
  },
  {
   "cell_type": "markdown",
   "metadata": {},
   "source": [
    "February had lowest rainfall in 1990."
   ]
  },
  {
   "cell_type": "code",
   "execution_count": 31,
   "metadata": {},
   "outputs": [
    {
     "data": {
      "text/html": [
       "<div>\n",
       "<style scoped>\n",
       "    .dataframe tbody tr th:only-of-type {\n",
       "        vertical-align: middle;\n",
       "    }\n",
       "\n",
       "    .dataframe tbody tr th {\n",
       "        vertical-align: top;\n",
       "    }\n",
       "\n",
       "    .dataframe thead th {\n",
       "        text-align: right;\n",
       "    }\n",
       "</style>\n",
       "<table border=\"1\" class=\"dataframe\">\n",
       "  <thead>\n",
       "    <tr style=\"text-align: right;\">\n",
       "      <th></th>\n",
       "      <th>year_month</th>\n",
       "      <th>no_of_rainy_days</th>\n",
       "      <th>total_rainfall</th>\n",
       "      <th>accidents_with_fatalities</th>\n",
       "      <th>accidents_with_injuries</th>\n",
       "      <th>year</th>\n",
       "      <th>month</th>\n",
       "      <th>average_rainfall</th>\n",
       "      <th>total_accidents</th>\n",
       "    </tr>\n",
       "  </thead>\n",
       "  <tbody>\n",
       "    <tr>\n",
       "      <th>226</th>\n",
       "      <td>2000-11</td>\n",
       "      <td>21</td>\n",
       "      <td>385.7</td>\n",
       "      <td>NaN</td>\n",
       "      <td>NaN</td>\n",
       "      <td>2000</td>\n",
       "      <td>11</td>\n",
       "      <td>18.366667</td>\n",
       "      <td>NaN</td>\n",
       "    </tr>\n",
       "    <tr>\n",
       "      <th>219</th>\n",
       "      <td>2000-04</td>\n",
       "      <td>20</td>\n",
       "      <td>311.6</td>\n",
       "      <td>NaN</td>\n",
       "      <td>NaN</td>\n",
       "      <td>2000</td>\n",
       "      <td>04</td>\n",
       "      <td>15.580000</td>\n",
       "      <td>NaN</td>\n",
       "    </tr>\n",
       "    <tr>\n",
       "      <th>216</th>\n",
       "      <td>2000-01</td>\n",
       "      <td>14</td>\n",
       "      <td>275.2</td>\n",
       "      <td>NaN</td>\n",
       "      <td>NaN</td>\n",
       "      <td>2000</td>\n",
       "      <td>01</td>\n",
       "      <td>19.657143</td>\n",
       "      <td>NaN</td>\n",
       "    </tr>\n",
       "    <tr>\n",
       "      <th>218</th>\n",
       "      <td>2000-03</td>\n",
       "      <td>15</td>\n",
       "      <td>238.3</td>\n",
       "      <td>NaN</td>\n",
       "      <td>NaN</td>\n",
       "      <td>2000</td>\n",
       "      <td>03</td>\n",
       "      <td>15.886667</td>\n",
       "      <td>NaN</td>\n",
       "    </tr>\n",
       "    <tr>\n",
       "      <th>217</th>\n",
       "      <td>2000-02</td>\n",
       "      <td>18</td>\n",
       "      <td>237.8</td>\n",
       "      <td>NaN</td>\n",
       "      <td>NaN</td>\n",
       "      <td>2000</td>\n",
       "      <td>02</td>\n",
       "      <td>13.211111</td>\n",
       "      <td>NaN</td>\n",
       "    </tr>\n",
       "  </tbody>\n",
       "</table>\n",
       "</div>"
      ],
      "text/plain": [
       "    year_month  no_of_rainy_days  total_rainfall  accidents_with_fatalities  \\\n",
       "226    2000-11                21           385.7                        NaN   \n",
       "219    2000-04                20           311.6                        NaN   \n",
       "216    2000-01                14           275.2                        NaN   \n",
       "218    2000-03                15           238.3                        NaN   \n",
       "217    2000-02                18           237.8                        NaN   \n",
       "\n",
       "     accidents_with_injuries  year month  average_rainfall  total_accidents  \n",
       "226                      NaN  2000    11         18.366667              NaN  \n",
       "219                      NaN  2000    04         15.580000              NaN  \n",
       "216                      NaN  2000    01         19.657143              NaN  \n",
       "218                      NaN  2000    03         15.886667              NaN  \n",
       "217                      NaN  2000    02         13.211111              NaN  "
      ]
     },
     "execution_count": 31,
     "metadata": {},
     "output_type": "execute_result"
    }
   ],
   "source": [
    "#sort month in 2000 from highest rainfall to lowest\n",
    "df[df['year'] == '2000'].sort_values(by='total_rainfall', ascending = False).head()"
   ]
  },
  {
   "cell_type": "markdown",
   "metadata": {},
   "source": [
    "November had the highest rainfall in 2000."
   ]
  },
  {
   "cell_type": "code",
   "execution_count": 32,
   "metadata": {},
   "outputs": [
    {
     "data": {
      "text/html": [
       "<div>\n",
       "<style scoped>\n",
       "    .dataframe tbody tr th:only-of-type {\n",
       "        vertical-align: middle;\n",
       "    }\n",
       "\n",
       "    .dataframe tbody tr th {\n",
       "        vertical-align: top;\n",
       "    }\n",
       "\n",
       "    .dataframe thead th {\n",
       "        text-align: right;\n",
       "    }\n",
       "</style>\n",
       "<table border=\"1\" class=\"dataframe\">\n",
       "  <thead>\n",
       "    <tr style=\"text-align: right;\">\n",
       "      <th></th>\n",
       "      <th>year_month</th>\n",
       "      <th>no_of_rainy_days</th>\n",
       "      <th>total_rainfall</th>\n",
       "      <th>accidents_with_fatalities</th>\n",
       "      <th>accidents_with_injuries</th>\n",
       "      <th>year</th>\n",
       "      <th>month</th>\n",
       "      <th>average_rainfall</th>\n",
       "      <th>total_accidents</th>\n",
       "    </tr>\n",
       "  </thead>\n",
       "  <tbody>\n",
       "    <tr>\n",
       "      <th>224</th>\n",
       "      <td>2000-09</td>\n",
       "      <td>12</td>\n",
       "      <td>81.1</td>\n",
       "      <td>NaN</td>\n",
       "      <td>NaN</td>\n",
       "      <td>2000</td>\n",
       "      <td>09</td>\n",
       "      <td>6.758333</td>\n",
       "      <td>NaN</td>\n",
       "    </tr>\n",
       "    <tr>\n",
       "      <th>220</th>\n",
       "      <td>2000-05</td>\n",
       "      <td>10</td>\n",
       "      <td>96.8</td>\n",
       "      <td>NaN</td>\n",
       "      <td>NaN</td>\n",
       "      <td>2000</td>\n",
       "      <td>05</td>\n",
       "      <td>9.680000</td>\n",
       "      <td>NaN</td>\n",
       "    </tr>\n",
       "    <tr>\n",
       "      <th>223</th>\n",
       "      <td>2000-08</td>\n",
       "      <td>18</td>\n",
       "      <td>113.5</td>\n",
       "      <td>NaN</td>\n",
       "      <td>NaN</td>\n",
       "      <td>2000</td>\n",
       "      <td>08</td>\n",
       "      <td>6.305556</td>\n",
       "      <td>NaN</td>\n",
       "    </tr>\n",
       "    <tr>\n",
       "      <th>222</th>\n",
       "      <td>2000-07</td>\n",
       "      <td>12</td>\n",
       "      <td>116.1</td>\n",
       "      <td>NaN</td>\n",
       "      <td>NaN</td>\n",
       "      <td>2000</td>\n",
       "      <td>07</td>\n",
       "      <td>9.675000</td>\n",
       "      <td>NaN</td>\n",
       "    </tr>\n",
       "    <tr>\n",
       "      <th>225</th>\n",
       "      <td>2000-10</td>\n",
       "      <td>14</td>\n",
       "      <td>120.9</td>\n",
       "      <td>NaN</td>\n",
       "      <td>NaN</td>\n",
       "      <td>2000</td>\n",
       "      <td>10</td>\n",
       "      <td>8.635714</td>\n",
       "      <td>NaN</td>\n",
       "    </tr>\n",
       "  </tbody>\n",
       "</table>\n",
       "</div>"
      ],
      "text/plain": [
       "    year_month  no_of_rainy_days  total_rainfall  accidents_with_fatalities  \\\n",
       "224    2000-09                12            81.1                        NaN   \n",
       "220    2000-05                10            96.8                        NaN   \n",
       "223    2000-08                18           113.5                        NaN   \n",
       "222    2000-07                12           116.1                        NaN   \n",
       "225    2000-10                14           120.9                        NaN   \n",
       "\n",
       "     accidents_with_injuries  year month  average_rainfall  total_accidents  \n",
       "224                      NaN  2000    09          6.758333              NaN  \n",
       "220                      NaN  2000    05          9.680000              NaN  \n",
       "223                      NaN  2000    08          6.305556              NaN  \n",
       "222                      NaN  2000    07          9.675000              NaN  \n",
       "225                      NaN  2000    10          8.635714              NaN  "
      ]
     },
     "execution_count": 32,
     "metadata": {},
     "output_type": "execute_result"
    }
   ],
   "source": [
    "#sort month in 2000 from lowest rainfall to highest\n",
    "df[df['year'] == '2000'].sort_values(by='total_rainfall', ascending = True).head()"
   ]
  },
  {
   "cell_type": "markdown",
   "metadata": {},
   "source": [
    "September had the lowest rainfall in 2000."
   ]
  },
  {
   "cell_type": "code",
   "execution_count": 33,
   "metadata": {},
   "outputs": [
    {
     "data": {
      "text/html": [
       "<div>\n",
       "<style scoped>\n",
       "    .dataframe tbody tr th:only-of-type {\n",
       "        vertical-align: middle;\n",
       "    }\n",
       "\n",
       "    .dataframe tbody tr th {\n",
       "        vertical-align: top;\n",
       "    }\n",
       "\n",
       "    .dataframe thead th {\n",
       "        text-align: right;\n",
       "    }\n",
       "</style>\n",
       "<table border=\"1\" class=\"dataframe\">\n",
       "  <thead>\n",
       "    <tr style=\"text-align: right;\">\n",
       "      <th></th>\n",
       "      <th>year_month</th>\n",
       "      <th>no_of_rainy_days</th>\n",
       "      <th>total_rainfall</th>\n",
       "      <th>accidents_with_fatalities</th>\n",
       "      <th>accidents_with_injuries</th>\n",
       "      <th>year</th>\n",
       "      <th>month</th>\n",
       "      <th>average_rainfall</th>\n",
       "      <th>total_accidents</th>\n",
       "    </tr>\n",
       "  </thead>\n",
       "  <tbody>\n",
       "    <tr>\n",
       "      <th>342</th>\n",
       "      <td>2010-07</td>\n",
       "      <td>18</td>\n",
       "      <td>298.5</td>\n",
       "      <td>16.0</td>\n",
       "      <td>747.0</td>\n",
       "      <td>2010</td>\n",
       "      <td>07</td>\n",
       "      <td>16.583333</td>\n",
       "      <td>763.0</td>\n",
       "    </tr>\n",
       "    <tr>\n",
       "      <th>346</th>\n",
       "      <td>2010-11</td>\n",
       "      <td>21</td>\n",
       "      <td>278.8</td>\n",
       "      <td>14.0</td>\n",
       "      <td>730.0</td>\n",
       "      <td>2010</td>\n",
       "      <td>11</td>\n",
       "      <td>13.276190</td>\n",
       "      <td>744.0</td>\n",
       "    </tr>\n",
       "    <tr>\n",
       "      <th>341</th>\n",
       "      <td>2010-06</td>\n",
       "      <td>19</td>\n",
       "      <td>240.5</td>\n",
       "      <td>15.0</td>\n",
       "      <td>651.0</td>\n",
       "      <td>2010</td>\n",
       "      <td>06</td>\n",
       "      <td>12.657895</td>\n",
       "      <td>666.0</td>\n",
       "    </tr>\n",
       "    <tr>\n",
       "      <th>338</th>\n",
       "      <td>2010-03</td>\n",
       "      <td>11</td>\n",
       "      <td>238.0</td>\n",
       "      <td>22.0</td>\n",
       "      <td>758.0</td>\n",
       "      <td>2010</td>\n",
       "      <td>03</td>\n",
       "      <td>21.636364</td>\n",
       "      <td>780.0</td>\n",
       "    </tr>\n",
       "    <tr>\n",
       "      <th>347</th>\n",
       "      <td>2010-12</td>\n",
       "      <td>14</td>\n",
       "      <td>181.4</td>\n",
       "      <td>14.0</td>\n",
       "      <td>644.0</td>\n",
       "      <td>2010</td>\n",
       "      <td>12</td>\n",
       "      <td>12.957143</td>\n",
       "      <td>658.0</td>\n",
       "    </tr>\n",
       "  </tbody>\n",
       "</table>\n",
       "</div>"
      ],
      "text/plain": [
       "    year_month  no_of_rainy_days  total_rainfall  accidents_with_fatalities  \\\n",
       "342    2010-07                18           298.5                       16.0   \n",
       "346    2010-11                21           278.8                       14.0   \n",
       "341    2010-06                19           240.5                       15.0   \n",
       "338    2010-03                11           238.0                       22.0   \n",
       "347    2010-12                14           181.4                       14.0   \n",
       "\n",
       "     accidents_with_injuries  year month  average_rainfall  total_accidents  \n",
       "342                    747.0  2010    07         16.583333            763.0  \n",
       "346                    730.0  2010    11         13.276190            744.0  \n",
       "341                    651.0  2010    06         12.657895            666.0  \n",
       "338                    758.0  2010    03         21.636364            780.0  \n",
       "347                    644.0  2010    12         12.957143            658.0  "
      ]
     },
     "execution_count": 33,
     "metadata": {},
     "output_type": "execute_result"
    }
   ],
   "source": [
    "#sort month in 2010 from highest rainfall to lowest\n",
    "df[df['year'] == '2010'].sort_values(by='total_rainfall', ascending = False).head()"
   ]
  },
  {
   "cell_type": "markdown",
   "metadata": {},
   "source": [
    "July had the highest rainfall in 2010."
   ]
  },
  {
   "cell_type": "code",
   "execution_count": 34,
   "metadata": {},
   "outputs": [
    {
     "data": {
      "text/html": [
       "<div>\n",
       "<style scoped>\n",
       "    .dataframe tbody tr th:only-of-type {\n",
       "        vertical-align: middle;\n",
       "    }\n",
       "\n",
       "    .dataframe tbody tr th {\n",
       "        vertical-align: top;\n",
       "    }\n",
       "\n",
       "    .dataframe thead th {\n",
       "        text-align: right;\n",
       "    }\n",
       "</style>\n",
       "<table border=\"1\" class=\"dataframe\">\n",
       "  <thead>\n",
       "    <tr style=\"text-align: right;\">\n",
       "      <th></th>\n",
       "      <th>year_month</th>\n",
       "      <th>no_of_rainy_days</th>\n",
       "      <th>total_rainfall</th>\n",
       "      <th>accidents_with_fatalities</th>\n",
       "      <th>accidents_with_injuries</th>\n",
       "      <th>year</th>\n",
       "      <th>month</th>\n",
       "      <th>average_rainfall</th>\n",
       "      <th>total_accidents</th>\n",
       "    </tr>\n",
       "  </thead>\n",
       "  <tbody>\n",
       "    <tr>\n",
       "      <th>337</th>\n",
       "      <td>2010-02</td>\n",
       "      <td>4</td>\n",
       "      <td>6.3</td>\n",
       "      <td>7.0</td>\n",
       "      <td>658.0</td>\n",
       "      <td>2010</td>\n",
       "      <td>02</td>\n",
       "      <td>1.575000</td>\n",
       "      <td>665.0</td>\n",
       "    </tr>\n",
       "    <tr>\n",
       "      <th>336</th>\n",
       "      <td>2010-01</td>\n",
       "      <td>10</td>\n",
       "      <td>69.5</td>\n",
       "      <td>17.0</td>\n",
       "      <td>663.0</td>\n",
       "      <td>2010</td>\n",
       "      <td>01</td>\n",
       "      <td>6.950000</td>\n",
       "      <td>680.0</td>\n",
       "    </tr>\n",
       "    <tr>\n",
       "      <th>344</th>\n",
       "      <td>2010-09</td>\n",
       "      <td>13</td>\n",
       "      <td>121.5</td>\n",
       "      <td>14.0</td>\n",
       "      <td>738.0</td>\n",
       "      <td>2010</td>\n",
       "      <td>09</td>\n",
       "      <td>9.346154</td>\n",
       "      <td>752.0</td>\n",
       "    </tr>\n",
       "    <tr>\n",
       "      <th>340</th>\n",
       "      <td>2010-05</td>\n",
       "      <td>17</td>\n",
       "      <td>157.5</td>\n",
       "      <td>18.0</td>\n",
       "      <td>759.0</td>\n",
       "      <td>2010</td>\n",
       "      <td>05</td>\n",
       "      <td>9.264706</td>\n",
       "      <td>777.0</td>\n",
       "    </tr>\n",
       "    <tr>\n",
       "      <th>343</th>\n",
       "      <td>2010-08</td>\n",
       "      <td>16</td>\n",
       "      <td>158.4</td>\n",
       "      <td>20.0</td>\n",
       "      <td>791.0</td>\n",
       "      <td>2010</td>\n",
       "      <td>08</td>\n",
       "      <td>9.900000</td>\n",
       "      <td>811.0</td>\n",
       "    </tr>\n",
       "  </tbody>\n",
       "</table>\n",
       "</div>"
      ],
      "text/plain": [
       "    year_month  no_of_rainy_days  total_rainfall  accidents_with_fatalities  \\\n",
       "337    2010-02                 4             6.3                        7.0   \n",
       "336    2010-01                10            69.5                       17.0   \n",
       "344    2010-09                13           121.5                       14.0   \n",
       "340    2010-05                17           157.5                       18.0   \n",
       "343    2010-08                16           158.4                       20.0   \n",
       "\n",
       "     accidents_with_injuries  year month  average_rainfall  total_accidents  \n",
       "337                    658.0  2010    02          1.575000            665.0  \n",
       "336                    663.0  2010    01          6.950000            680.0  \n",
       "344                    738.0  2010    09          9.346154            752.0  \n",
       "340                    759.0  2010    05          9.264706            777.0  \n",
       "343                    791.0  2010    08          9.900000            811.0  "
      ]
     },
     "execution_count": 34,
     "metadata": {},
     "output_type": "execute_result"
    }
   ],
   "source": [
    "#sort month in 2010 from lowest rainfall to highest\n",
    "df[df['year'] == '2010'].sort_values(by='total_rainfall', ascending = True).head()"
   ]
  },
  {
   "cell_type": "markdown",
   "metadata": {},
   "source": [
    "February had the lowest rainfall in 2010."
   ]
  },
  {
   "cell_type": "code",
   "execution_count": 35,
   "metadata": {},
   "outputs": [
    {
     "data": {
      "text/html": [
       "<div>\n",
       "<style scoped>\n",
       "    .dataframe tbody tr th:only-of-type {\n",
       "        vertical-align: middle;\n",
       "    }\n",
       "\n",
       "    .dataframe tbody tr th {\n",
       "        vertical-align: top;\n",
       "    }\n",
       "\n",
       "    .dataframe thead th {\n",
       "        text-align: right;\n",
       "    }\n",
       "</style>\n",
       "<table border=\"1\" class=\"dataframe\">\n",
       "  <thead>\n",
       "    <tr style=\"text-align: right;\">\n",
       "      <th></th>\n",
       "      <th>year_month</th>\n",
       "      <th>no_of_rainy_days</th>\n",
       "      <th>total_rainfall</th>\n",
       "      <th>accidents_with_fatalities</th>\n",
       "      <th>accidents_with_injuries</th>\n",
       "      <th>year</th>\n",
       "      <th>month</th>\n",
       "      <th>average_rainfall</th>\n",
       "      <th>total_accidents</th>\n",
       "    </tr>\n",
       "  </thead>\n",
       "  <tbody>\n",
       "    <tr>\n",
       "      <th>460</th>\n",
       "      <td>2020-05</td>\n",
       "      <td>16</td>\n",
       "      <td>255.6</td>\n",
       "      <td>2.0</td>\n",
       "      <td>260.0</td>\n",
       "      <td>2020</td>\n",
       "      <td>05</td>\n",
       "      <td>15.975000</td>\n",
       "      <td>262.0</td>\n",
       "    </tr>\n",
       "    <tr>\n",
       "      <th>467</th>\n",
       "      <td>2020-12</td>\n",
       "      <td>20</td>\n",
       "      <td>253.2</td>\n",
       "      <td>4.0</td>\n",
       "      <td>584.0</td>\n",
       "      <td>2020</td>\n",
       "      <td>12</td>\n",
       "      <td>12.660000</td>\n",
       "      <td>588.0</td>\n",
       "    </tr>\n",
       "    <tr>\n",
       "      <th>461</th>\n",
       "      <td>2020-06</td>\n",
       "      <td>21</td>\n",
       "      <td>233.8</td>\n",
       "      <td>7.0</td>\n",
       "      <td>358.0</td>\n",
       "      <td>2020</td>\n",
       "      <td>06</td>\n",
       "      <td>11.133333</td>\n",
       "      <td>365.0</td>\n",
       "    </tr>\n",
       "    <tr>\n",
       "      <th>466</th>\n",
       "      <td>2020-11</td>\n",
       "      <td>19</td>\n",
       "      <td>220.6</td>\n",
       "      <td>6.0</td>\n",
       "      <td>479.0</td>\n",
       "      <td>2020</td>\n",
       "      <td>11</td>\n",
       "      <td>11.610526</td>\n",
       "      <td>485.0</td>\n",
       "    </tr>\n",
       "    <tr>\n",
       "      <th>459</th>\n",
       "      <td>2020-04</td>\n",
       "      <td>12</td>\n",
       "      <td>188.0</td>\n",
       "      <td>10.0</td>\n",
       "      <td>286.0</td>\n",
       "      <td>2020</td>\n",
       "      <td>04</td>\n",
       "      <td>15.666667</td>\n",
       "      <td>296.0</td>\n",
       "    </tr>\n",
       "  </tbody>\n",
       "</table>\n",
       "</div>"
      ],
      "text/plain": [
       "    year_month  no_of_rainy_days  total_rainfall  accidents_with_fatalities  \\\n",
       "460    2020-05                16           255.6                        2.0   \n",
       "467    2020-12                20           253.2                        4.0   \n",
       "461    2020-06                21           233.8                        7.0   \n",
       "466    2020-11                19           220.6                        6.0   \n",
       "459    2020-04                12           188.0                       10.0   \n",
       "\n",
       "     accidents_with_injuries  year month  average_rainfall  total_accidents  \n",
       "460                    260.0  2020    05         15.975000            262.0  \n",
       "467                    584.0  2020    12         12.660000            588.0  \n",
       "461                    358.0  2020    06         11.133333            365.0  \n",
       "466                    479.0  2020    11         11.610526            485.0  \n",
       "459                    286.0  2020    04         15.666667            296.0  "
      ]
     },
     "execution_count": 35,
     "metadata": {},
     "output_type": "execute_result"
    }
   ],
   "source": [
    "#sort month in 2020 from highest rainfall to lowest\n",
    "df[df['year'] == '2020'].sort_values(by='total_rainfall', ascending = False).head()"
   ]
  },
  {
   "cell_type": "markdown",
   "metadata": {},
   "source": [
    "May had the highest rainfall in 2020."
   ]
  },
  {
   "cell_type": "code",
   "execution_count": 36,
   "metadata": {},
   "outputs": [
    {
     "data": {
      "text/html": [
       "<div>\n",
       "<style scoped>\n",
       "    .dataframe tbody tr th:only-of-type {\n",
       "        vertical-align: middle;\n",
       "    }\n",
       "\n",
       "    .dataframe tbody tr th {\n",
       "        vertical-align: top;\n",
       "    }\n",
       "\n",
       "    .dataframe thead th {\n",
       "        text-align: right;\n",
       "    }\n",
       "</style>\n",
       "<table border=\"1\" class=\"dataframe\">\n",
       "  <thead>\n",
       "    <tr style=\"text-align: right;\">\n",
       "      <th></th>\n",
       "      <th>year_month</th>\n",
       "      <th>no_of_rainy_days</th>\n",
       "      <th>total_rainfall</th>\n",
       "      <th>accidents_with_fatalities</th>\n",
       "      <th>accidents_with_injuries</th>\n",
       "      <th>year</th>\n",
       "      <th>month</th>\n",
       "      <th>average_rainfall</th>\n",
       "      <th>total_accidents</th>\n",
       "    </tr>\n",
       "  </thead>\n",
       "  <tbody>\n",
       "    <tr>\n",
       "      <th>457</th>\n",
       "      <td>2020-02</td>\n",
       "      <td>8</td>\n",
       "      <td>65.0</td>\n",
       "      <td>9.0</td>\n",
       "      <td>480.0</td>\n",
       "      <td>2020</td>\n",
       "      <td>02</td>\n",
       "      <td>8.125000</td>\n",
       "      <td>489.0</td>\n",
       "    </tr>\n",
       "    <tr>\n",
       "      <th>465</th>\n",
       "      <td>2020-10</td>\n",
       "      <td>16</td>\n",
       "      <td>78.8</td>\n",
       "      <td>5.0</td>\n",
       "      <td>507.0</td>\n",
       "      <td>2020</td>\n",
       "      <td>10</td>\n",
       "      <td>4.925000</td>\n",
       "      <td>512.0</td>\n",
       "    </tr>\n",
       "    <tr>\n",
       "      <th>456</th>\n",
       "      <td>2020-01</td>\n",
       "      <td>6</td>\n",
       "      <td>88.4</td>\n",
       "      <td>11.0</td>\n",
       "      <td>636.0</td>\n",
       "      <td>2020</td>\n",
       "      <td>01</td>\n",
       "      <td>14.733333</td>\n",
       "      <td>647.0</td>\n",
       "    </tr>\n",
       "    <tr>\n",
       "      <th>463</th>\n",
       "      <td>2020-08</td>\n",
       "      <td>12</td>\n",
       "      <td>103.4</td>\n",
       "      <td>9.0</td>\n",
       "      <td>428.0</td>\n",
       "      <td>2020</td>\n",
       "      <td>08</td>\n",
       "      <td>8.616667</td>\n",
       "      <td>437.0</td>\n",
       "    </tr>\n",
       "    <tr>\n",
       "      <th>458</th>\n",
       "      <td>2020-03</td>\n",
       "      <td>8</td>\n",
       "      <td>108.8</td>\n",
       "      <td>10.0</td>\n",
       "      <td>510.0</td>\n",
       "      <td>2020</td>\n",
       "      <td>03</td>\n",
       "      <td>13.600000</td>\n",
       "      <td>520.0</td>\n",
       "    </tr>\n",
       "  </tbody>\n",
       "</table>\n",
       "</div>"
      ],
      "text/plain": [
       "    year_month  no_of_rainy_days  total_rainfall  accidents_with_fatalities  \\\n",
       "457    2020-02                 8            65.0                        9.0   \n",
       "465    2020-10                16            78.8                        5.0   \n",
       "456    2020-01                 6            88.4                       11.0   \n",
       "463    2020-08                12           103.4                        9.0   \n",
       "458    2020-03                 8           108.8                       10.0   \n",
       "\n",
       "     accidents_with_injuries  year month  average_rainfall  total_accidents  \n",
       "457                    480.0  2020    02          8.125000            489.0  \n",
       "465                    507.0  2020    10          4.925000            512.0  \n",
       "456                    636.0  2020    01         14.733333            647.0  \n",
       "463                    428.0  2020    08          8.616667            437.0  \n",
       "458                    510.0  2020    03         13.600000            520.0  "
      ]
     },
     "execution_count": 36,
     "metadata": {},
     "output_type": "execute_result"
    }
   ],
   "source": [
    "#sort month in 2020 from lowest rainfall to highest\n",
    "df[df['year'] == '2020'].sort_values(by='total_rainfall', ascending = True).head()"
   ]
  },
  {
   "cell_type": "markdown",
   "metadata": {},
   "source": [
    "February had the lowest rainfall in 2020."
   ]
  },
  {
   "cell_type": "code",
   "execution_count": 37,
   "metadata": {},
   "outputs": [
    {
     "name": "stderr",
     "output_type": "stream",
     "text": [
      "/var/folders/3n/fkv2x4vs6_jc1rvhs53fssxr0000gn/T/ipykernel_6023/641648685.py:2: FutureWarning: The default value of numeric_only in DataFrameGroupBy.sum is deprecated. In a future version, numeric_only will default to False. Either specify numeric_only or select only columns which should be valid for the function.\n",
      "  df.groupby('year').sum()[['total_rainfall']].sort_values(by='total_rainfall', ascending = False).head()\n"
     ]
    },
    {
     "data": {
      "text/html": [
       "<div>\n",
       "<style scoped>\n",
       "    .dataframe tbody tr th:only-of-type {\n",
       "        vertical-align: middle;\n",
       "    }\n",
       "\n",
       "    .dataframe tbody tr th {\n",
       "        vertical-align: top;\n",
       "    }\n",
       "\n",
       "    .dataframe thead th {\n",
       "        text-align: right;\n",
       "    }\n",
       "</style>\n",
       "<table border=\"1\" class=\"dataframe\">\n",
       "  <thead>\n",
       "    <tr style=\"text-align: right;\">\n",
       "      <th></th>\n",
       "      <th>total_rainfall</th>\n",
       "    </tr>\n",
       "    <tr>\n",
       "      <th>year</th>\n",
       "      <th></th>\n",
       "    </tr>\n",
       "  </thead>\n",
       "  <tbody>\n",
       "    <tr>\n",
       "      <th>2007</th>\n",
       "      <td>2886.2</td>\n",
       "    </tr>\n",
       "    <tr>\n",
       "      <th>2021</th>\n",
       "      <td>2809.6</td>\n",
       "    </tr>\n",
       "    <tr>\n",
       "      <th>2001</th>\n",
       "      <td>2783.1</td>\n",
       "    </tr>\n",
       "    <tr>\n",
       "      <th>2006</th>\n",
       "      <td>2753.2</td>\n",
       "    </tr>\n",
       "    <tr>\n",
       "      <th>2013</th>\n",
       "      <td>2748.4</td>\n",
       "    </tr>\n",
       "  </tbody>\n",
       "</table>\n",
       "</div>"
      ],
      "text/plain": [
       "      total_rainfall\n",
       "year                \n",
       "2007          2886.2\n",
       "2021          2809.6\n",
       "2001          2783.1\n",
       "2006          2753.2\n",
       "2013          2748.4"
      ]
     },
     "execution_count": 37,
     "metadata": {},
     "output_type": "execute_result"
    }
   ],
   "source": [
    "#sort year from highest rainfall to lowest\n",
    "df.groupby('year').sum()[['total_rainfall']].sort_values(by='total_rainfall', ascending = False).head()"
   ]
  },
  {
   "cell_type": "markdown",
   "metadata": {},
   "source": [
    "2007 had the highest rainfall."
   ]
  },
  {
   "cell_type": "code",
   "execution_count": 38,
   "metadata": {},
   "outputs": [
    {
     "name": "stderr",
     "output_type": "stream",
     "text": [
      "/var/folders/3n/fkv2x4vs6_jc1rvhs53fssxr0000gn/T/ipykernel_6023/912332216.py:2: FutureWarning: The default value of numeric_only in DataFrameGroupBy.sum is deprecated. In a future version, numeric_only will default to False. Either specify numeric_only or select only columns which should be valid for the function.\n",
      "  df.groupby('year').sum()[['total_rainfall']].sort_values(by='total_rainfall', ascending = True).head()\n"
     ]
    },
    {
     "data": {
      "text/html": [
       "<div>\n",
       "<style scoped>\n",
       "    .dataframe tbody tr th:only-of-type {\n",
       "        vertical-align: middle;\n",
       "    }\n",
       "\n",
       "    .dataframe tbody tr th {\n",
       "        vertical-align: top;\n",
       "    }\n",
       "\n",
       "    .dataframe thead th {\n",
       "        text-align: right;\n",
       "    }\n",
       "</style>\n",
       "<table border=\"1\" class=\"dataframe\">\n",
       "  <thead>\n",
       "    <tr style=\"text-align: right;\">\n",
       "      <th></th>\n",
       "      <th>total_rainfall</th>\n",
       "    </tr>\n",
       "    <tr>\n",
       "      <th>year</th>\n",
       "      <th></th>\n",
       "    </tr>\n",
       "  </thead>\n",
       "  <tbody>\n",
       "    <tr>\n",
       "      <th>1997</th>\n",
       "      <td>1118.9</td>\n",
       "    </tr>\n",
       "    <tr>\n",
       "      <th>2015</th>\n",
       "      <td>1267.1</td>\n",
       "    </tr>\n",
       "    <tr>\n",
       "      <th>2022</th>\n",
       "      <td>1278.0</td>\n",
       "    </tr>\n",
       "    <tr>\n",
       "      <th>2019</th>\n",
       "      <td>1367.5</td>\n",
       "    </tr>\n",
       "    <tr>\n",
       "      <th>1985</th>\n",
       "      <td>1483.9</td>\n",
       "    </tr>\n",
       "  </tbody>\n",
       "</table>\n",
       "</div>"
      ],
      "text/plain": [
       "      total_rainfall\n",
       "year                \n",
       "1997          1118.9\n",
       "2015          1267.1\n",
       "2022          1278.0\n",
       "2019          1367.5\n",
       "1985          1483.9"
      ]
     },
     "execution_count": 38,
     "metadata": {},
     "output_type": "execute_result"
    }
   ],
   "source": [
    "#sort year from lowest rainfall to highest\n",
    "df.groupby('year').sum()[['total_rainfall']].sort_values(by='total_rainfall', ascending = True).head()"
   ]
  },
  {
   "cell_type": "markdown",
   "metadata": {},
   "source": [
    "1997 had the lowest rainfall."
   ]
  },
  {
   "cell_type": "code",
   "execution_count": 39,
   "metadata": {},
   "outputs": [
    {
     "data": {
      "text/html": [
       "<div>\n",
       "<style scoped>\n",
       "    .dataframe tbody tr th:only-of-type {\n",
       "        vertical-align: middle;\n",
       "    }\n",
       "\n",
       "    .dataframe tbody tr th {\n",
       "        vertical-align: top;\n",
       "    }\n",
       "\n",
       "    .dataframe thead th {\n",
       "        text-align: right;\n",
       "    }\n",
       "</style>\n",
       "<table border=\"1\" class=\"dataframe\">\n",
       "  <thead>\n",
       "    <tr style=\"text-align: right;\">\n",
       "      <th></th>\n",
       "      <th>year_month</th>\n",
       "      <th>no_of_rainy_days</th>\n",
       "      <th>total_rainfall</th>\n",
       "      <th>accidents_with_fatalities</th>\n",
       "      <th>accidents_with_injuries</th>\n",
       "      <th>year</th>\n",
       "      <th>month</th>\n",
       "      <th>average_rainfall</th>\n",
       "      <th>total_accidents</th>\n",
       "    </tr>\n",
       "  </thead>\n",
       "  <tbody>\n",
       "    <tr>\n",
       "      <th>104</th>\n",
       "      <td>1990-09</td>\n",
       "      <td>17</td>\n",
       "      <td>204.5</td>\n",
       "      <td>NaN</td>\n",
       "      <td>NaN</td>\n",
       "      <td>1990</td>\n",
       "      <td>09</td>\n",
       "      <td>12.029412</td>\n",
       "      <td>NaN</td>\n",
       "    </tr>\n",
       "    <tr>\n",
       "      <th>106</th>\n",
       "      <td>1990-11</td>\n",
       "      <td>17</td>\n",
       "      <td>180.4</td>\n",
       "      <td>NaN</td>\n",
       "      <td>NaN</td>\n",
       "      <td>1990</td>\n",
       "      <td>11</td>\n",
       "      <td>10.611765</td>\n",
       "      <td>NaN</td>\n",
       "    </tr>\n",
       "    <tr>\n",
       "      <th>107</th>\n",
       "      <td>1990-12</td>\n",
       "      <td>16</td>\n",
       "      <td>201.1</td>\n",
       "      <td>NaN</td>\n",
       "      <td>NaN</td>\n",
       "      <td>1990</td>\n",
       "      <td>12</td>\n",
       "      <td>12.568750</td>\n",
       "      <td>NaN</td>\n",
       "    </tr>\n",
       "    <tr>\n",
       "      <th>96</th>\n",
       "      <td>1990-01</td>\n",
       "      <td>13</td>\n",
       "      <td>147.4</td>\n",
       "      <td>NaN</td>\n",
       "      <td>NaN</td>\n",
       "      <td>1990</td>\n",
       "      <td>01</td>\n",
       "      <td>11.338462</td>\n",
       "      <td>NaN</td>\n",
       "    </tr>\n",
       "    <tr>\n",
       "      <th>103</th>\n",
       "      <td>1990-08</td>\n",
       "      <td>13</td>\n",
       "      <td>146.6</td>\n",
       "      <td>NaN</td>\n",
       "      <td>NaN</td>\n",
       "      <td>1990</td>\n",
       "      <td>08</td>\n",
       "      <td>11.276923</td>\n",
       "      <td>NaN</td>\n",
       "    </tr>\n",
       "  </tbody>\n",
       "</table>\n",
       "</div>"
      ],
      "text/plain": [
       "    year_month  no_of_rainy_days  total_rainfall  accidents_with_fatalities  \\\n",
       "104    1990-09                17           204.5                        NaN   \n",
       "106    1990-11                17           180.4                        NaN   \n",
       "107    1990-12                16           201.1                        NaN   \n",
       "96     1990-01                13           147.4                        NaN   \n",
       "103    1990-08                13           146.6                        NaN   \n",
       "\n",
       "     accidents_with_injuries  year month  average_rainfall  total_accidents  \n",
       "104                      NaN  1990    09         12.029412              NaN  \n",
       "106                      NaN  1990    11         10.611765              NaN  \n",
       "107                      NaN  1990    12         12.568750              NaN  \n",
       "96                       NaN  1990    01         11.338462              NaN  \n",
       "103                      NaN  1990    08         11.276923              NaN  "
      ]
     },
     "execution_count": 39,
     "metadata": {},
     "output_type": "execute_result"
    }
   ],
   "source": [
    "#sort month in 1990 from lowest number of rainy days to highest\n",
    "df[df['year'] == '1990'].sort_values(by='no_of_rainy_days', ascending = False).head()"
   ]
  },
  {
   "cell_type": "markdown",
   "metadata": {},
   "source": [
    "September had highest number of rainy days in 1990."
   ]
  },
  {
   "cell_type": "code",
   "execution_count": 40,
   "metadata": {},
   "outputs": [
    {
     "data": {
      "text/html": [
       "<div>\n",
       "<style scoped>\n",
       "    .dataframe tbody tr th:only-of-type {\n",
       "        vertical-align: middle;\n",
       "    }\n",
       "\n",
       "    .dataframe tbody tr th {\n",
       "        vertical-align: top;\n",
       "    }\n",
       "\n",
       "    .dataframe thead th {\n",
       "        text-align: right;\n",
       "    }\n",
       "</style>\n",
       "<table border=\"1\" class=\"dataframe\">\n",
       "  <thead>\n",
       "    <tr style=\"text-align: right;\">\n",
       "      <th></th>\n",
       "      <th>year_month</th>\n",
       "      <th>no_of_rainy_days</th>\n",
       "      <th>total_rainfall</th>\n",
       "      <th>accidents_with_fatalities</th>\n",
       "      <th>accidents_with_injuries</th>\n",
       "      <th>year</th>\n",
       "      <th>month</th>\n",
       "      <th>average_rainfall</th>\n",
       "      <th>total_accidents</th>\n",
       "    </tr>\n",
       "  </thead>\n",
       "  <tbody>\n",
       "    <tr>\n",
       "      <th>98</th>\n",
       "      <td>1990-03</td>\n",
       "      <td>4</td>\n",
       "      <td>94.2</td>\n",
       "      <td>NaN</td>\n",
       "      <td>NaN</td>\n",
       "      <td>1990</td>\n",
       "      <td>03</td>\n",
       "      <td>23.550000</td>\n",
       "      <td>NaN</td>\n",
       "    </tr>\n",
       "    <tr>\n",
       "      <th>97</th>\n",
       "      <td>1990-02</td>\n",
       "      <td>8</td>\n",
       "      <td>24.1</td>\n",
       "      <td>NaN</td>\n",
       "      <td>NaN</td>\n",
       "      <td>1990</td>\n",
       "      <td>02</td>\n",
       "      <td>3.012500</td>\n",
       "      <td>NaN</td>\n",
       "    </tr>\n",
       "    <tr>\n",
       "      <th>101</th>\n",
       "      <td>1990-06</td>\n",
       "      <td>9</td>\n",
       "      <td>112.6</td>\n",
       "      <td>NaN</td>\n",
       "      <td>NaN</td>\n",
       "      <td>1990</td>\n",
       "      <td>06</td>\n",
       "      <td>12.511111</td>\n",
       "      <td>NaN</td>\n",
       "    </tr>\n",
       "    <tr>\n",
       "      <th>99</th>\n",
       "      <td>1990-04</td>\n",
       "      <td>10</td>\n",
       "      <td>52.4</td>\n",
       "      <td>NaN</td>\n",
       "      <td>NaN</td>\n",
       "      <td>1990</td>\n",
       "      <td>04</td>\n",
       "      <td>5.240000</td>\n",
       "      <td>NaN</td>\n",
       "    </tr>\n",
       "    <tr>\n",
       "      <th>100</th>\n",
       "      <td>1990-05</td>\n",
       "      <td>11</td>\n",
       "      <td>180.1</td>\n",
       "      <td>NaN</td>\n",
       "      <td>NaN</td>\n",
       "      <td>1990</td>\n",
       "      <td>05</td>\n",
       "      <td>16.372727</td>\n",
       "      <td>NaN</td>\n",
       "    </tr>\n",
       "  </tbody>\n",
       "</table>\n",
       "</div>"
      ],
      "text/plain": [
       "    year_month  no_of_rainy_days  total_rainfall  accidents_with_fatalities  \\\n",
       "98     1990-03                 4            94.2                        NaN   \n",
       "97     1990-02                 8            24.1                        NaN   \n",
       "101    1990-06                 9           112.6                        NaN   \n",
       "99     1990-04                10            52.4                        NaN   \n",
       "100    1990-05                11           180.1                        NaN   \n",
       "\n",
       "     accidents_with_injuries  year month  average_rainfall  total_accidents  \n",
       "98                       NaN  1990    03         23.550000              NaN  \n",
       "97                       NaN  1990    02          3.012500              NaN  \n",
       "101                      NaN  1990    06         12.511111              NaN  \n",
       "99                       NaN  1990    04          5.240000              NaN  \n",
       "100                      NaN  1990    05         16.372727              NaN  "
      ]
     },
     "execution_count": 40,
     "metadata": {},
     "output_type": "execute_result"
    }
   ],
   "source": [
    "#sort month in 1990 from highest number of rainy days to lowest\n",
    "df[df['year'] == '1990'].sort_values(by='no_of_rainy_days', ascending = True).head()"
   ]
  },
  {
   "cell_type": "markdown",
   "metadata": {},
   "source": [
    "March had lowest number of rainy days in 1990."
   ]
  },
  {
   "cell_type": "code",
   "execution_count": 41,
   "metadata": {},
   "outputs": [
    {
     "data": {
      "text/html": [
       "<div>\n",
       "<style scoped>\n",
       "    .dataframe tbody tr th:only-of-type {\n",
       "        vertical-align: middle;\n",
       "    }\n",
       "\n",
       "    .dataframe tbody tr th {\n",
       "        vertical-align: top;\n",
       "    }\n",
       "\n",
       "    .dataframe thead th {\n",
       "        text-align: right;\n",
       "    }\n",
       "</style>\n",
       "<table border=\"1\" class=\"dataframe\">\n",
       "  <thead>\n",
       "    <tr style=\"text-align: right;\">\n",
       "      <th></th>\n",
       "      <th>year_month</th>\n",
       "      <th>no_of_rainy_days</th>\n",
       "      <th>total_rainfall</th>\n",
       "      <th>accidents_with_fatalities</th>\n",
       "      <th>accidents_with_injuries</th>\n",
       "      <th>year</th>\n",
       "      <th>month</th>\n",
       "      <th>average_rainfall</th>\n",
       "      <th>total_accidents</th>\n",
       "    </tr>\n",
       "  </thead>\n",
       "  <tbody>\n",
       "    <tr>\n",
       "      <th>226</th>\n",
       "      <td>2000-11</td>\n",
       "      <td>21</td>\n",
       "      <td>385.7</td>\n",
       "      <td>NaN</td>\n",
       "      <td>NaN</td>\n",
       "      <td>2000</td>\n",
       "      <td>11</td>\n",
       "      <td>18.366667</td>\n",
       "      <td>NaN</td>\n",
       "    </tr>\n",
       "    <tr>\n",
       "      <th>219</th>\n",
       "      <td>2000-04</td>\n",
       "      <td>20</td>\n",
       "      <td>311.6</td>\n",
       "      <td>NaN</td>\n",
       "      <td>NaN</td>\n",
       "      <td>2000</td>\n",
       "      <td>04</td>\n",
       "      <td>15.580000</td>\n",
       "      <td>NaN</td>\n",
       "    </tr>\n",
       "    <tr>\n",
       "      <th>217</th>\n",
       "      <td>2000-02</td>\n",
       "      <td>18</td>\n",
       "      <td>237.8</td>\n",
       "      <td>NaN</td>\n",
       "      <td>NaN</td>\n",
       "      <td>2000</td>\n",
       "      <td>02</td>\n",
       "      <td>13.211111</td>\n",
       "      <td>NaN</td>\n",
       "    </tr>\n",
       "    <tr>\n",
       "      <th>223</th>\n",
       "      <td>2000-08</td>\n",
       "      <td>18</td>\n",
       "      <td>113.5</td>\n",
       "      <td>NaN</td>\n",
       "      <td>NaN</td>\n",
       "      <td>2000</td>\n",
       "      <td>08</td>\n",
       "      <td>6.305556</td>\n",
       "      <td>NaN</td>\n",
       "    </tr>\n",
       "    <tr>\n",
       "      <th>227</th>\n",
       "      <td>2000-12</td>\n",
       "      <td>18</td>\n",
       "      <td>236.0</td>\n",
       "      <td>NaN</td>\n",
       "      <td>NaN</td>\n",
       "      <td>2000</td>\n",
       "      <td>12</td>\n",
       "      <td>13.111111</td>\n",
       "      <td>NaN</td>\n",
       "    </tr>\n",
       "  </tbody>\n",
       "</table>\n",
       "</div>"
      ],
      "text/plain": [
       "    year_month  no_of_rainy_days  total_rainfall  accidents_with_fatalities  \\\n",
       "226    2000-11                21           385.7                        NaN   \n",
       "219    2000-04                20           311.6                        NaN   \n",
       "217    2000-02                18           237.8                        NaN   \n",
       "223    2000-08                18           113.5                        NaN   \n",
       "227    2000-12                18           236.0                        NaN   \n",
       "\n",
       "     accidents_with_injuries  year month  average_rainfall  total_accidents  \n",
       "226                      NaN  2000    11         18.366667              NaN  \n",
       "219                      NaN  2000    04         15.580000              NaN  \n",
       "217                      NaN  2000    02         13.211111              NaN  \n",
       "223                      NaN  2000    08          6.305556              NaN  \n",
       "227                      NaN  2000    12         13.111111              NaN  "
      ]
     },
     "execution_count": 41,
     "metadata": {},
     "output_type": "execute_result"
    }
   ],
   "source": [
    "#sort month in 2000 from lowest number of rainy days to highest\n",
    "df[df['year'] == '2000'].sort_values(by='no_of_rainy_days', ascending = False).head()"
   ]
  },
  {
   "cell_type": "markdown",
   "metadata": {},
   "source": [
    "November had highest number of rainy days in 2000."
   ]
  },
  {
   "cell_type": "code",
   "execution_count": 42,
   "metadata": {},
   "outputs": [
    {
     "data": {
      "text/html": [
       "<div>\n",
       "<style scoped>\n",
       "    .dataframe tbody tr th:only-of-type {\n",
       "        vertical-align: middle;\n",
       "    }\n",
       "\n",
       "    .dataframe tbody tr th {\n",
       "        vertical-align: top;\n",
       "    }\n",
       "\n",
       "    .dataframe thead th {\n",
       "        text-align: right;\n",
       "    }\n",
       "</style>\n",
       "<table border=\"1\" class=\"dataframe\">\n",
       "  <thead>\n",
       "    <tr style=\"text-align: right;\">\n",
       "      <th></th>\n",
       "      <th>year_month</th>\n",
       "      <th>no_of_rainy_days</th>\n",
       "      <th>total_rainfall</th>\n",
       "      <th>accidents_with_fatalities</th>\n",
       "      <th>accidents_with_injuries</th>\n",
       "      <th>year</th>\n",
       "      <th>month</th>\n",
       "      <th>average_rainfall</th>\n",
       "      <th>total_accidents</th>\n",
       "    </tr>\n",
       "  </thead>\n",
       "  <tbody>\n",
       "    <tr>\n",
       "      <th>220</th>\n",
       "      <td>2000-05</td>\n",
       "      <td>10</td>\n",
       "      <td>96.8</td>\n",
       "      <td>NaN</td>\n",
       "      <td>NaN</td>\n",
       "      <td>2000</td>\n",
       "      <td>05</td>\n",
       "      <td>9.680000</td>\n",
       "      <td>NaN</td>\n",
       "    </tr>\n",
       "    <tr>\n",
       "      <th>222</th>\n",
       "      <td>2000-07</td>\n",
       "      <td>12</td>\n",
       "      <td>116.1</td>\n",
       "      <td>NaN</td>\n",
       "      <td>NaN</td>\n",
       "      <td>2000</td>\n",
       "      <td>07</td>\n",
       "      <td>9.675000</td>\n",
       "      <td>NaN</td>\n",
       "    </tr>\n",
       "    <tr>\n",
       "      <th>224</th>\n",
       "      <td>2000-09</td>\n",
       "      <td>12</td>\n",
       "      <td>81.1</td>\n",
       "      <td>NaN</td>\n",
       "      <td>NaN</td>\n",
       "      <td>2000</td>\n",
       "      <td>09</td>\n",
       "      <td>6.758333</td>\n",
       "      <td>NaN</td>\n",
       "    </tr>\n",
       "    <tr>\n",
       "      <th>216</th>\n",
       "      <td>2000-01</td>\n",
       "      <td>14</td>\n",
       "      <td>275.2</td>\n",
       "      <td>NaN</td>\n",
       "      <td>NaN</td>\n",
       "      <td>2000</td>\n",
       "      <td>01</td>\n",
       "      <td>19.657143</td>\n",
       "      <td>NaN</td>\n",
       "    </tr>\n",
       "    <tr>\n",
       "      <th>225</th>\n",
       "      <td>2000-10</td>\n",
       "      <td>14</td>\n",
       "      <td>120.9</td>\n",
       "      <td>NaN</td>\n",
       "      <td>NaN</td>\n",
       "      <td>2000</td>\n",
       "      <td>10</td>\n",
       "      <td>8.635714</td>\n",
       "      <td>NaN</td>\n",
       "    </tr>\n",
       "  </tbody>\n",
       "</table>\n",
       "</div>"
      ],
      "text/plain": [
       "    year_month  no_of_rainy_days  total_rainfall  accidents_with_fatalities  \\\n",
       "220    2000-05                10            96.8                        NaN   \n",
       "222    2000-07                12           116.1                        NaN   \n",
       "224    2000-09                12            81.1                        NaN   \n",
       "216    2000-01                14           275.2                        NaN   \n",
       "225    2000-10                14           120.9                        NaN   \n",
       "\n",
       "     accidents_with_injuries  year month  average_rainfall  total_accidents  \n",
       "220                      NaN  2000    05          9.680000              NaN  \n",
       "222                      NaN  2000    07          9.675000              NaN  \n",
       "224                      NaN  2000    09          6.758333              NaN  \n",
       "216                      NaN  2000    01         19.657143              NaN  \n",
       "225                      NaN  2000    10          8.635714              NaN  "
      ]
     },
     "execution_count": 42,
     "metadata": {},
     "output_type": "execute_result"
    }
   ],
   "source": [
    "#sort month in 2000 from highest number of rainy days to lowest\n",
    "df[df['year'] == '2000'].sort_values(by='no_of_rainy_days', ascending = True).head()"
   ]
  },
  {
   "cell_type": "markdown",
   "metadata": {},
   "source": [
    "May had lowest number of rainy days in 2000."
   ]
  },
  {
   "cell_type": "code",
   "execution_count": 43,
   "metadata": {},
   "outputs": [
    {
     "data": {
      "text/html": [
       "<div>\n",
       "<style scoped>\n",
       "    .dataframe tbody tr th:only-of-type {\n",
       "        vertical-align: middle;\n",
       "    }\n",
       "\n",
       "    .dataframe tbody tr th {\n",
       "        vertical-align: top;\n",
       "    }\n",
       "\n",
       "    .dataframe thead th {\n",
       "        text-align: right;\n",
       "    }\n",
       "</style>\n",
       "<table border=\"1\" class=\"dataframe\">\n",
       "  <thead>\n",
       "    <tr style=\"text-align: right;\">\n",
       "      <th></th>\n",
       "      <th>year_month</th>\n",
       "      <th>no_of_rainy_days</th>\n",
       "      <th>total_rainfall</th>\n",
       "      <th>accidents_with_fatalities</th>\n",
       "      <th>accidents_with_injuries</th>\n",
       "      <th>year</th>\n",
       "      <th>month</th>\n",
       "      <th>average_rainfall</th>\n",
       "      <th>total_accidents</th>\n",
       "    </tr>\n",
       "  </thead>\n",
       "  <tbody>\n",
       "    <tr>\n",
       "      <th>346</th>\n",
       "      <td>2010-11</td>\n",
       "      <td>21</td>\n",
       "      <td>278.8</td>\n",
       "      <td>14.0</td>\n",
       "      <td>730.0</td>\n",
       "      <td>2010</td>\n",
       "      <td>11</td>\n",
       "      <td>13.276190</td>\n",
       "      <td>744.0</td>\n",
       "    </tr>\n",
       "    <tr>\n",
       "      <th>341</th>\n",
       "      <td>2010-06</td>\n",
       "      <td>19</td>\n",
       "      <td>240.5</td>\n",
       "      <td>15.0</td>\n",
       "      <td>651.0</td>\n",
       "      <td>2010</td>\n",
       "      <td>06</td>\n",
       "      <td>12.657895</td>\n",
       "      <td>666.0</td>\n",
       "    </tr>\n",
       "    <tr>\n",
       "      <th>339</th>\n",
       "      <td>2010-04</td>\n",
       "      <td>18</td>\n",
       "      <td>158.5</td>\n",
       "      <td>18.0</td>\n",
       "      <td>708.0</td>\n",
       "      <td>2010</td>\n",
       "      <td>04</td>\n",
       "      <td>8.805556</td>\n",
       "      <td>726.0</td>\n",
       "    </tr>\n",
       "    <tr>\n",
       "      <th>342</th>\n",
       "      <td>2010-07</td>\n",
       "      <td>18</td>\n",
       "      <td>298.5</td>\n",
       "      <td>16.0</td>\n",
       "      <td>747.0</td>\n",
       "      <td>2010</td>\n",
       "      <td>07</td>\n",
       "      <td>16.583333</td>\n",
       "      <td>763.0</td>\n",
       "    </tr>\n",
       "    <tr>\n",
       "      <th>340</th>\n",
       "      <td>2010-05</td>\n",
       "      <td>17</td>\n",
       "      <td>157.5</td>\n",
       "      <td>18.0</td>\n",
       "      <td>759.0</td>\n",
       "      <td>2010</td>\n",
       "      <td>05</td>\n",
       "      <td>9.264706</td>\n",
       "      <td>777.0</td>\n",
       "    </tr>\n",
       "  </tbody>\n",
       "</table>\n",
       "</div>"
      ],
      "text/plain": [
       "    year_month  no_of_rainy_days  total_rainfall  accidents_with_fatalities  \\\n",
       "346    2010-11                21           278.8                       14.0   \n",
       "341    2010-06                19           240.5                       15.0   \n",
       "339    2010-04                18           158.5                       18.0   \n",
       "342    2010-07                18           298.5                       16.0   \n",
       "340    2010-05                17           157.5                       18.0   \n",
       "\n",
       "     accidents_with_injuries  year month  average_rainfall  total_accidents  \n",
       "346                    730.0  2010    11         13.276190            744.0  \n",
       "341                    651.0  2010    06         12.657895            666.0  \n",
       "339                    708.0  2010    04          8.805556            726.0  \n",
       "342                    747.0  2010    07         16.583333            763.0  \n",
       "340                    759.0  2010    05          9.264706            777.0  "
      ]
     },
     "execution_count": 43,
     "metadata": {},
     "output_type": "execute_result"
    }
   ],
   "source": [
    "#sort month in 2010 from lowest number of rainy days to highest\n",
    "df[df['year'] == '2010'].sort_values(by='no_of_rainy_days', ascending = False).head()"
   ]
  },
  {
   "cell_type": "markdown",
   "metadata": {},
   "source": [
    "November had highest number of rainy days in 2010."
   ]
  },
  {
   "cell_type": "code",
   "execution_count": 44,
   "metadata": {},
   "outputs": [
    {
     "data": {
      "text/html": [
       "<div>\n",
       "<style scoped>\n",
       "    .dataframe tbody tr th:only-of-type {\n",
       "        vertical-align: middle;\n",
       "    }\n",
       "\n",
       "    .dataframe tbody tr th {\n",
       "        vertical-align: top;\n",
       "    }\n",
       "\n",
       "    .dataframe thead th {\n",
       "        text-align: right;\n",
       "    }\n",
       "</style>\n",
       "<table border=\"1\" class=\"dataframe\">\n",
       "  <thead>\n",
       "    <tr style=\"text-align: right;\">\n",
       "      <th></th>\n",
       "      <th>year_month</th>\n",
       "      <th>no_of_rainy_days</th>\n",
       "      <th>total_rainfall</th>\n",
       "      <th>accidents_with_fatalities</th>\n",
       "      <th>accidents_with_injuries</th>\n",
       "      <th>year</th>\n",
       "      <th>month</th>\n",
       "      <th>average_rainfall</th>\n",
       "      <th>total_accidents</th>\n",
       "    </tr>\n",
       "  </thead>\n",
       "  <tbody>\n",
       "    <tr>\n",
       "      <th>337</th>\n",
       "      <td>2010-02</td>\n",
       "      <td>4</td>\n",
       "      <td>6.3</td>\n",
       "      <td>7.0</td>\n",
       "      <td>658.0</td>\n",
       "      <td>2010</td>\n",
       "      <td>02</td>\n",
       "      <td>1.575000</td>\n",
       "      <td>665.0</td>\n",
       "    </tr>\n",
       "    <tr>\n",
       "      <th>336</th>\n",
       "      <td>2010-01</td>\n",
       "      <td>10</td>\n",
       "      <td>69.5</td>\n",
       "      <td>17.0</td>\n",
       "      <td>663.0</td>\n",
       "      <td>2010</td>\n",
       "      <td>01</td>\n",
       "      <td>6.950000</td>\n",
       "      <td>680.0</td>\n",
       "    </tr>\n",
       "    <tr>\n",
       "      <th>338</th>\n",
       "      <td>2010-03</td>\n",
       "      <td>11</td>\n",
       "      <td>238.0</td>\n",
       "      <td>22.0</td>\n",
       "      <td>758.0</td>\n",
       "      <td>2010</td>\n",
       "      <td>03</td>\n",
       "      <td>21.636364</td>\n",
       "      <td>780.0</td>\n",
       "    </tr>\n",
       "    <tr>\n",
       "      <th>344</th>\n",
       "      <td>2010-09</td>\n",
       "      <td>13</td>\n",
       "      <td>121.5</td>\n",
       "      <td>14.0</td>\n",
       "      <td>738.0</td>\n",
       "      <td>2010</td>\n",
       "      <td>09</td>\n",
       "      <td>9.346154</td>\n",
       "      <td>752.0</td>\n",
       "    </tr>\n",
       "    <tr>\n",
       "      <th>347</th>\n",
       "      <td>2010-12</td>\n",
       "      <td>14</td>\n",
       "      <td>181.4</td>\n",
       "      <td>14.0</td>\n",
       "      <td>644.0</td>\n",
       "      <td>2010</td>\n",
       "      <td>12</td>\n",
       "      <td>12.957143</td>\n",
       "      <td>658.0</td>\n",
       "    </tr>\n",
       "  </tbody>\n",
       "</table>\n",
       "</div>"
      ],
      "text/plain": [
       "    year_month  no_of_rainy_days  total_rainfall  accidents_with_fatalities  \\\n",
       "337    2010-02                 4             6.3                        7.0   \n",
       "336    2010-01                10            69.5                       17.0   \n",
       "338    2010-03                11           238.0                       22.0   \n",
       "344    2010-09                13           121.5                       14.0   \n",
       "347    2010-12                14           181.4                       14.0   \n",
       "\n",
       "     accidents_with_injuries  year month  average_rainfall  total_accidents  \n",
       "337                    658.0  2010    02          1.575000            665.0  \n",
       "336                    663.0  2010    01          6.950000            680.0  \n",
       "338                    758.0  2010    03         21.636364            780.0  \n",
       "344                    738.0  2010    09          9.346154            752.0  \n",
       "347                    644.0  2010    12         12.957143            658.0  "
      ]
     },
     "execution_count": 44,
     "metadata": {},
     "output_type": "execute_result"
    }
   ],
   "source": [
    "#sort month in 2010 from highest number of rainy days to lowest\n",
    "df[df['year'] == '2010'].sort_values(by='no_of_rainy_days', ascending = True).head()"
   ]
  },
  {
   "cell_type": "markdown",
   "metadata": {},
   "source": [
    "February had lowest number of rainy days in 2010."
   ]
  },
  {
   "cell_type": "code",
   "execution_count": 45,
   "metadata": {},
   "outputs": [
    {
     "data": {
      "text/html": [
       "<div>\n",
       "<style scoped>\n",
       "    .dataframe tbody tr th:only-of-type {\n",
       "        vertical-align: middle;\n",
       "    }\n",
       "\n",
       "    .dataframe tbody tr th {\n",
       "        vertical-align: top;\n",
       "    }\n",
       "\n",
       "    .dataframe thead th {\n",
       "        text-align: right;\n",
       "    }\n",
       "</style>\n",
       "<table border=\"1\" class=\"dataframe\">\n",
       "  <thead>\n",
       "    <tr style=\"text-align: right;\">\n",
       "      <th></th>\n",
       "      <th>year_month</th>\n",
       "      <th>no_of_rainy_days</th>\n",
       "      <th>total_rainfall</th>\n",
       "      <th>accidents_with_fatalities</th>\n",
       "      <th>accidents_with_injuries</th>\n",
       "      <th>year</th>\n",
       "      <th>month</th>\n",
       "      <th>average_rainfall</th>\n",
       "      <th>total_accidents</th>\n",
       "    </tr>\n",
       "  </thead>\n",
       "  <tbody>\n",
       "    <tr>\n",
       "      <th>462</th>\n",
       "      <td>2020-07</td>\n",
       "      <td>22</td>\n",
       "      <td>140.8</td>\n",
       "      <td>3.0</td>\n",
       "      <td>476.0</td>\n",
       "      <td>2020</td>\n",
       "      <td>07</td>\n",
       "      <td>6.400000</td>\n",
       "      <td>479.0</td>\n",
       "    </tr>\n",
       "    <tr>\n",
       "      <th>461</th>\n",
       "      <td>2020-06</td>\n",
       "      <td>21</td>\n",
       "      <td>233.8</td>\n",
       "      <td>7.0</td>\n",
       "      <td>358.0</td>\n",
       "      <td>2020</td>\n",
       "      <td>06</td>\n",
       "      <td>11.133333</td>\n",
       "      <td>365.0</td>\n",
       "    </tr>\n",
       "    <tr>\n",
       "      <th>467</th>\n",
       "      <td>2020-12</td>\n",
       "      <td>20</td>\n",
       "      <td>253.2</td>\n",
       "      <td>4.0</td>\n",
       "      <td>584.0</td>\n",
       "      <td>2020</td>\n",
       "      <td>12</td>\n",
       "      <td>12.660000</td>\n",
       "      <td>588.0</td>\n",
       "    </tr>\n",
       "    <tr>\n",
       "      <th>466</th>\n",
       "      <td>2020-11</td>\n",
       "      <td>19</td>\n",
       "      <td>220.6</td>\n",
       "      <td>6.0</td>\n",
       "      <td>479.0</td>\n",
       "      <td>2020</td>\n",
       "      <td>11</td>\n",
       "      <td>11.610526</td>\n",
       "      <td>485.0</td>\n",
       "    </tr>\n",
       "    <tr>\n",
       "      <th>464</th>\n",
       "      <td>2020-09</td>\n",
       "      <td>18</td>\n",
       "      <td>150.2</td>\n",
       "      <td>4.0</td>\n",
       "      <td>472.0</td>\n",
       "      <td>2020</td>\n",
       "      <td>09</td>\n",
       "      <td>8.344444</td>\n",
       "      <td>476.0</td>\n",
       "    </tr>\n",
       "  </tbody>\n",
       "</table>\n",
       "</div>"
      ],
      "text/plain": [
       "    year_month  no_of_rainy_days  total_rainfall  accidents_with_fatalities  \\\n",
       "462    2020-07                22           140.8                        3.0   \n",
       "461    2020-06                21           233.8                        7.0   \n",
       "467    2020-12                20           253.2                        4.0   \n",
       "466    2020-11                19           220.6                        6.0   \n",
       "464    2020-09                18           150.2                        4.0   \n",
       "\n",
       "     accidents_with_injuries  year month  average_rainfall  total_accidents  \n",
       "462                    476.0  2020    07          6.400000            479.0  \n",
       "461                    358.0  2020    06         11.133333            365.0  \n",
       "467                    584.0  2020    12         12.660000            588.0  \n",
       "466                    479.0  2020    11         11.610526            485.0  \n",
       "464                    472.0  2020    09          8.344444            476.0  "
      ]
     },
     "execution_count": 45,
     "metadata": {},
     "output_type": "execute_result"
    }
   ],
   "source": [
    "#sort month in 2020 from lowest number of rainy days to highest\n",
    "df[df['year'] == '2020'].sort_values(by='no_of_rainy_days', ascending = False).head()"
   ]
  },
  {
   "cell_type": "markdown",
   "metadata": {},
   "source": [
    "July had highest number of rainy days in 2020."
   ]
  },
  {
   "cell_type": "code",
   "execution_count": 46,
   "metadata": {},
   "outputs": [
    {
     "data": {
      "text/html": [
       "<div>\n",
       "<style scoped>\n",
       "    .dataframe tbody tr th:only-of-type {\n",
       "        vertical-align: middle;\n",
       "    }\n",
       "\n",
       "    .dataframe tbody tr th {\n",
       "        vertical-align: top;\n",
       "    }\n",
       "\n",
       "    .dataframe thead th {\n",
       "        text-align: right;\n",
       "    }\n",
       "</style>\n",
       "<table border=\"1\" class=\"dataframe\">\n",
       "  <thead>\n",
       "    <tr style=\"text-align: right;\">\n",
       "      <th></th>\n",
       "      <th>year_month</th>\n",
       "      <th>no_of_rainy_days</th>\n",
       "      <th>total_rainfall</th>\n",
       "      <th>accidents_with_fatalities</th>\n",
       "      <th>accidents_with_injuries</th>\n",
       "      <th>year</th>\n",
       "      <th>month</th>\n",
       "      <th>average_rainfall</th>\n",
       "      <th>total_accidents</th>\n",
       "    </tr>\n",
       "  </thead>\n",
       "  <tbody>\n",
       "    <tr>\n",
       "      <th>456</th>\n",
       "      <td>2020-01</td>\n",
       "      <td>6</td>\n",
       "      <td>88.4</td>\n",
       "      <td>11.0</td>\n",
       "      <td>636.0</td>\n",
       "      <td>2020</td>\n",
       "      <td>01</td>\n",
       "      <td>14.733333</td>\n",
       "      <td>647.0</td>\n",
       "    </tr>\n",
       "    <tr>\n",
       "      <th>457</th>\n",
       "      <td>2020-02</td>\n",
       "      <td>8</td>\n",
       "      <td>65.0</td>\n",
       "      <td>9.0</td>\n",
       "      <td>480.0</td>\n",
       "      <td>2020</td>\n",
       "      <td>02</td>\n",
       "      <td>8.125000</td>\n",
       "      <td>489.0</td>\n",
       "    </tr>\n",
       "    <tr>\n",
       "      <th>458</th>\n",
       "      <td>2020-03</td>\n",
       "      <td>8</td>\n",
       "      <td>108.8</td>\n",
       "      <td>10.0</td>\n",
       "      <td>510.0</td>\n",
       "      <td>2020</td>\n",
       "      <td>03</td>\n",
       "      <td>13.600000</td>\n",
       "      <td>520.0</td>\n",
       "    </tr>\n",
       "    <tr>\n",
       "      <th>459</th>\n",
       "      <td>2020-04</td>\n",
       "      <td>12</td>\n",
       "      <td>188.0</td>\n",
       "      <td>10.0</td>\n",
       "      <td>286.0</td>\n",
       "      <td>2020</td>\n",
       "      <td>04</td>\n",
       "      <td>15.666667</td>\n",
       "      <td>296.0</td>\n",
       "    </tr>\n",
       "    <tr>\n",
       "      <th>463</th>\n",
       "      <td>2020-08</td>\n",
       "      <td>12</td>\n",
       "      <td>103.4</td>\n",
       "      <td>9.0</td>\n",
       "      <td>428.0</td>\n",
       "      <td>2020</td>\n",
       "      <td>08</td>\n",
       "      <td>8.616667</td>\n",
       "      <td>437.0</td>\n",
       "    </tr>\n",
       "  </tbody>\n",
       "</table>\n",
       "</div>"
      ],
      "text/plain": [
       "    year_month  no_of_rainy_days  total_rainfall  accidents_with_fatalities  \\\n",
       "456    2020-01                 6            88.4                       11.0   \n",
       "457    2020-02                 8            65.0                        9.0   \n",
       "458    2020-03                 8           108.8                       10.0   \n",
       "459    2020-04                12           188.0                       10.0   \n",
       "463    2020-08                12           103.4                        9.0   \n",
       "\n",
       "     accidents_with_injuries  year month  average_rainfall  total_accidents  \n",
       "456                    636.0  2020    01         14.733333            647.0  \n",
       "457                    480.0  2020    02          8.125000            489.0  \n",
       "458                    510.0  2020    03         13.600000            520.0  \n",
       "459                    286.0  2020    04         15.666667            296.0  \n",
       "463                    428.0  2020    08          8.616667            437.0  "
      ]
     },
     "execution_count": 46,
     "metadata": {},
     "output_type": "execute_result"
    }
   ],
   "source": [
    "#sort month in 2020 from highest number of rainy days to lowest\n",
    "df[df['year'] == '2020'].sort_values(by='no_of_rainy_days', ascending = True).head()"
   ]
  },
  {
   "cell_type": "markdown",
   "metadata": {},
   "source": [
    "January had lowest number of rainy days in 2020."
   ]
  },
  {
   "cell_type": "code",
   "execution_count": 47,
   "metadata": {
    "tags": []
   },
   "outputs": [
    {
     "name": "stderr",
     "output_type": "stream",
     "text": [
      "/var/folders/3n/fkv2x4vs6_jc1rvhs53fssxr0000gn/T/ipykernel_6023/3171016601.py:2: FutureWarning: The default value of numeric_only in DataFrameGroupBy.sum is deprecated. In a future version, numeric_only will default to False. Either specify numeric_only or select only columns which should be valid for the function.\n",
      "  df.groupby('year').sum()[['no_of_rainy_days']].sort_values(by='no_of_rainy_days', ascending = False).head()\n"
     ]
    },
    {
     "data": {
      "text/html": [
       "<div>\n",
       "<style scoped>\n",
       "    .dataframe tbody tr th:only-of-type {\n",
       "        vertical-align: middle;\n",
       "    }\n",
       "\n",
       "    .dataframe tbody tr th {\n",
       "        vertical-align: top;\n",
       "    }\n",
       "\n",
       "    .dataframe thead th {\n",
       "        text-align: right;\n",
       "    }\n",
       "</style>\n",
       "<table border=\"1\" class=\"dataframe\">\n",
       "  <thead>\n",
       "    <tr style=\"text-align: right;\">\n",
       "      <th></th>\n",
       "      <th>no_of_rainy_days</th>\n",
       "    </tr>\n",
       "    <tr>\n",
       "      <th>year</th>\n",
       "      <th></th>\n",
       "    </tr>\n",
       "  </thead>\n",
       "  <tbody>\n",
       "    <tr>\n",
       "      <th>2013</th>\n",
       "      <td>206</td>\n",
       "    </tr>\n",
       "    <tr>\n",
       "      <th>2017</th>\n",
       "      <td>204</td>\n",
       "    </tr>\n",
       "    <tr>\n",
       "      <th>2007</th>\n",
       "      <td>195</td>\n",
       "    </tr>\n",
       "    <tr>\n",
       "      <th>1984</th>\n",
       "      <td>191</td>\n",
       "    </tr>\n",
       "    <tr>\n",
       "      <th>2012</th>\n",
       "      <td>191</td>\n",
       "    </tr>\n",
       "  </tbody>\n",
       "</table>\n",
       "</div>"
      ],
      "text/plain": [
       "      no_of_rainy_days\n",
       "year                  \n",
       "2013               206\n",
       "2017               204\n",
       "2007               195\n",
       "1984               191\n",
       "2012               191"
      ]
     },
     "execution_count": 47,
     "metadata": {},
     "output_type": "execute_result"
    }
   ],
   "source": [
    "#sort year from highest number of rainy days to lowest\n",
    "df.groupby('year').sum()[['no_of_rainy_days']].sort_values(by='no_of_rainy_days', ascending = False).head()"
   ]
  },
  {
   "cell_type": "markdown",
   "metadata": {},
   "source": [
    "2013 had the highest number of rainy days."
   ]
  },
  {
   "cell_type": "code",
   "execution_count": 48,
   "metadata": {},
   "outputs": [
    {
     "name": "stderr",
     "output_type": "stream",
     "text": [
      "/var/folders/3n/fkv2x4vs6_jc1rvhs53fssxr0000gn/T/ipykernel_6023/2963825871.py:2: FutureWarning: The default value of numeric_only in DataFrameGroupBy.sum is deprecated. In a future version, numeric_only will default to False. Either specify numeric_only or select only columns which should be valid for the function.\n",
      "  df.groupby('year').sum()[['no_of_rainy_days']].sort_values(by='no_of_rainy_days', ascending = True).head()\n"
     ]
    },
    {
     "data": {
      "text/html": [
       "<div>\n",
       "<style scoped>\n",
       "    .dataframe tbody tr th:only-of-type {\n",
       "        vertical-align: middle;\n",
       "    }\n",
       "\n",
       "    .dataframe tbody tr th {\n",
       "        vertical-align: top;\n",
       "    }\n",
       "\n",
       "    .dataframe thead th {\n",
       "        text-align: right;\n",
       "    }\n",
       "</style>\n",
       "<table border=\"1\" class=\"dataframe\">\n",
       "  <thead>\n",
       "    <tr style=\"text-align: right;\">\n",
       "      <th></th>\n",
       "      <th>no_of_rainy_days</th>\n",
       "    </tr>\n",
       "    <tr>\n",
       "      <th>year</th>\n",
       "      <th></th>\n",
       "    </tr>\n",
       "  </thead>\n",
       "  <tbody>\n",
       "    <tr>\n",
       "      <th>1997</th>\n",
       "      <td>116</td>\n",
       "    </tr>\n",
       "    <tr>\n",
       "      <th>2019</th>\n",
       "      <td>120</td>\n",
       "    </tr>\n",
       "    <tr>\n",
       "      <th>2022</th>\n",
       "      <td>124</td>\n",
       "    </tr>\n",
       "    <tr>\n",
       "      <th>2015</th>\n",
       "      <td>125</td>\n",
       "    </tr>\n",
       "    <tr>\n",
       "      <th>1982</th>\n",
       "      <td>130</td>\n",
       "    </tr>\n",
       "  </tbody>\n",
       "</table>\n",
       "</div>"
      ],
      "text/plain": [
       "      no_of_rainy_days\n",
       "year                  \n",
       "1997               116\n",
       "2019               120\n",
       "2022               124\n",
       "2015               125\n",
       "1982               130"
      ]
     },
     "execution_count": 48,
     "metadata": {},
     "output_type": "execute_result"
    }
   ],
   "source": [
    "#sort year from lowest number of rainy days to highest\n",
    "df.groupby('year').sum()[['no_of_rainy_days']].sort_values(by='no_of_rainy_days', ascending = True).head()"
   ]
  },
  {
   "cell_type": "markdown",
   "metadata": {},
   "source": [
    "1997 had lowest number of rainy days."
   ]
  },
  {
   "cell_type": "code",
   "execution_count": 49,
   "metadata": {},
   "outputs": [
    {
     "data": {
      "text/plain": [
       "array(['2008-01', '2008-02', '2008-03', '2008-04', '2008-05', '2008-06',\n",
       "       '2008-07', '2008-08', '2008-09', '2008-10', '2008-11', '2008-12',\n",
       "       '2009-01', '2009-02', '2009-03', '2009-04', '2009-05', '2009-06',\n",
       "       '2009-07', '2009-08', '2009-09', '2009-10', '2009-11', '2009-12',\n",
       "       '2010-01', '2010-02', '2010-03', '2010-04', '2010-05', '2010-06',\n",
       "       '2010-07', '2010-08', '2010-09', '2010-10', '2010-11', '2010-12',\n",
       "       '2011-01', '2011-02', '2011-03', '2011-04', '2011-05', '2011-06',\n",
       "       '2011-07', '2011-08', '2011-09', '2011-10', '2011-11', '2011-12',\n",
       "       '2012-01', '2012-02', '2012-03', '2012-04', '2012-05', '2012-06',\n",
       "       '2012-07', '2012-08', '2012-09', '2012-10', '2012-11', '2012-12',\n",
       "       '2013-01', '2013-02', '2013-03', '2013-04', '2013-05', '2013-06',\n",
       "       '2013-07', '2013-08', '2013-09', '2013-10', '2013-11', '2013-12',\n",
       "       '2014-01', '2014-02', '2014-03', '2014-04', '2014-05', '2014-06',\n",
       "       '2014-07', '2014-08', '2014-09', '2014-10', '2014-11', '2014-12',\n",
       "       '2015-01', '2015-02', '2015-03', '2015-04', '2015-05', '2015-06',\n",
       "       '2015-07', '2015-08', '2015-09', '2015-10', '2015-11', '2015-12',\n",
       "       '2016-01', '2016-02', '2016-03', '2016-04', '2016-05', '2016-06',\n",
       "       '2016-07', '2016-08', '2016-09', '2016-10', '2016-11', '2016-12',\n",
       "       '2017-01', '2017-02', '2017-03', '2017-04', '2017-05', '2017-06',\n",
       "       '2017-07', '2017-08', '2017-09', '2017-10', '2017-11', '2017-12',\n",
       "       '2018-01', '2018-02', '2018-03', '2018-04', '2018-05', '2018-06',\n",
       "       '2018-07', '2018-08', '2018-09', '2018-10', '2018-11', '2018-12',\n",
       "       '2019-01', '2019-02', '2019-03', '2019-04', '2019-05', '2019-06',\n",
       "       '2019-07', '2019-08', '2019-09', '2019-10', '2019-11', '2019-12',\n",
       "       '2020-01', '2020-02', '2020-03', '2020-04', '2020-05', '2020-06',\n",
       "       '2020-07', '2020-08', '2020-09', '2020-10', '2020-11', '2020-12',\n",
       "       '2021-01', '2021-02', '2021-03', '2021-04', '2021-05', '2021-06',\n",
       "       '2021-07', '2021-08', '2021-09', '2021-10', '2021-11', '2021-12'],\n",
       "      dtype=object)"
      ]
     },
     "execution_count": 49,
     "metadata": {},
     "output_type": "execute_result"
    }
   ],
   "source": [
    "#drop months where accident data not available to start analyzing for problem statement, check remaining months\n",
    "df.dropna(subset=['total_accidents'], inplace=True)\n",
    "df.year_month.unique()"
   ]
  },
  {
   "cell_type": "markdown",
   "metadata": {},
   "source": [
    "Analysis will be based on period from January 2008 to December 2021."
   ]
  },
  {
   "cell_type": "code",
   "execution_count": 50,
   "metadata": {},
   "outputs": [
    {
     "name": "stderr",
     "output_type": "stream",
     "text": [
      "/var/folders/3n/fkv2x4vs6_jc1rvhs53fssxr0000gn/T/ipykernel_6023/2760102006.py:2: FutureWarning: The default value of numeric_only in DataFrameGroupBy.mean is deprecated. In a future version, numeric_only will default to False. Either specify numeric_only or select only columns which should be valid for the function.\n",
      "  df_agg = df.groupby('month').mean()[['total_accidents']]\n",
      "/var/folders/3n/fkv2x4vs6_jc1rvhs53fssxr0000gn/T/ipykernel_6023/2760102006.py:3: FutureWarning: The default value of numeric_only in DataFrameGroupBy.mean is deprecated. In a future version, numeric_only will default to False. Either specify numeric_only or select only columns which should be valid for the function.\n",
      "  df_agg['accidents_with_injuries'] = df.groupby('month').mean()[['accidents_with_injuries']]\n",
      "/var/folders/3n/fkv2x4vs6_jc1rvhs53fssxr0000gn/T/ipykernel_6023/2760102006.py:4: FutureWarning: The default value of numeric_only in DataFrameGroupBy.mean is deprecated. In a future version, numeric_only will default to False. Either specify numeric_only or select only columns which should be valid for the function.\n",
      "  df_agg['accidents_with_fatalities'] = df.groupby('month').mean()[['accidents_with_fatalities']]\n",
      "/var/folders/3n/fkv2x4vs6_jc1rvhs53fssxr0000gn/T/ipykernel_6023/2760102006.py:5: FutureWarning: The default value of numeric_only in DataFrameGroupBy.mean is deprecated. In a future version, numeric_only will default to False. Either specify numeric_only or select only columns which should be valid for the function.\n",
      "  df_agg['total_rainfall'] = df.groupby('month').mean()[['total_rainfall']]\n",
      "/var/folders/3n/fkv2x4vs6_jc1rvhs53fssxr0000gn/T/ipykernel_6023/2760102006.py:6: FutureWarning: The default value of numeric_only in DataFrameGroupBy.mean is deprecated. In a future version, numeric_only will default to False. Either specify numeric_only or select only columns which should be valid for the function.\n",
      "  df_agg['no_of_rainy_days'] = df.groupby('month').mean()[['no_of_rainy_days']]\n",
      "/var/folders/3n/fkv2x4vs6_jc1rvhs53fssxr0000gn/T/ipykernel_6023/2760102006.py:7: FutureWarning: The default value of numeric_only in DataFrameGroupBy.mean is deprecated. In a future version, numeric_only will default to False. Either specify numeric_only or select only columns which should be valid for the function.\n",
      "  df_agg['average_daily_rainfall'] = df.groupby('month').mean()[['average_rainfall']]\n"
     ]
    },
    {
     "data": {
      "text/html": [
       "<div>\n",
       "<style scoped>\n",
       "    .dataframe tbody tr th:only-of-type {\n",
       "        vertical-align: middle;\n",
       "    }\n",
       "\n",
       "    .dataframe tbody tr th {\n",
       "        vertical-align: top;\n",
       "    }\n",
       "\n",
       "    .dataframe thead th {\n",
       "        text-align: right;\n",
       "    }\n",
       "</style>\n",
       "<table border=\"1\" class=\"dataframe\">\n",
       "  <thead>\n",
       "    <tr style=\"text-align: right;\">\n",
       "      <th></th>\n",
       "      <th>total_accidents</th>\n",
       "      <th>accidents_with_injuries</th>\n",
       "      <th>accidents_with_fatalities</th>\n",
       "      <th>total_rainfall</th>\n",
       "      <th>no_of_rainy_days</th>\n",
       "      <th>average_daily_rainfall</th>\n",
       "    </tr>\n",
       "    <tr>\n",
       "      <th>month</th>\n",
       "      <th></th>\n",
       "      <th></th>\n",
       "      <th></th>\n",
       "      <th></th>\n",
       "      <th></th>\n",
       "      <th></th>\n",
       "    </tr>\n",
       "  </thead>\n",
       "  <tbody>\n",
       "    <tr>\n",
       "      <th>01</th>\n",
       "      <td>687.071429</td>\n",
       "      <td>674.142857</td>\n",
       "      <td>12.928571</td>\n",
       "      <td>204.478571</td>\n",
       "      <td>13.285714</td>\n",
       "      <td>14.496167</td>\n",
       "    </tr>\n",
       "    <tr>\n",
       "      <th>02</th>\n",
       "      <td>610.142857</td>\n",
       "      <td>597.785714</td>\n",
       "      <td>12.357143</td>\n",
       "      <td>93.921429</td>\n",
       "      <td>8.071429</td>\n",
       "      <td>8.699069</td>\n",
       "    </tr>\n",
       "    <tr>\n",
       "      <th>03</th>\n",
       "      <td>666.428571</td>\n",
       "      <td>653.714286</td>\n",
       "      <td>12.714286</td>\n",
       "      <td>150.857143</td>\n",
       "      <td>11.785714</td>\n",
       "      <td>12.239625</td>\n",
       "    </tr>\n",
       "    <tr>\n",
       "      <th>04</th>\n",
       "      <td>638.428571</td>\n",
       "      <td>625.500000</td>\n",
       "      <td>12.928571</td>\n",
       "      <td>161.657143</td>\n",
       "      <td>14.857143</td>\n",
       "      <td>11.360229</td>\n",
       "    </tr>\n",
       "    <tr>\n",
       "      <th>05</th>\n",
       "      <td>638.428571</td>\n",
       "      <td>626.285714</td>\n",
       "      <td>12.142857</td>\n",
       "      <td>172.328571</td>\n",
       "      <td>15.285714</td>\n",
       "      <td>11.353035</td>\n",
       "    </tr>\n",
       "    <tr>\n",
       "      <th>06</th>\n",
       "      <td>618.571429</td>\n",
       "      <td>606.928571</td>\n",
       "      <td>11.642857</td>\n",
       "      <td>134.114286</td>\n",
       "      <td>13.714286</td>\n",
       "      <td>9.425040</td>\n",
       "    </tr>\n",
       "    <tr>\n",
       "      <th>07</th>\n",
       "      <td>671.785714</td>\n",
       "      <td>659.928571</td>\n",
       "      <td>11.857143</td>\n",
       "      <td>138.300000</td>\n",
       "      <td>14.071429</td>\n",
       "      <td>9.827872</td>\n",
       "    </tr>\n",
       "    <tr>\n",
       "      <th>08</th>\n",
       "      <td>686.785714</td>\n",
       "      <td>674.642857</td>\n",
       "      <td>12.142857</td>\n",
       "      <td>157.864286</td>\n",
       "      <td>14.500000</td>\n",
       "      <td>10.492007</td>\n",
       "    </tr>\n",
       "    <tr>\n",
       "      <th>09</th>\n",
       "      <td>652.285714</td>\n",
       "      <td>641.142857</td>\n",
       "      <td>11.142857</td>\n",
       "      <td>129.128571</td>\n",
       "      <td>13.357143</td>\n",
       "      <td>9.444708</td>\n",
       "    </tr>\n",
       "    <tr>\n",
       "      <th>10</th>\n",
       "      <td>670.642857</td>\n",
       "      <td>659.500000</td>\n",
       "      <td>11.142857</td>\n",
       "      <td>161.392857</td>\n",
       "      <td>15.642857</td>\n",
       "      <td>10.315346</td>\n",
       "    </tr>\n",
       "    <tr>\n",
       "      <th>11</th>\n",
       "      <td>673.642857</td>\n",
       "      <td>661.357143</td>\n",
       "      <td>12.285714</td>\n",
       "      <td>248.964286</td>\n",
       "      <td>20.857143</td>\n",
       "      <td>11.937041</td>\n",
       "    </tr>\n",
       "    <tr>\n",
       "      <th>12</th>\n",
       "      <td>658.142857</td>\n",
       "      <td>645.071429</td>\n",
       "      <td>13.071429</td>\n",
       "      <td>270.728571</td>\n",
       "      <td>18.785714</td>\n",
       "      <td>14.540068</td>\n",
       "    </tr>\n",
       "  </tbody>\n",
       "</table>\n",
       "</div>"
      ],
      "text/plain": [
       "       total_accidents  accidents_with_injuries  accidents_with_fatalities  \\\n",
       "month                                                                        \n",
       "01          687.071429               674.142857                  12.928571   \n",
       "02          610.142857               597.785714                  12.357143   \n",
       "03          666.428571               653.714286                  12.714286   \n",
       "04          638.428571               625.500000                  12.928571   \n",
       "05          638.428571               626.285714                  12.142857   \n",
       "06          618.571429               606.928571                  11.642857   \n",
       "07          671.785714               659.928571                  11.857143   \n",
       "08          686.785714               674.642857                  12.142857   \n",
       "09          652.285714               641.142857                  11.142857   \n",
       "10          670.642857               659.500000                  11.142857   \n",
       "11          673.642857               661.357143                  12.285714   \n",
       "12          658.142857               645.071429                  13.071429   \n",
       "\n",
       "       total_rainfall  no_of_rainy_days  average_daily_rainfall  \n",
       "month                                                            \n",
       "01         204.478571         13.285714               14.496167  \n",
       "02          93.921429          8.071429                8.699069  \n",
       "03         150.857143         11.785714               12.239625  \n",
       "04         161.657143         14.857143               11.360229  \n",
       "05         172.328571         15.285714               11.353035  \n",
       "06         134.114286         13.714286                9.425040  \n",
       "07         138.300000         14.071429                9.827872  \n",
       "08         157.864286         14.500000               10.492007  \n",
       "09         129.128571         13.357143                9.444708  \n",
       "10         161.392857         15.642857               10.315346  \n",
       "11         248.964286         20.857143               11.937041  \n",
       "12         270.728571         18.785714               14.540068  "
      ]
     },
     "execution_count": 50,
     "metadata": {},
     "output_type": "execute_result"
    }
   ],
   "source": [
    "#create aggregated dataset using the average values for each month across 2008-2021\n",
    "df_agg = df.groupby('month').mean()[['total_accidents']]\n",
    "df_agg['accidents_with_injuries'] = df.groupby('month').mean()[['accidents_with_injuries']]\n",
    "df_agg['accidents_with_fatalities'] = df.groupby('month').mean()[['accidents_with_fatalities']]\n",
    "df_agg['total_rainfall'] = df.groupby('month').mean()[['total_rainfall']]\n",
    "df_agg['no_of_rainy_days'] = df.groupby('month').mean()[['no_of_rainy_days']]\n",
    "df_agg['average_daily_rainfall'] = df.groupby('month').mean()[['average_rainfall']]\n",
    "df_agg"
   ]
  },
  {
   "cell_type": "code",
   "execution_count": 51,
   "metadata": {},
   "outputs": [
    {
     "data": {
      "text/html": [
       "<div>\n",
       "<style scoped>\n",
       "    .dataframe tbody tr th:only-of-type {\n",
       "        vertical-align: middle;\n",
       "    }\n",
       "\n",
       "    .dataframe tbody tr th {\n",
       "        vertical-align: top;\n",
       "    }\n",
       "\n",
       "    .dataframe thead th {\n",
       "        text-align: right;\n",
       "    }\n",
       "</style>\n",
       "<table border=\"1\" class=\"dataframe\">\n",
       "  <thead>\n",
       "    <tr style=\"text-align: right;\">\n",
       "      <th></th>\n",
       "      <th>total_accidents</th>\n",
       "      <th>accidents_with_injuries</th>\n",
       "      <th>accidents_with_fatalities</th>\n",
       "      <th>total_rainfall</th>\n",
       "      <th>no_of_rainy_days</th>\n",
       "      <th>average_daily_rainfall</th>\n",
       "    </tr>\n",
       "    <tr>\n",
       "      <th>month</th>\n",
       "      <th></th>\n",
       "      <th></th>\n",
       "      <th></th>\n",
       "      <th></th>\n",
       "      <th></th>\n",
       "      <th></th>\n",
       "    </tr>\n",
       "  </thead>\n",
       "  <tbody>\n",
       "    <tr>\n",
       "      <th>01</th>\n",
       "      <td>687.071429</td>\n",
       "      <td>674.142857</td>\n",
       "      <td>12.928571</td>\n",
       "      <td>204.478571</td>\n",
       "      <td>13.285714</td>\n",
       "      <td>14.496167</td>\n",
       "    </tr>\n",
       "    <tr>\n",
       "      <th>08</th>\n",
       "      <td>686.785714</td>\n",
       "      <td>674.642857</td>\n",
       "      <td>12.142857</td>\n",
       "      <td>157.864286</td>\n",
       "      <td>14.500000</td>\n",
       "      <td>10.492007</td>\n",
       "    </tr>\n",
       "    <tr>\n",
       "      <th>11</th>\n",
       "      <td>673.642857</td>\n",
       "      <td>661.357143</td>\n",
       "      <td>12.285714</td>\n",
       "      <td>248.964286</td>\n",
       "      <td>20.857143</td>\n",
       "      <td>11.937041</td>\n",
       "    </tr>\n",
       "    <tr>\n",
       "      <th>07</th>\n",
       "      <td>671.785714</td>\n",
       "      <td>659.928571</td>\n",
       "      <td>11.857143</td>\n",
       "      <td>138.300000</td>\n",
       "      <td>14.071429</td>\n",
       "      <td>9.827872</td>\n",
       "    </tr>\n",
       "    <tr>\n",
       "      <th>10</th>\n",
       "      <td>670.642857</td>\n",
       "      <td>659.500000</td>\n",
       "      <td>11.142857</td>\n",
       "      <td>161.392857</td>\n",
       "      <td>15.642857</td>\n",
       "      <td>10.315346</td>\n",
       "    </tr>\n",
       "  </tbody>\n",
       "</table>\n",
       "</div>"
      ],
      "text/plain": [
       "       total_accidents  accidents_with_injuries  accidents_with_fatalities  \\\n",
       "month                                                                        \n",
       "01          687.071429               674.142857                  12.928571   \n",
       "08          686.785714               674.642857                  12.142857   \n",
       "11          673.642857               661.357143                  12.285714   \n",
       "07          671.785714               659.928571                  11.857143   \n",
       "10          670.642857               659.500000                  11.142857   \n",
       "\n",
       "       total_rainfall  no_of_rainy_days  average_daily_rainfall  \n",
       "month                                                            \n",
       "01         204.478571         13.285714               14.496167  \n",
       "08         157.864286         14.500000               10.492007  \n",
       "11         248.964286         20.857143               11.937041  \n",
       "07         138.300000         14.071429                9.827872  \n",
       "10         161.392857         15.642857               10.315346  "
      ]
     },
     "execution_count": 51,
     "metadata": {},
     "output_type": "execute_result"
    }
   ],
   "source": [
    "#sort month by highest number of accidents to lowest\n",
    "df_agg.sort_values(by = 'total_accidents', ascending = False).head()"
   ]
  },
  {
   "cell_type": "markdown",
   "metadata": {},
   "source": [
    "January and August had highest number of accidents."
   ]
  },
  {
   "cell_type": "code",
   "execution_count": 52,
   "metadata": {},
   "outputs": [
    {
     "data": {
      "text/html": [
       "<div>\n",
       "<style scoped>\n",
       "    .dataframe tbody tr th:only-of-type {\n",
       "        vertical-align: middle;\n",
       "    }\n",
       "\n",
       "    .dataframe tbody tr th {\n",
       "        vertical-align: top;\n",
       "    }\n",
       "\n",
       "    .dataframe thead th {\n",
       "        text-align: right;\n",
       "    }\n",
       "</style>\n",
       "<table border=\"1\" class=\"dataframe\">\n",
       "  <thead>\n",
       "    <tr style=\"text-align: right;\">\n",
       "      <th></th>\n",
       "      <th>total_accidents</th>\n",
       "      <th>accidents_with_injuries</th>\n",
       "      <th>accidents_with_fatalities</th>\n",
       "      <th>total_rainfall</th>\n",
       "      <th>no_of_rainy_days</th>\n",
       "      <th>average_daily_rainfall</th>\n",
       "    </tr>\n",
       "    <tr>\n",
       "      <th>month</th>\n",
       "      <th></th>\n",
       "      <th></th>\n",
       "      <th></th>\n",
       "      <th></th>\n",
       "      <th></th>\n",
       "      <th></th>\n",
       "    </tr>\n",
       "  </thead>\n",
       "  <tbody>\n",
       "    <tr>\n",
       "      <th>11</th>\n",
       "      <td>673.642857</td>\n",
       "      <td>661.357143</td>\n",
       "      <td>12.285714</td>\n",
       "      <td>248.964286</td>\n",
       "      <td>20.857143</td>\n",
       "      <td>11.937041</td>\n",
       "    </tr>\n",
       "    <tr>\n",
       "      <th>12</th>\n",
       "      <td>658.142857</td>\n",
       "      <td>645.071429</td>\n",
       "      <td>13.071429</td>\n",
       "      <td>270.728571</td>\n",
       "      <td>18.785714</td>\n",
       "      <td>14.540068</td>\n",
       "    </tr>\n",
       "    <tr>\n",
       "      <th>10</th>\n",
       "      <td>670.642857</td>\n",
       "      <td>659.500000</td>\n",
       "      <td>11.142857</td>\n",
       "      <td>161.392857</td>\n",
       "      <td>15.642857</td>\n",
       "      <td>10.315346</td>\n",
       "    </tr>\n",
       "    <tr>\n",
       "      <th>05</th>\n",
       "      <td>638.428571</td>\n",
       "      <td>626.285714</td>\n",
       "      <td>12.142857</td>\n",
       "      <td>172.328571</td>\n",
       "      <td>15.285714</td>\n",
       "      <td>11.353035</td>\n",
       "    </tr>\n",
       "    <tr>\n",
       "      <th>04</th>\n",
       "      <td>638.428571</td>\n",
       "      <td>625.500000</td>\n",
       "      <td>12.928571</td>\n",
       "      <td>161.657143</td>\n",
       "      <td>14.857143</td>\n",
       "      <td>11.360229</td>\n",
       "    </tr>\n",
       "  </tbody>\n",
       "</table>\n",
       "</div>"
      ],
      "text/plain": [
       "       total_accidents  accidents_with_injuries  accidents_with_fatalities  \\\n",
       "month                                                                        \n",
       "11          673.642857               661.357143                  12.285714   \n",
       "12          658.142857               645.071429                  13.071429   \n",
       "10          670.642857               659.500000                  11.142857   \n",
       "05          638.428571               626.285714                  12.142857   \n",
       "04          638.428571               625.500000                  12.928571   \n",
       "\n",
       "       total_rainfall  no_of_rainy_days  average_daily_rainfall  \n",
       "month                                                            \n",
       "11         248.964286         20.857143               11.937041  \n",
       "12         270.728571         18.785714               14.540068  \n",
       "10         161.392857         15.642857               10.315346  \n",
       "05         172.328571         15.285714               11.353035  \n",
       "04         161.657143         14.857143               11.360229  "
      ]
     },
     "execution_count": 52,
     "metadata": {},
     "output_type": "execute_result"
    }
   ],
   "source": [
    "#sort month by highest number of rainy days to lowest\n",
    "df_agg.sort_values(by = 'no_of_rainy_days', ascending = False).head()"
   ]
  },
  {
   "cell_type": "markdown",
   "metadata": {},
   "source": [
    "November and December had highest number of rainy days."
   ]
  },
  {
   "cell_type": "code",
   "execution_count": 53,
   "metadata": {},
   "outputs": [
    {
     "data": {
      "text/html": [
       "<div>\n",
       "<style scoped>\n",
       "    .dataframe tbody tr th:only-of-type {\n",
       "        vertical-align: middle;\n",
       "    }\n",
       "\n",
       "    .dataframe tbody tr th {\n",
       "        vertical-align: top;\n",
       "    }\n",
       "\n",
       "    .dataframe thead th {\n",
       "        text-align: right;\n",
       "    }\n",
       "</style>\n",
       "<table border=\"1\" class=\"dataframe\">\n",
       "  <thead>\n",
       "    <tr style=\"text-align: right;\">\n",
       "      <th></th>\n",
       "      <th>total_accidents</th>\n",
       "      <th>accidents_with_injuries</th>\n",
       "      <th>accidents_with_fatalities</th>\n",
       "      <th>total_rainfall</th>\n",
       "      <th>no_of_rainy_days</th>\n",
       "      <th>average_daily_rainfall</th>\n",
       "    </tr>\n",
       "    <tr>\n",
       "      <th>month</th>\n",
       "      <th></th>\n",
       "      <th></th>\n",
       "      <th></th>\n",
       "      <th></th>\n",
       "      <th></th>\n",
       "      <th></th>\n",
       "    </tr>\n",
       "  </thead>\n",
       "  <tbody>\n",
       "    <tr>\n",
       "      <th>12</th>\n",
       "      <td>658.142857</td>\n",
       "      <td>645.071429</td>\n",
       "      <td>13.071429</td>\n",
       "      <td>270.728571</td>\n",
       "      <td>18.785714</td>\n",
       "      <td>14.540068</td>\n",
       "    </tr>\n",
       "    <tr>\n",
       "      <th>11</th>\n",
       "      <td>673.642857</td>\n",
       "      <td>661.357143</td>\n",
       "      <td>12.285714</td>\n",
       "      <td>248.964286</td>\n",
       "      <td>20.857143</td>\n",
       "      <td>11.937041</td>\n",
       "    </tr>\n",
       "    <tr>\n",
       "      <th>01</th>\n",
       "      <td>687.071429</td>\n",
       "      <td>674.142857</td>\n",
       "      <td>12.928571</td>\n",
       "      <td>204.478571</td>\n",
       "      <td>13.285714</td>\n",
       "      <td>14.496167</td>\n",
       "    </tr>\n",
       "    <tr>\n",
       "      <th>05</th>\n",
       "      <td>638.428571</td>\n",
       "      <td>626.285714</td>\n",
       "      <td>12.142857</td>\n",
       "      <td>172.328571</td>\n",
       "      <td>15.285714</td>\n",
       "      <td>11.353035</td>\n",
       "    </tr>\n",
       "    <tr>\n",
       "      <th>04</th>\n",
       "      <td>638.428571</td>\n",
       "      <td>625.500000</td>\n",
       "      <td>12.928571</td>\n",
       "      <td>161.657143</td>\n",
       "      <td>14.857143</td>\n",
       "      <td>11.360229</td>\n",
       "    </tr>\n",
       "  </tbody>\n",
       "</table>\n",
       "</div>"
      ],
      "text/plain": [
       "       total_accidents  accidents_with_injuries  accidents_with_fatalities  \\\n",
       "month                                                                        \n",
       "12          658.142857               645.071429                  13.071429   \n",
       "11          673.642857               661.357143                  12.285714   \n",
       "01          687.071429               674.142857                  12.928571   \n",
       "05          638.428571               626.285714                  12.142857   \n",
       "04          638.428571               625.500000                  12.928571   \n",
       "\n",
       "       total_rainfall  no_of_rainy_days  average_daily_rainfall  \n",
       "month                                                            \n",
       "12         270.728571         18.785714               14.540068  \n",
       "11         248.964286         20.857143               11.937041  \n",
       "01         204.478571         13.285714               14.496167  \n",
       "05         172.328571         15.285714               11.353035  \n",
       "04         161.657143         14.857143               11.360229  "
      ]
     },
     "execution_count": 53,
     "metadata": {},
     "output_type": "execute_result"
    }
   ],
   "source": [
    "#sort month by highest total rainfall to lowest\n",
    "df_agg.sort_values(by = 'total_rainfall', ascending = False).head()"
   ]
  },
  {
   "cell_type": "markdown",
   "metadata": {},
   "source": [
    "December and November had highest total rainfall."
   ]
  },
  {
   "cell_type": "code",
   "execution_count": 54,
   "metadata": {},
   "outputs": [
    {
     "data": {
      "text/html": [
       "<div>\n",
       "<style scoped>\n",
       "    .dataframe tbody tr th:only-of-type {\n",
       "        vertical-align: middle;\n",
       "    }\n",
       "\n",
       "    .dataframe tbody tr th {\n",
       "        vertical-align: top;\n",
       "    }\n",
       "\n",
       "    .dataframe thead th {\n",
       "        text-align: right;\n",
       "    }\n",
       "</style>\n",
       "<table border=\"1\" class=\"dataframe\">\n",
       "  <thead>\n",
       "    <tr style=\"text-align: right;\">\n",
       "      <th></th>\n",
       "      <th>total_accidents</th>\n",
       "      <th>accidents_with_injuries</th>\n",
       "      <th>accidents_with_fatalities</th>\n",
       "      <th>total_rainfall</th>\n",
       "      <th>no_of_rainy_days</th>\n",
       "      <th>average_daily_rainfall</th>\n",
       "    </tr>\n",
       "    <tr>\n",
       "      <th>month</th>\n",
       "      <th></th>\n",
       "      <th></th>\n",
       "      <th></th>\n",
       "      <th></th>\n",
       "      <th></th>\n",
       "      <th></th>\n",
       "    </tr>\n",
       "  </thead>\n",
       "  <tbody>\n",
       "    <tr>\n",
       "      <th>12</th>\n",
       "      <td>658.142857</td>\n",
       "      <td>645.071429</td>\n",
       "      <td>13.071429</td>\n",
       "      <td>270.728571</td>\n",
       "      <td>18.785714</td>\n",
       "      <td>14.540068</td>\n",
       "    </tr>\n",
       "    <tr>\n",
       "      <th>01</th>\n",
       "      <td>687.071429</td>\n",
       "      <td>674.142857</td>\n",
       "      <td>12.928571</td>\n",
       "      <td>204.478571</td>\n",
       "      <td>13.285714</td>\n",
       "      <td>14.496167</td>\n",
       "    </tr>\n",
       "    <tr>\n",
       "      <th>04</th>\n",
       "      <td>638.428571</td>\n",
       "      <td>625.500000</td>\n",
       "      <td>12.928571</td>\n",
       "      <td>161.657143</td>\n",
       "      <td>14.857143</td>\n",
       "      <td>11.360229</td>\n",
       "    </tr>\n",
       "    <tr>\n",
       "      <th>03</th>\n",
       "      <td>666.428571</td>\n",
       "      <td>653.714286</td>\n",
       "      <td>12.714286</td>\n",
       "      <td>150.857143</td>\n",
       "      <td>11.785714</td>\n",
       "      <td>12.239625</td>\n",
       "    </tr>\n",
       "    <tr>\n",
       "      <th>02</th>\n",
       "      <td>610.142857</td>\n",
       "      <td>597.785714</td>\n",
       "      <td>12.357143</td>\n",
       "      <td>93.921429</td>\n",
       "      <td>8.071429</td>\n",
       "      <td>8.699069</td>\n",
       "    </tr>\n",
       "  </tbody>\n",
       "</table>\n",
       "</div>"
      ],
      "text/plain": [
       "       total_accidents  accidents_with_injuries  accidents_with_fatalities  \\\n",
       "month                                                                        \n",
       "12          658.142857               645.071429                  13.071429   \n",
       "01          687.071429               674.142857                  12.928571   \n",
       "04          638.428571               625.500000                  12.928571   \n",
       "03          666.428571               653.714286                  12.714286   \n",
       "02          610.142857               597.785714                  12.357143   \n",
       "\n",
       "       total_rainfall  no_of_rainy_days  average_daily_rainfall  \n",
       "month                                                            \n",
       "12         270.728571         18.785714               14.540068  \n",
       "01         204.478571         13.285714               14.496167  \n",
       "04         161.657143         14.857143               11.360229  \n",
       "03         150.857143         11.785714               12.239625  \n",
       "02          93.921429          8.071429                8.699069  "
      ]
     },
     "execution_count": 54,
     "metadata": {},
     "output_type": "execute_result"
    }
   ],
   "source": [
    "#sort month by highest number of fatal accidents to lowest\n",
    "df_agg.sort_values(by = 'accidents_with_fatalities', ascending = False).head()"
   ]
  },
  {
   "cell_type": "markdown",
   "metadata": {},
   "source": [
    "December and January had highest number of accidents with fatalities."
   ]
  },
  {
   "cell_type": "code",
   "execution_count": 55,
   "metadata": {},
   "outputs": [
    {
     "data": {
      "text/html": [
       "<div>\n",
       "<style scoped>\n",
       "    .dataframe tbody tr th:only-of-type {\n",
       "        vertical-align: middle;\n",
       "    }\n",
       "\n",
       "    .dataframe tbody tr th {\n",
       "        vertical-align: top;\n",
       "    }\n",
       "\n",
       "    .dataframe thead th {\n",
       "        text-align: right;\n",
       "    }\n",
       "</style>\n",
       "<table border=\"1\" class=\"dataframe\">\n",
       "  <thead>\n",
       "    <tr style=\"text-align: right;\">\n",
       "      <th></th>\n",
       "      <th>total_accidents</th>\n",
       "      <th>accidents_with_injuries</th>\n",
       "      <th>accidents_with_fatalities</th>\n",
       "      <th>total_rainfall</th>\n",
       "      <th>no_of_rainy_days</th>\n",
       "      <th>average_daily_rainfall</th>\n",
       "    </tr>\n",
       "    <tr>\n",
       "      <th>month</th>\n",
       "      <th></th>\n",
       "      <th></th>\n",
       "      <th></th>\n",
       "      <th></th>\n",
       "      <th></th>\n",
       "      <th></th>\n",
       "    </tr>\n",
       "  </thead>\n",
       "  <tbody>\n",
       "    <tr>\n",
       "      <th>08</th>\n",
       "      <td>686.785714</td>\n",
       "      <td>674.642857</td>\n",
       "      <td>12.142857</td>\n",
       "      <td>157.864286</td>\n",
       "      <td>14.500000</td>\n",
       "      <td>10.492007</td>\n",
       "    </tr>\n",
       "    <tr>\n",
       "      <th>01</th>\n",
       "      <td>687.071429</td>\n",
       "      <td>674.142857</td>\n",
       "      <td>12.928571</td>\n",
       "      <td>204.478571</td>\n",
       "      <td>13.285714</td>\n",
       "      <td>14.496167</td>\n",
       "    </tr>\n",
       "    <tr>\n",
       "      <th>11</th>\n",
       "      <td>673.642857</td>\n",
       "      <td>661.357143</td>\n",
       "      <td>12.285714</td>\n",
       "      <td>248.964286</td>\n",
       "      <td>20.857143</td>\n",
       "      <td>11.937041</td>\n",
       "    </tr>\n",
       "    <tr>\n",
       "      <th>07</th>\n",
       "      <td>671.785714</td>\n",
       "      <td>659.928571</td>\n",
       "      <td>11.857143</td>\n",
       "      <td>138.300000</td>\n",
       "      <td>14.071429</td>\n",
       "      <td>9.827872</td>\n",
       "    </tr>\n",
       "    <tr>\n",
       "      <th>10</th>\n",
       "      <td>670.642857</td>\n",
       "      <td>659.500000</td>\n",
       "      <td>11.142857</td>\n",
       "      <td>161.392857</td>\n",
       "      <td>15.642857</td>\n",
       "      <td>10.315346</td>\n",
       "    </tr>\n",
       "  </tbody>\n",
       "</table>\n",
       "</div>"
      ],
      "text/plain": [
       "       total_accidents  accidents_with_injuries  accidents_with_fatalities  \\\n",
       "month                                                                        \n",
       "08          686.785714               674.642857                  12.142857   \n",
       "01          687.071429               674.142857                  12.928571   \n",
       "11          673.642857               661.357143                  12.285714   \n",
       "07          671.785714               659.928571                  11.857143   \n",
       "10          670.642857               659.500000                  11.142857   \n",
       "\n",
       "       total_rainfall  no_of_rainy_days  average_daily_rainfall  \n",
       "month                                                            \n",
       "08         157.864286         14.500000               10.492007  \n",
       "01         204.478571         13.285714               14.496167  \n",
       "11         248.964286         20.857143               11.937041  \n",
       "07         138.300000         14.071429                9.827872  \n",
       "10         161.392857         15.642857               10.315346  "
      ]
     },
     "execution_count": 55,
     "metadata": {},
     "output_type": "execute_result"
    }
   ],
   "source": [
    "#sort month by highest number of accidents with injuries to lowest\n",
    "df_agg.sort_values(by = 'accidents_with_injuries', ascending = False).head()"
   ]
  },
  {
   "cell_type": "markdown",
   "metadata": {},
   "source": [
    "Auguest and January had highest number of accidents with injuries."
   ]
  },
  {
   "cell_type": "code",
   "execution_count": 56,
   "metadata": {},
   "outputs": [
    {
     "data": {
      "text/html": [
       "<div>\n",
       "<style scoped>\n",
       "    .dataframe tbody tr th:only-of-type {\n",
       "        vertical-align: middle;\n",
       "    }\n",
       "\n",
       "    .dataframe tbody tr th {\n",
       "        vertical-align: top;\n",
       "    }\n",
       "\n",
       "    .dataframe thead th {\n",
       "        text-align: right;\n",
       "    }\n",
       "</style>\n",
       "<table border=\"1\" class=\"dataframe\">\n",
       "  <thead>\n",
       "    <tr style=\"text-align: right;\">\n",
       "      <th></th>\n",
       "      <th>total_accidents</th>\n",
       "      <th>accidents_with_injuries</th>\n",
       "      <th>accidents_with_fatalities</th>\n",
       "      <th>total_rainfall</th>\n",
       "      <th>no_of_rainy_days</th>\n",
       "      <th>average_daily_rainfall</th>\n",
       "    </tr>\n",
       "    <tr>\n",
       "      <th>month</th>\n",
       "      <th></th>\n",
       "      <th></th>\n",
       "      <th></th>\n",
       "      <th></th>\n",
       "      <th></th>\n",
       "      <th></th>\n",
       "    </tr>\n",
       "  </thead>\n",
       "  <tbody>\n",
       "    <tr>\n",
       "      <th>12</th>\n",
       "      <td>658.142857</td>\n",
       "      <td>645.071429</td>\n",
       "      <td>13.071429</td>\n",
       "      <td>270.728571</td>\n",
       "      <td>18.785714</td>\n",
       "      <td>14.540068</td>\n",
       "    </tr>\n",
       "    <tr>\n",
       "      <th>01</th>\n",
       "      <td>687.071429</td>\n",
       "      <td>674.142857</td>\n",
       "      <td>12.928571</td>\n",
       "      <td>204.478571</td>\n",
       "      <td>13.285714</td>\n",
       "      <td>14.496167</td>\n",
       "    </tr>\n",
       "    <tr>\n",
       "      <th>03</th>\n",
       "      <td>666.428571</td>\n",
       "      <td>653.714286</td>\n",
       "      <td>12.714286</td>\n",
       "      <td>150.857143</td>\n",
       "      <td>11.785714</td>\n",
       "      <td>12.239625</td>\n",
       "    </tr>\n",
       "    <tr>\n",
       "      <th>11</th>\n",
       "      <td>673.642857</td>\n",
       "      <td>661.357143</td>\n",
       "      <td>12.285714</td>\n",
       "      <td>248.964286</td>\n",
       "      <td>20.857143</td>\n",
       "      <td>11.937041</td>\n",
       "    </tr>\n",
       "    <tr>\n",
       "      <th>04</th>\n",
       "      <td>638.428571</td>\n",
       "      <td>625.500000</td>\n",
       "      <td>12.928571</td>\n",
       "      <td>161.657143</td>\n",
       "      <td>14.857143</td>\n",
       "      <td>11.360229</td>\n",
       "    </tr>\n",
       "  </tbody>\n",
       "</table>\n",
       "</div>"
      ],
      "text/plain": [
       "       total_accidents  accidents_with_injuries  accidents_with_fatalities  \\\n",
       "month                                                                        \n",
       "12          658.142857               645.071429                  13.071429   \n",
       "01          687.071429               674.142857                  12.928571   \n",
       "03          666.428571               653.714286                  12.714286   \n",
       "11          673.642857               661.357143                  12.285714   \n",
       "04          638.428571               625.500000                  12.928571   \n",
       "\n",
       "       total_rainfall  no_of_rainy_days  average_daily_rainfall  \n",
       "month                                                            \n",
       "12         270.728571         18.785714               14.540068  \n",
       "01         204.478571         13.285714               14.496167  \n",
       "03         150.857143         11.785714               12.239625  \n",
       "11         248.964286         20.857143               11.937041  \n",
       "04         161.657143         14.857143               11.360229  "
      ]
     },
     "execution_count": 56,
     "metadata": {},
     "output_type": "execute_result"
    }
   ],
   "source": [
    "#sort month by highest average daily rainfall to lowest\n",
    "df_agg.sort_values(by = 'average_daily_rainfall', ascending = False).head()"
   ]
  },
  {
   "cell_type": "markdown",
   "metadata": {},
   "source": [
    "In summary:\n",
    "    \n",
    "    January and August had highest number of accidents.\n",
    "    November and December had highest number of rainy days.\n",
    "    December and November had highest total rainfall.\n",
    "    December and January had highest number of accidents with fatalities.\n",
    "    Auguest and January had highest number of accidents with injuries.\n",
    "    December and January had highest average daily rainfall.\n",
    "    \n",
    "Finding: Potential correlation between accidents with fatalities and average daily rainfall.\n"
   ]
  },
  {
   "cell_type": "markdown",
   "metadata": {},
   "source": [
    "## Visualize the Data"
   ]
  },
  {
   "cell_type": "code",
   "execution_count": 57,
   "metadata": {},
   "outputs": [
    {
     "data": {
      "image/png": "[encoded data removed]",
      "text/plain": [
       "<Figure size 800x800 with 2 Axes>"
      ]
     },
     "metadata": {},
     "output_type": "display_data"
    }
   ],
   "source": [
    "#check correlations between variables\n",
    "plt.figure(figsize=(8,8))\n",
    "sns.heatmap(df_agg.corr(), annot = True)\n",
    "plt.title('Correlations between variables');"
   ]
  },
  {
   "cell_type": "markdown",
   "metadata": {},
   "source": [
    "1) Highest correlation between total rainfall and number of rainy days, which is expected since having more days of rain would add to total rainfall.\n",
    "2) Also high correlation between average daily rainfall and accidents with fatalities, which also makes sense as more serious traffic accidents are likely to occur in heavier rain."
   ]
  },
  {
   "cell_type": "code",
   "execution_count": 58,
   "metadata": {},
   "outputs": [
    {
     "data": {
      "text/html": [
       "<div>\n",
       "<style scoped>\n",
       "    .dataframe tbody tr th:only-of-type {\n",
       "        vertical-align: middle;\n",
       "    }\n",
       "\n",
       "    .dataframe tbody tr th {\n",
       "        vertical-align: top;\n",
       "    }\n",
       "\n",
       "    .dataframe thead th {\n",
       "        text-align: right;\n",
       "    }\n",
       "</style>\n",
       "<table border=\"1\" class=\"dataframe\">\n",
       "  <thead>\n",
       "    <tr style=\"text-align: right;\">\n",
       "      <th></th>\n",
       "      <th>total_accidents</th>\n",
       "      <th>accidents_with_injuries</th>\n",
       "      <th>accidents_with_fatalities</th>\n",
       "      <th>total_rainfall</th>\n",
       "      <th>no_of_rainy_days</th>\n",
       "      <th>average_daily_rainfall</th>\n",
       "      <th>month</th>\n",
       "    </tr>\n",
       "    <tr>\n",
       "      <th>month</th>\n",
       "      <th></th>\n",
       "      <th></th>\n",
       "      <th></th>\n",
       "      <th></th>\n",
       "      <th></th>\n",
       "      <th></th>\n",
       "      <th></th>\n",
       "    </tr>\n",
       "  </thead>\n",
       "  <tbody>\n",
       "    <tr>\n",
       "      <th>01</th>\n",
       "      <td>687.071429</td>\n",
       "      <td>674.142857</td>\n",
       "      <td>12.928571</td>\n",
       "      <td>204.478571</td>\n",
       "      <td>13.285714</td>\n",
       "      <td>14.496167</td>\n",
       "      <td>Jan</td>\n",
       "    </tr>\n",
       "    <tr>\n",
       "      <th>02</th>\n",
       "      <td>610.142857</td>\n",
       "      <td>597.785714</td>\n",
       "      <td>12.357143</td>\n",
       "      <td>93.921429</td>\n",
       "      <td>8.071429</td>\n",
       "      <td>8.699069</td>\n",
       "      <td>Feb</td>\n",
       "    </tr>\n",
       "    <tr>\n",
       "      <th>03</th>\n",
       "      <td>666.428571</td>\n",
       "      <td>653.714286</td>\n",
       "      <td>12.714286</td>\n",
       "      <td>150.857143</td>\n",
       "      <td>11.785714</td>\n",
       "      <td>12.239625</td>\n",
       "      <td>Mar</td>\n",
       "    </tr>\n",
       "    <tr>\n",
       "      <th>04</th>\n",
       "      <td>638.428571</td>\n",
       "      <td>625.500000</td>\n",
       "      <td>12.928571</td>\n",
       "      <td>161.657143</td>\n",
       "      <td>14.857143</td>\n",
       "      <td>11.360229</td>\n",
       "      <td>Apr</td>\n",
       "    </tr>\n",
       "    <tr>\n",
       "      <th>05</th>\n",
       "      <td>638.428571</td>\n",
       "      <td>626.285714</td>\n",
       "      <td>12.142857</td>\n",
       "      <td>172.328571</td>\n",
       "      <td>15.285714</td>\n",
       "      <td>11.353035</td>\n",
       "      <td>May</td>\n",
       "    </tr>\n",
       "    <tr>\n",
       "      <th>06</th>\n",
       "      <td>618.571429</td>\n",
       "      <td>606.928571</td>\n",
       "      <td>11.642857</td>\n",
       "      <td>134.114286</td>\n",
       "      <td>13.714286</td>\n",
       "      <td>9.425040</td>\n",
       "      <td>Jun</td>\n",
       "    </tr>\n",
       "    <tr>\n",
       "      <th>07</th>\n",
       "      <td>671.785714</td>\n",
       "      <td>659.928571</td>\n",
       "      <td>11.857143</td>\n",
       "      <td>138.300000</td>\n",
       "      <td>14.071429</td>\n",
       "      <td>9.827872</td>\n",
       "      <td>Jul</td>\n",
       "    </tr>\n",
       "    <tr>\n",
       "      <th>08</th>\n",
       "      <td>686.785714</td>\n",
       "      <td>674.642857</td>\n",
       "      <td>12.142857</td>\n",
       "      <td>157.864286</td>\n",
       "      <td>14.500000</td>\n",
       "      <td>10.492007</td>\n",
       "      <td>Aug</td>\n",
       "    </tr>\n",
       "    <tr>\n",
       "      <th>09</th>\n",
       "      <td>652.285714</td>\n",
       "      <td>641.142857</td>\n",
       "      <td>11.142857</td>\n",
       "      <td>129.128571</td>\n",
       "      <td>13.357143</td>\n",
       "      <td>9.444708</td>\n",
       "      <td>Sep</td>\n",
       "    </tr>\n",
       "    <tr>\n",
       "      <th>10</th>\n",
       "      <td>670.642857</td>\n",
       "      <td>659.500000</td>\n",
       "      <td>11.142857</td>\n",
       "      <td>161.392857</td>\n",
       "      <td>15.642857</td>\n",
       "      <td>10.315346</td>\n",
       "      <td>Oct</td>\n",
       "    </tr>\n",
       "    <tr>\n",
       "      <th>11</th>\n",
       "      <td>673.642857</td>\n",
       "      <td>661.357143</td>\n",
       "      <td>12.285714</td>\n",
       "      <td>248.964286</td>\n",
       "      <td>20.857143</td>\n",
       "      <td>11.937041</td>\n",
       "      <td>Nov</td>\n",
       "    </tr>\n",
       "    <tr>\n",
       "      <th>12</th>\n",
       "      <td>658.142857</td>\n",
       "      <td>645.071429</td>\n",
       "      <td>13.071429</td>\n",
       "      <td>270.728571</td>\n",
       "      <td>18.785714</td>\n",
       "      <td>14.540068</td>\n",
       "      <td>Dec</td>\n",
       "    </tr>\n",
       "  </tbody>\n",
       "</table>\n",
       "</div>"
      ],
      "text/plain": [
       "       total_accidents  accidents_with_injuries  accidents_with_fatalities  \\\n",
       "month                                                                        \n",
       "01          687.071429               674.142857                  12.928571   \n",
       "02          610.142857               597.785714                  12.357143   \n",
       "03          666.428571               653.714286                  12.714286   \n",
       "04          638.428571               625.500000                  12.928571   \n",
       "05          638.428571               626.285714                  12.142857   \n",
       "06          618.571429               606.928571                  11.642857   \n",
       "07          671.785714               659.928571                  11.857143   \n",
       "08          686.785714               674.642857                  12.142857   \n",
       "09          652.285714               641.142857                  11.142857   \n",
       "10          670.642857               659.500000                  11.142857   \n",
       "11          673.642857               661.357143                  12.285714   \n",
       "12          658.142857               645.071429                  13.071429   \n",
       "\n",
       "       total_rainfall  no_of_rainy_days  average_daily_rainfall month  \n",
       "month                                                                  \n",
       "01         204.478571         13.285714               14.496167   Jan  \n",
       "02          93.921429          8.071429                8.699069   Feb  \n",
       "03         150.857143         11.785714               12.239625   Mar  \n",
       "04         161.657143         14.857143               11.360229   Apr  \n",
       "05         172.328571         15.285714               11.353035   May  \n",
       "06         134.114286         13.714286                9.425040   Jun  \n",
       "07         138.300000         14.071429                9.827872   Jul  \n",
       "08         157.864286         14.500000               10.492007   Aug  \n",
       "09         129.128571         13.357143                9.444708   Sep  \n",
       "10         161.392857         15.642857               10.315346   Oct  \n",
       "11         248.964286         20.857143               11.937041   Nov  \n",
       "12         270.728571         18.785714               14.540068   Dec  "
      ]
     },
     "execution_count": 58,
     "metadata": {},
     "output_type": "execute_result"
    }
   ],
   "source": [
    "#create month variable for plotting charts\n",
    "df_agg['month'] = ['Jan','Feb','Mar','Apr','May','Jun','Jul','Aug','Sep','Oct','Nov','Dec']\n",
    "df_agg"
   ]
  },
  {
   "cell_type": "code",
   "execution_count": 59,
   "metadata": {},
   "outputs": [
    {
     "data": {
      "text/plain": [
       "Text(0.5, 1.0, 'Mean number of accidents each month from 2008-2021')"
      ]
     },
     "execution_count": 59,
     "metadata": {},
     "output_type": "execute_result"
    },
    {
     "data": {
      "image/png": "[encoded data removed]",
      "text/plain": [
       "<Figure size 640x480 with 1 Axes>"
      ]
     },
     "metadata": {},
     "output_type": "display_data"
    }
   ],
   "source": [
    "#create bar chart of average monthly total accidents \n",
    "data = df_agg.sort_values(by = 'total_accidents', ascending = False)\n",
    "x = data['month']\n",
    "y = data['total_accidents']\n",
    "\n",
    "plt.bar(x,y, data = data)\n",
    "plt.title('Mean number of accidents each month from 2008-2021')"
   ]
  },
  {
   "cell_type": "markdown",
   "metadata": {},
   "source": [
    "January and August had highest number of accidents."
   ]
  },
  {
   "cell_type": "code",
   "execution_count": 60,
   "metadata": {},
   "outputs": [
    {
     "data": {
      "text/plain": [
       "Text(0.5, 1.0, 'Mean total rainfall each month from 2008-2021')"
      ]
     },
     "execution_count": 60,
     "metadata": {},
     "output_type": "execute_result"
    },
    {
     "data": {
      "image/png": "[encoded data removed]",
      "text/plain": [
       "<Figure size 640x480 with 1 Axes>"
      ]
     },
     "metadata": {},
     "output_type": "display_data"
    }
   ],
   "source": [
    "#create bar chart of average monthly total rainfall\n",
    "data = df_agg.sort_values(by = 'total_rainfall', ascending = False)\n",
    "x = data['month']\n",
    "y = data['total_rainfall']\n",
    "\n",
    "plt.bar(x,y)\n",
    "plt.title('Mean total rainfall each month from 2008-2021')"
   ]
  },
  {
   "cell_type": "markdown",
   "metadata": {},
   "source": [
    "December and November had highest total rainfall."
   ]
  },
  {
   "cell_type": "code",
   "execution_count": 61,
   "metadata": {},
   "outputs": [
    {
     "data": {
      "text/plain": [
       "Text(0.5, 1.0, 'Mean number of rainy days each month from 2008-2021')"
      ]
     },
     "execution_count": 61,
     "metadata": {},
     "output_type": "execute_result"
    },
    {
     "data": {
      "image/png": "[encoded data removed]",
      "text/plain": [
       "<Figure size 640x480 with 1 Axes>"
      ]
     },
     "metadata": {},
     "output_type": "display_data"
    }
   ],
   "source": [
    "#create bar chart of average monthly number of rainy days\n",
    "data = df_agg.sort_values(by = 'no_of_rainy_days', ascending = False)\n",
    "x = data['month']\n",
    "y = data['no_of_rainy_days']\n",
    "\n",
    "plt.bar(x,y)\n",
    "plt.title('Mean number of rainy days each month from 2008-2021')"
   ]
  },
  {
   "cell_type": "markdown",
   "metadata": {},
   "source": [
    "November and December had highest number of rainy days."
   ]
  },
  {
   "cell_type": "code",
   "execution_count": 62,
   "metadata": {},
   "outputs": [
    {
     "data": {
      "text/plain": [
       "Text(0.5, 1.0, 'Mean number of accidents with fatalities each month from 2008-2021')"
      ]
     },
     "execution_count": 62,
     "metadata": {},
     "output_type": "execute_result"
    },
    {
     "data": {
      "image/png": "[encoded data removed]",
      "text/plain": [
       "<Figure size 640x480 with 1 Axes>"
      ]
     },
     "metadata": {},
     "output_type": "display_data"
    }
   ],
   "source": [
    "#create bar chart of average monthly total accidents with fatalities\n",
    "data = df_agg.sort_values(by = 'accidents_with_fatalities', ascending = False)\n",
    "x = data['month']\n",
    "y = data['accidents_with_fatalities']\n",
    "\n",
    "plt.bar(x,y)\n",
    "plt.title('Mean number of accidents with fatalities each month from 2008-2021')"
   ]
  },
  {
   "cell_type": "markdown",
   "metadata": {},
   "source": [
    "December and January had highest number of accidents with fatalities."
   ]
  },
  {
   "cell_type": "code",
   "execution_count": 63,
   "metadata": {},
   "outputs": [
    {
     "data": {
      "text/plain": [
       "Text(0.5, 1.0, 'Mean number of accidents with injuries each month from 2008-2021')"
      ]
     },
     "execution_count": 63,
     "metadata": {},
     "output_type": "execute_result"
    },
    {
     "data": {
      "image/png": "[encoded data removed]",
      "text/plain": [
       "<Figure size 640x480 with 1 Axes>"
      ]
     },
     "metadata": {},
     "output_type": "display_data"
    }
   ],
   "source": [
    "#create bar chart of average monthly total accidents with injuries\n",
    "data = df_agg.sort_values(by = 'accidents_with_injuries', ascending = False)\n",
    "x = data['month']\n",
    "y = data['accidents_with_injuries']\n",
    "\n",
    "plt.bar(x,y)\n",
    "plt.title('Mean number of accidents with injuries each month from 2008-2021')"
   ]
  },
  {
   "cell_type": "markdown",
   "metadata": {},
   "source": [
    "Auguest and January had highest number of accidents with injuries."
   ]
  },
  {
   "cell_type": "code",
   "execution_count": 64,
   "metadata": {},
   "outputs": [
    {
     "data": {
      "text/plain": [
       "Text(0.5, 1.0, 'Average daily rainfall each month from 2008-2021')"
      ]
     },
     "execution_count": 64,
     "metadata": {},
     "output_type": "execute_result"
    },
    {
     "data": {
      "image/png": "[encoded data removed]",
      "text/plain": [
       "<Figure size 640x480 with 1 Axes>"
      ]
     },
     "metadata": {},
     "output_type": "display_data"
    }
   ],
   "source": [
    "#create bar chart of average daily rainfall each month\n",
    "data = df_agg.sort_values(by = 'average_daily_rainfall', ascending = False)\n",
    "x = data['month']\n",
    "y = data['average_daily_rainfall']\n",
    "\n",
    "plt.bar(x,y)\n",
    "plt.title('Average daily rainfall each month from 2008-2021')"
   ]
  },
  {
   "cell_type": "markdown",
   "metadata": {},
   "source": [
    "December and January had highest average daily rainfall."
   ]
  },
  {
   "cell_type": "code",
   "execution_count": 65,
   "metadata": {},
   "outputs": [
    {
     "data": {
      "image/png": "[encoded data removed]",
      "text/plain": [
       "<Figure size 640x480 with 2 Axes>"
      ]
     },
     "metadata": {},
     "output_type": "display_data"
    }
   ],
   "source": [
    "#create bar chart of average monthly total rainfall vs number of rainy days\n",
    "\n",
    "plt.subplot(2,1,1)\n",
    "x = df_agg['month']\n",
    "y1 = df_agg['total_rainfall']\n",
    "\n",
    "plt.bar(x,y1)\n",
    "plt.ylabel('Mean total rainfall')\n",
    "plt.xticks([],[])\n",
    "plt.title('total rainfall vs number of rainy days')\n",
    "\n",
    "plt.subplot(2,1,2)\n",
    "y2 = df_agg['no_of_rainy_days']\n",
    "\n",
    "plt.bar(x,y2)\n",
    "plt.ylabel('Number of rainy days')\n",
    "plt.xticks(x)\n",
    "\n",
    "plt.show()"
   ]
  },
  {
   "cell_type": "markdown",
   "metadata": {},
   "source": [
    "As expected, total rainfall follows a similar trend to number of rainy days."
   ]
  },
  {
   "cell_type": "code",
   "execution_count": 66,
   "metadata": {},
   "outputs": [
    {
     "data": {
      "image/png": "[encoded data removed]",
      "text/plain": [
       "<Figure size 640x480 with 2 Axes>"
      ]
     },
     "metadata": {},
     "output_type": "display_data"
    }
   ],
   "source": [
    "#create bar chart of monthly total accidents with fatalities vs average daily rainfall\n",
    "plt.subplot(2,1,1)\n",
    "x = df_agg['month']\n",
    "y1 = df_agg['accidents_with_fatalities']\n",
    "\n",
    "plt.bar(x,y1)\n",
    "plt.ylabel('Number of fatal accidents')\n",
    "plt.xticks([],[])\n",
    "plt.title('total accidents with fatalities vs average daily rainfall')\n",
    "\n",
    "plt.subplot(2,1,2)\n",
    "y2 = df_agg['average_daily_rainfall']\n",
    "\n",
    "plt.bar(x,y2)\n",
    "plt.ylabel('Average daiy rainfall')\n",
    "plt.xticks(x)\n",
    "\n",
    "plt.show()"
   ]
  },
  {
   "cell_type": "markdown",
   "metadata": {},
   "source": [
    "Although we saw high correlation between accidents with fatalities and average daily rainfall, the bar chart shows little variation in the difference between mean number of accidents with fatalities each month."
   ]
  },
  {
   "cell_type": "code",
   "execution_count": 67,
   "metadata": {},
   "outputs": [
    {
     "data": {
      "image/png": "[encoded data removed]",
      "text/plain": [
       "<Figure size 640x480 with 2 Axes>"
      ]
     },
     "metadata": {},
     "output_type": "display_data"
    }
   ],
   "source": [
    "#create distribution chart of total accidents with fatalities vs average daily rainfall\n",
    "fig, axes = plt.subplots(2,1)\n",
    "\n",
    "bplot1 = sns.boxplot(df, x='month', y='accidents_with_fatalities', ax=axes[0] , color = 'green')\n",
    "bplot1.set_xticklabels(df_agg['month'])\n",
    "bplot1.set_xlabel(\"\")\n",
    "bplot1.set_ylabel(\"Accidents with fatalities\")\n",
    "plt.title('total accidents with fatalities vs average daily rainfall')\n",
    "\n",
    "bplot2 = sns.boxplot(df, x='month', y='average_rainfall', ax=axes[1], color = 'green')\n",
    "bplot2.set_xticklabels(df_agg['month'])\n",
    "bplot2.set_xlabel(\"\")\n",
    "bplot2.set_ylabel(\"Average daily rainfall\")\n",
    "\n",
    "plt.tight_layout()\n",
    "plt.show()"
   ]
  },
  {
   "cell_type": "markdown",
   "metadata": {},
   "source": [
    "Looking at the distribution chart, there seem to be outliers in number of accidents for dec."
   ]
  },
  {
   "cell_type": "code",
   "execution_count": 68,
   "metadata": {},
   "outputs": [
    {
     "data": {
      "image/png": "[encoded data removed]",
      "text/plain": [
       "<Figure size 640x480 with 1 Axes>"
      ]
     },
     "metadata": {},
     "output_type": "display_data"
    }
   ],
   "source": [
    "#Create scatterplot of total accidents with fatalities vs average daily rainfall\n",
    "plt.scatter(df['accidents_with_fatalities'], df['average_rainfall'])\n",
    "\n",
    "plt.title('total accidents with fatalities vs average daily rainfall')\n",
    "plt.xlabel(\"Accidents with fatalities\")\n",
    "plt.ylabel(\"Average daily rainfall\")\n",
    "plt.show()"
   ]
  },
  {
   "cell_type": "markdown",
   "metadata": {},
   "source": [
    "Upon closer examination, there seems to be no apparent correlation between accidents with fatalities and average daily rainfall."
   ]
  },
  {
   "cell_type": "markdown",
   "metadata": {},
   "source": [
    "## Conclusions and Recommendations"
   ]
  },
  {
   "cell_type": "markdown",
   "metadata": {},
   "source": [
    "Based on your exploration of the data, what are you key takeaways and recommendations? Make sure to answer your question of interest or address your problem statement here."
   ]
  },
  {
   "cell_type": "markdown",
   "metadata": {},
   "source": [
    "**Key Findings:**\n",
    "1) January and August had highest number of accidents.\n",
    "2) November and December had highest number of rainy days.\n",
    "3) December and November had highest total rainfall.\n",
    "4) December and January had highest number of accidents with fatalities.\n",
    "5) Auguest and January had highest number of accidents with injuries.\n",
    "6) December and January had highest average daily rainfall.\n",
    "7) There is high correlation of 0.85 between number of rainy days and total rainfall.\n",
    "8) There is high correlation of 0.72 between number of accidents with fatalities and average daily rainfall.\n",
    "9) The high correlation between number of accidents with fatalities and average daily rainfall could partly be due to outlier number of accidents in months of Dec.\n",
    "10) A scatterplot of number of accidents with fatalities vs average daily rainfall showed no apparent pattern between the two variables.\n",
    "\n",
    "**Conclusions:** \n",
    "\n",
    "Although initial exploration showed potential correlation between number of accidents with fatalities and the intensity of rain, further analysis showed no conclusive link between the two.\n",
    "\n",
    "Other independent variables also did not show any correlation.\n",
    "\n",
    "**Recommendations:** \n",
    "\n",
    "As limited features were used here, we recommend to further the analysis by including more features such as visibility levels, surface temperature, humidity, etc, which would allow for more comprehensive analysis.\n",
    "\n",
    "Although there were no conclusive findings, we still recommend to place higher emphasis on months with higher rainfall such as Nov-Jan (northeast monsoon period) as we would logically expect the risk of traffic accidents to be higher during rain, especially storms, due to reduced visibility and slippery roads."
   ]
  }
 ],
 "metadata": {
  "anaconda-cloud": {},
  "kernelspec": {
   "display_name": "dsi-sg",
   "language": "python",
   "name": "dsi-sg"
  },
  "language_info": {
   "codemirror_mode": {
    "name": "ipython",
    "version": 3
   },
   "file_extension": ".py",
   "mimetype": "text/x-python",
   "name": "python",
   "nbconvert_exporter": "python",
   "pygments_lexer": "ipython3",
   "version": "3.9.13"
  }
 },
 "nbformat": 4,
 "nbformat_minor": 4
}

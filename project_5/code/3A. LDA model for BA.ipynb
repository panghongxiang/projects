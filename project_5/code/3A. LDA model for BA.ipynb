{
 "cells": [
  {
   "cell_type": "code",
   "execution_count": 1,
   "id": "fb513576-b1bf-4e51-928f-2f1db73e683e",
   "metadata": {},
   "outputs": [
    {
     "name": "stdout",
     "output_type": "stream",
     "text": [
      "Since the GPL-licensed package `unidecode` is not installed, using Python's `unicodedata` package which yields worse results.\n"
     ]
    }
   ],
   "source": [
    "# Import libraries\n",
    "import pandas as pd\n",
    "from sklearn.feature_extraction.text import CountVectorizer\n",
    "from sklearn.decomposition import LatentDirichletAllocation\n",
    "from sklearn.metrics.pairwise import cosine_similarity\n",
    "from sklearn.manifold import TSNE\n",
    "import matplotlib.pyplot as plt\n",
    "import matplotlib.cm as cm\n",
    "import numpy as np\n",
    "\n",
    "import gensim\n",
    "from gensim.utils import simple_preprocess\n",
    "from gensim.parsing.preprocessing import STOPWORDS\n",
    "from gensim import corpora, models, utils\n",
    "from gensim.models import LdaModel\n",
    "from gensim import similarities\n",
    "from gensim.models.phrases import Phrases, Phraser\n",
    "\n",
    "import re\n",
    "import nltk\n",
    "from nltk.tokenize import sent_tokenize, word_tokenize, RegexpTokenizer\n",
    "from nltk.stem import WordNetLemmatizer\n",
    "from nltk.stem.porter import PorterStemmer\n",
    "from nltk.corpus import stopwords, wordnet\n",
    "from nltk.sentiment.vader import SentimentIntensityAnalyzer\n",
    "from sklearn.feature_extraction.text import CountVectorizer\n",
    "from cleantext import clean\n",
    "\n",
    "from wordcloud import WordCloud\n",
    "import seaborn as sns"
   ]
  },
  {
   "cell_type": "code",
   "execution_count": 2,
   "id": "0078c81c-9ae5-4f31-a78b-fbfda099df50",
   "metadata": {},
   "outputs": [
    {
     "data": {
      "text/html": [
       "<div>\n",
       "<style scoped>\n",
       "    .dataframe tbody tr th:only-of-type {\n",
       "        vertical-align: middle;\n",
       "    }\n",
       "\n",
       "    .dataframe tbody tr th {\n",
       "        vertical-align: top;\n",
       "    }\n",
       "\n",
       "    .dataframe thead th {\n",
       "        text-align: right;\n",
       "    }\n",
       "</style>\n",
       "<table border=\"1\" class=\"dataframe\">\n",
       "  <thead>\n",
       "    <tr style=\"text-align: right;\">\n",
       "      <th></th>\n",
       "      <th>description</th>\n",
       "    </tr>\n",
       "  </thead>\n",
       "  <tbody>\n",
       "    <tr>\n",
       "      <th>0</th>\n",
       "      <td>Company Overview At Memorial Sloan Kettering M...</td>\n",
       "    </tr>\n",
       "    <tr>\n",
       "      <th>1</th>\n",
       "      <td>We are seeking for an energetic and collaborat...</td>\n",
       "    </tr>\n",
       "    <tr>\n",
       "      <th>2</th>\n",
       "      <td>For more than a decade Asembia has been workin...</td>\n",
       "    </tr>\n",
       "    <tr>\n",
       "      <th>3</th>\n",
       "      <td>Job Description Summary The Information Securi...</td>\n",
       "    </tr>\n",
       "    <tr>\n",
       "      <th>4</th>\n",
       "      <td>Magnite is the world s largest independent sel...</td>\n",
       "    </tr>\n",
       "  </tbody>\n",
       "</table>\n",
       "</div>"
      ],
      "text/plain": [
       "                                         description\n",
       "0  Company Overview At Memorial Sloan Kettering M...\n",
       "1  We are seeking for an energetic and collaborat...\n",
       "2  For more than a decade Asembia has been workin...\n",
       "3  Job Description Summary The Information Securi...\n",
       "4  Magnite is the world s largest independent sel..."
      ]
     },
     "execution_count": 2,
     "metadata": {},
     "output_type": "execute_result"
    }
   ],
   "source": [
    "#Import data files\n",
    "jd_ba = pd.read_csv(\"../data/jd_ba.csv\",encoding='utf-8')\n",
    "jd_ba.head()"
   ]
  },
  {
   "cell_type": "markdown",
   "id": "1f90ac2a-3d58-4e3e-8540-81dc667efe8c",
   "metadata": {},
   "source": [
    "### Training LDA model using words"
   ]
  },
  {
   "cell_type": "code",
   "execution_count": 3,
   "id": "d5331e71-de91-436a-b144-d210b680eb8c",
   "metadata": {},
   "outputs": [],
   "source": [
    "def preprocess_text(text):\n",
    "    # Tokenize text\n",
    "    tokens = text.lower().split()\n",
    "    \n",
    "    # Remove stopwords\n",
    "    stop_words = set(stopwords.words('english'))\n",
    "    tokens = [token for token in tokens if token not in stop_words]\n",
    "    \n",
    "    # Lemmatize words\n",
    "    lemmatizer = WordNetLemmatizer()\n",
    "    tokens = [lemmatizer.lemmatize(token) for token in tokens]\n",
    "    \n",
    "    return tokens"
   ]
  },
  {
   "cell_type": "code",
   "execution_count": 4,
   "id": "87d5633d-1539-4fd2-bc62-0dacc1c8ac86",
   "metadata": {},
   "outputs": [],
   "source": [
    "# Preprocess job descriptions\n",
    "preprocessed_job_descriptions = jd_ba['description'].apply(preprocess_text)"
   ]
  },
  {
   "cell_type": "code",
   "execution_count": 5,
   "id": "4cfca657-24a8-4ef3-a666-a2df5588e192",
   "metadata": {},
   "outputs": [],
   "source": [
    "# Create dictionary representation of job descriptions\n",
    "dictionary = corpora.Dictionary(preprocessed_job_descriptions)"
   ]
  },
  {
   "cell_type": "code",
   "execution_count": 6,
   "id": "5dec81e2-b990-4ba6-ac1b-bf74220ad452",
   "metadata": {},
   "outputs": [],
   "source": [
    "# Create document-term matrix\n",
    "doc_term_matrix = [dictionary.doc2bow(desc) for desc in preprocessed_job_descriptions]"
   ]
  },
  {
   "cell_type": "code",
   "execution_count": 7,
   "id": "c57fd934-db80-4f9d-809e-aa683b7731ef",
   "metadata": {},
   "outputs": [],
   "source": [
    "# Train LDA model\n",
    "lda_model = models.LdaModel(doc_term_matrix, num_topics=10, id2word=dictionary, passes=10)"
   ]
  },
  {
   "cell_type": "code",
   "execution_count": 8,
   "id": "76f7a495-b179-4f94-be3d-dfa2106c5f99",
   "metadata": {},
   "outputs": [],
   "source": [
    "# Extract and print top topics\n",
    "top_topics = lda_model.show_topics(num_topics=10, num_words=10)"
   ]
  },
  {
   "cell_type": "code",
   "execution_count": 9,
   "id": "6c8aabf4-8a38-4172-9ea5-3702abce3270",
   "metadata": {},
   "outputs": [
    {
     "name": "stdout",
     "output_type": "stream",
     "text": [
      "(0, '0.026*\"0\" + 0.023*\"9\" + 0.021*\"service\" + 0.021*\"florida\" + 0.019*\"5\" + 0.018*\"university\" + 0.016*\"group\" + 0.014*\"3\" + 0.014*\"financial\" + 0.013*\"llc\"')\n",
      "(1, '0.011*\"team\" + 0.010*\"work\" + 0.009*\"business\" + 0.009*\"company\" + 0.008*\"customer\" + 0.007*\"opportunity\" + 0.006*\"experience\" + 0.006*\"product\" + 0.006*\"client\" + 0.006*\"service\"')\n",
      "(2, '0.200*\"3\" + 0.045*\"4\" + 0.042*\"6\" + 0.039*\"7\" + 0.025*\"citi\" + 0.022*\"1\" + 0.021*\"5\" + 0.017*\"8\" + 0.012*\"technology\" + 0.012*\"staffing\"')\n",
      "(3, '0.016*\"experience\" + 0.011*\"must\" + 0.010*\"position\" + 0.010*\"program\" + 0.010*\"year\" + 0.010*\"required\" + 0.010*\"may\" + 0.009*\"financial\" + 0.009*\"management\" + 0.008*\"work\"')\n",
      "(4, '0.011*\"status\" + 0.009*\"employment\" + 0.009*\"system\" + 0.009*\"information\" + 0.009*\"experience\" + 0.008*\"disability\" + 0.007*\"data\" + 0.007*\"support\" + 0.007*\"applicant\" + 0.006*\"opportunity\"')\n",
      "(5, '0.034*\"business\" + 0.017*\"requirement\" + 0.017*\"experience\" + 0.015*\"system\" + 0.014*\"process\" + 0.014*\"project\" + 0.011*\"team\" + 0.010*\"work\" + 0.010*\"skill\" + 0.009*\"management\"')\n",
      "(6, '0.023*\"salesforce\" + 0.018*\"cloud\" + 0.015*\"experience\" + 0.012*\"solution\" + 0.012*\"business\" + 0.011*\"system\" + 0.009*\"service\" + 0.008*\"team\" + 0.008*\"crm\" + 0.007*\"project\"')\n",
      "(7, '0.052*\"data\" + 0.024*\"business\" + 0.020*\"experience\" + 0.011*\"analysis\" + 0.010*\"skill\" + 0.009*\"analyst\" + 0.008*\"team\" + 0.008*\"year\" + 0.008*\"analytics\" + 0.007*\"work\"')\n",
      "(8, '0.021*\"security\" + 0.010*\"service\" + 0.008*\"federal\" + 0.008*\"technology\" + 0.008*\"experience\" + 0.007*\"work\" + 0.007*\"operation\" + 0.007*\"enture\" + 0.007*\"job\" + 0.007*\"level\"')\n",
      "(9, '0.037*\"credit\" + 0.027*\"bank\" + 0.023*\"loan\" + 0.013*\"union\" + 0.010*\"banking\" + 0.009*\"financial\" + 0.009*\"risk\" + 0.008*\"aml\" + 0.007*\"mso\" + 0.006*\"vystar\"')\n"
     ]
    }
   ],
   "source": [
    "for topic in top_topics:\n",
    "    print(topic)"
   ]
  },
  {
   "cell_type": "code",
   "execution_count": 10,
   "id": "4bcfa228-f6d6-4389-b316-ec21b8b17f7d",
   "metadata": {},
   "outputs": [],
   "source": [
    "topic_labels = []\n",
    "num_topics = 10\n",
    "for topic_id in range(num_topics):\n",
    "    top_words = lda_model.show_topic(topic_id, topn=10)  # Get the top 10 words for each topic\n",
    "    words = [word for word, _ in top_words]\n",
    "    topic_label = ', '.join(words)  # Join the words into a single string\n",
    "    topic_labels.append(topic_label)"
   ]
  },
  {
   "cell_type": "code",
   "execution_count": 11,
   "id": "0f5f1ba3-611c-4f72-b03c-5982122d6295",
   "metadata": {},
   "outputs": [
    {
     "name": "stdout",
     "output_type": "stream",
     "text": [
      "Topic 0: 0, 9, service, florida, 5, university, group, 3, financial, llc\n",
      "Topic 1: team, work, business, company, customer, opportunity, experience, product, client, service\n",
      "Topic 2: 3, 4, 6, 7, citi, 1, 5, 8, technology, staffing\n",
      "Topic 3: experience, must, position, program, year, required, may, financial, management, work\n",
      "Topic 4: status, employment, system, information, experience, disability, data, support, applicant, opportunity\n",
      "Topic 5: business, requirement, experience, system, process, project, team, work, skill, management\n",
      "Topic 6: salesforce, cloud, experience, solution, business, system, service, team, crm, project\n",
      "Topic 7: data, business, experience, analysis, skill, analyst, team, year, analytics, work\n",
      "Topic 8: security, service, federal, technology, experience, work, operation, enture, job, level\n",
      "Topic 9: credit, bank, loan, union, banking, financial, risk, aml, mso, vystar\n"
     ]
    }
   ],
   "source": [
    "# Print the topic labels\n",
    "for i, label in enumerate(topic_labels):\n",
    "    print(f\"Topic {i}: {label}\")"
   ]
  },
  {
   "cell_type": "markdown",
   "id": "8d070591-43f0-4e64-9bfe-ee0fba595a52",
   "metadata": {},
   "source": [
    "### Training LDA model using bigrams"
   ]
  },
  {
   "cell_type": "code",
   "execution_count": 12,
   "id": "61cc3aea-daa4-4293-94c7-e64ee50b060f",
   "metadata": {},
   "outputs": [],
   "source": [
    "def preprocess_text_bigram(text):\n",
    "    # Tokenize text into sentences\n",
    "    sentences = [sent for sent in nltk.sent_tokenize(text)]\n",
    "    \n",
    "    # Tokenize sentences into words\n",
    "    tokenized_sentences = [utils.simple_preprocess(sent) for sent in sentences]\n",
    "    \n",
    "    # Remove stopwords\n",
    "    stop_words = set(stopwords.words('english'))\n",
    "    sentences = [[token for token in sent if token not in stop_words] for sent in tokenized_sentences]\n",
    "    \n",
    "    # Create bigrams\n",
    "    bigram_model = Phrases(sentences, min_count=5, threshold=100)\n",
    "    bigram_phraser = Phraser(bigram_model)\n",
    "    bigram_sentences = [bigram_phraser[sent] for sent in sentences]\n",
    "    \n",
    "    # Convert bigrams into single words using '_'\n",
    "    for i in range(len(bigram_sentences)):\n",
    "        for j in range(len(bigram_sentences[i])):\n",
    "            if '_' in bigram_sentences[i][j]:\n",
    "                bigram_sentences[i][j] = bigram_sentences[i][j].replace('_', '')\n",
    "    \n",
    "    # Lemmatize words\n",
    "    lemmatizer = WordNetLemmatizer()\n",
    "    preprocessed_sentences = [[lemmatizer.lemmatize(token) for token in sent] for sent in bigram_sentences]\n",
    "    \n",
    "    # Flatten sentences into a single list of words\n",
    "    words = [word for sent in preprocessed_sentences for word in sent]\n",
    "    \n",
    "    return words"
   ]
  },
  {
   "cell_type": "code",
   "execution_count": 13,
   "id": "e11277f6-f1f1-4f30-ac75-705cfbf80eee",
   "metadata": {},
   "outputs": [],
   "source": [
    "# Preprocess job descriptions\n",
    "preprocessed_job_descriptions_bigram = jd_ba['description'].apply(preprocess_text_bigram)"
   ]
  },
  {
   "cell_type": "code",
   "execution_count": 14,
   "id": "5a5ef89c-2a91-4e65-b7d7-516543cdfe01",
   "metadata": {},
   "outputs": [],
   "source": [
    "# Identify bigrams and add them to the dictionary\n",
    "bigram_model = Phrases(preprocessed_job_descriptions_bigram, min_count=5, threshold=100)\n",
    "bigram_phraser = Phraser(bigram_model)\n",
    "\n",
    "for i in range(len(preprocessed_job_descriptions_bigram)):\n",
    "    for token in bigram_phraser[preprocessed_job_descriptions_bigram[i]]:\n",
    "        if '_' in token:\n",
    "            preprocessed_job_descriptions_bigram[i].append(token)"
   ]
  },
  {
   "cell_type": "code",
   "execution_count": 15,
   "id": "d6171bbe-b1c6-4956-92f8-80171bd3511b",
   "metadata": {},
   "outputs": [],
   "source": [
    "# Create dictionary representation of job descriptions\n",
    "dictionary_bigram = corpora.Dictionary(preprocessed_job_descriptions_bigram.values)"
   ]
  },
  {
   "cell_type": "code",
   "execution_count": 16,
   "id": "e3942c9a-8802-4395-b509-fbe760092307",
   "metadata": {},
   "outputs": [],
   "source": [
    "# Create document-term matrix\n",
    "doc_term_matrix_bigram = [dictionary.doc2bow(desc) for desc in preprocessed_job_descriptions_bigram]"
   ]
  },
  {
   "cell_type": "code",
   "execution_count": 17,
   "id": "445d87df-aa1c-4585-b67f-e91ed401cb63",
   "metadata": {},
   "outputs": [],
   "source": [
    "# Train LDA model\n",
    "lda_model_bigram = models.LdaModel(doc_term_matrix_bigram, num_topics=10, id2word=dictionary, passes=10)"
   ]
  },
  {
   "cell_type": "code",
   "execution_count": 18,
   "id": "b0ac6ceb-c217-4dc0-892a-be66260ba426",
   "metadata": {},
   "outputs": [
    {
     "name": "stdout",
     "output_type": "stream",
     "text": [
      "(0, '0.026*\"0\" + 0.023*\"9\" + 0.021*\"service\" + 0.021*\"florida\" + 0.019*\"5\" + 0.018*\"university\" + 0.016*\"group\" + 0.014*\"3\" + 0.014*\"financial\" + 0.013*\"llc\"')\n",
      "(1, '0.011*\"team\" + 0.010*\"work\" + 0.009*\"business\" + 0.009*\"company\" + 0.008*\"customer\" + 0.007*\"opportunity\" + 0.006*\"experience\" + 0.006*\"product\" + 0.006*\"client\" + 0.006*\"service\"')\n",
      "(2, '0.200*\"3\" + 0.045*\"4\" + 0.042*\"6\" + 0.039*\"7\" + 0.025*\"citi\" + 0.022*\"1\" + 0.021*\"5\" + 0.017*\"8\" + 0.012*\"technology\" + 0.012*\"staffing\"')\n",
      "(3, '0.016*\"experience\" + 0.011*\"must\" + 0.010*\"position\" + 0.010*\"program\" + 0.010*\"year\" + 0.010*\"required\" + 0.010*\"may\" + 0.009*\"financial\" + 0.009*\"management\" + 0.008*\"work\"')\n",
      "(4, '0.011*\"status\" + 0.009*\"employment\" + 0.009*\"system\" + 0.009*\"information\" + 0.009*\"experience\" + 0.008*\"disability\" + 0.007*\"data\" + 0.007*\"support\" + 0.007*\"applicant\" + 0.006*\"opportunity\"')\n",
      "(5, '0.034*\"business\" + 0.017*\"requirement\" + 0.017*\"experience\" + 0.015*\"system\" + 0.014*\"process\" + 0.014*\"project\" + 0.011*\"team\" + 0.010*\"work\" + 0.010*\"skill\" + 0.009*\"management\"')\n",
      "(6, '0.023*\"salesforce\" + 0.018*\"cloud\" + 0.015*\"experience\" + 0.012*\"solution\" + 0.012*\"business\" + 0.011*\"system\" + 0.009*\"service\" + 0.008*\"team\" + 0.008*\"crm\" + 0.007*\"project\"')\n",
      "(7, '0.052*\"data\" + 0.024*\"business\" + 0.020*\"experience\" + 0.011*\"analysis\" + 0.010*\"skill\" + 0.009*\"analyst\" + 0.008*\"team\" + 0.008*\"year\" + 0.008*\"analytics\" + 0.007*\"work\"')\n",
      "(8, '0.021*\"security\" + 0.010*\"service\" + 0.008*\"federal\" + 0.008*\"technology\" + 0.008*\"experience\" + 0.007*\"work\" + 0.007*\"operation\" + 0.007*\"enture\" + 0.007*\"job\" + 0.007*\"level\"')\n",
      "(9, '0.037*\"credit\" + 0.027*\"bank\" + 0.023*\"loan\" + 0.013*\"union\" + 0.010*\"banking\" + 0.009*\"financial\" + 0.009*\"risk\" + 0.008*\"aml\" + 0.007*\"mso\" + 0.006*\"vystar\"')\n"
     ]
    }
   ],
   "source": [
    "# Extract and print top topics\n",
    "top_topics_bigram = lda_model.show_topics(num_topics=10, num_words=10)\n",
    "\n",
    "for topic in top_topics_bigram:\n",
    "    print(topic)# Extract and print top topics"
   ]
  },
  {
   "cell_type": "code",
   "execution_count": 19,
   "id": "9a2baac4-bef7-41c8-8714-1f338f37b9f1",
   "metadata": {},
   "outputs": [],
   "source": [
    "# Save the trained LDA model\n",
    "lda_model.save(\"../model/lda_model_ba\")\n",
    "lda_model_bigram.save(\"../model/lda_model_ba_bigram\")"
   ]
  },
  {
   "cell_type": "code",
   "execution_count": null,
   "id": "c384b5f3-6e9e-4b94-97ab-b3a868ea104e",
   "metadata": {},
   "outputs": [],
   "source": []
  },
  {
   "cell_type": "code",
   "execution_count": null,
   "id": "1f69b0f4-0541-4723-be06-4a41f44c883c",
   "metadata": {},
   "outputs": [],
   "source": []
  },
  {
   "cell_type": "code",
   "execution_count": null,
   "id": "876cded1-340d-40c7-b880-a20b83ef5d2e",
   "metadata": {},
   "outputs": [],
   "source": []
  },
  {
   "cell_type": "code",
   "execution_count": null,
   "id": "01b560c6-6f4e-4fe4-9546-a0c696526985",
   "metadata": {},
   "outputs": [],
   "source": []
  },
  {
   "cell_type": "code",
   "execution_count": null,
   "id": "827a3dcc-b6f3-45fe-ac2b-c66a90d24ea4",
   "metadata": {},
   "outputs": [],
   "source": []
  }
 ],
 "metadata": {
  "kernelspec": {
   "display_name": "dsi-sg",
   "language": "python",
   "name": "dsi-sg"
  },
  "language_info": {
   "codemirror_mode": {
    "name": "ipython",
    "version": 3
   },
   "file_extension": ".py",
   "mimetype": "text/x-python",
   "name": "python",
   "nbconvert_exporter": "python",
   "pygments_lexer": "ipython3",
   "version": "3.9.13"
  }
 },
 "nbformat": 4,
 "nbformat_minor": 5
}

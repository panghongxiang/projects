{
 "cells": [
  {
   "cell_type": "code",
   "execution_count": null,
   "id": "844f5928-4024-4dee-90a5-30374885db8c",
   "metadata": {},
   "outputs": [],
   "source": [
    "import pandas as pd\n",
    "import numpy as np\n",
    "from sklearn.svm import SVR\n",
    "from sklearn.metrics import mean_squared_error, mean_absolute_error\n",
    "from sklearn.model_selection import train_test_split, GridSearchCV\n",
    "from sklearn.preprocessing import StandardScaler\n",
    "import warnings\n",
    "warnings.filterwarnings('ignore')\n",
    "import matplotlib.pyplot as plt\n",
    "import seaborn as sns\n",
    "\n",
    "%matplotlib inline"
   ]
  },
  {
   "cell_type": "code",
   "execution_count": null,
   "id": "5d6de02e-462a-4f11-86d9-7b23d105b42b",
   "metadata": {},
   "outputs": [],
   "source": [
    "# Load the data\n",
    "data = pd.read_csv(\"../dataset/weather_data_formatted_weekly_rename_station_column_with_trend_words.csv\")\n",
    "pd.set_option('display.max_rows', None)\n",
    "pd.set_option('display.max_columns', None)\n",
    "data.head()"
   ]
  },
  {
   "cell_type": "code",
   "execution_count": null,
   "id": "a1fbe46d-cca9-4008-998f-c1586056f972",
   "metadata": {},
   "outputs": [],
   "source": [
    "# Clean feature names to replace special characters with underscore\n",
    "clean = lambda x: x.lower().replace(' ', '_').replace('.', '_').replace('(', '_').replace(')', '_').replace(':', '_')\n",
    "data = data.rename(columns=clean)\n",
    "data.head()"
   ]
  },
  {
   "cell_type": "code",
   "execution_count": null,
   "id": "cfbfb645-22d8-4c9c-8487-7efa4602fd96",
   "metadata": {},
   "outputs": [],
   "source": [
    "data = data[['year','week','cases','dengue_fever___singapore_','headache___singapore_','nausea___singapore_',\n",
    "                 'vomitting___singapore_','muscle_ache___singapore_','rashes___singapore_','mosquito_bite___singapore_',\n",
    "                 'changi_weekly_rainfall__mm_','changi_weekly_mean_temperature__°c_','changi_weekly_maximum_temperature__°c_',\n",
    "                 'changi_weekly_minimum_temperature__°c_','changi_weekly_mean_wind_speed__km/h_','changi_weekly_maximum_wind_speed__km/h_']]"
   ]
  },
  {
   "cell_type": "code",
   "execution_count": null,
   "id": "864ba289-e215-44e1-ac21-a14af9feca1d",
   "metadata": {
    "scrolled": true,
    "tags": []
   },
   "outputs": [],
   "source": [
    "data = data.rename(columns={'dengue_fever___singapore_':'dengue fever (google)',\n",
    "                            'headache___singapore_':'headache (google)',\n",
    "                            'nausea___singapore_':'nausea (google)', \n",
    "                            'vomitting___singapore_':'vomitting (google)',\n",
    "                            'muscle_ache___singapore_':'muscle ache (google)',\n",
    "                            'rashes___singapore_':'rashes (google)',\n",
    "                            'mosquito_bite___singapore_':'mosquito bite (google)',\n",
    "                            'changi_weekly_rainfall_total__mm_':'weekly total rainfall (mm)',\n",
    "                            'changi_weekly_mean_temperature__°c_':'average temperature (°c)',\n",
    "                            'changi_weekly_maximum_temperature__°c_':'maximum temperature (°c)',\n",
    "                            'changi_weekly_minimum_temperature__°c_':'minimum temperature (°c)',\n",
    "                            'changi_weekly_mean_wind_speed__km/h_':'average wind speed (km/h)',\n",
    "                            'changi_weekly_maximum_wind_speed__km/h_':'maximum wind speed (km/h)'\n",
    "                           })\n",
    "data"
   ]
  },
  {
   "cell_type": "code",
   "execution_count": null,
   "id": "0dbebd36-738e-46ac-8ba6-b6d4c7ef1c42",
   "metadata": {},
   "outputs": [],
   "source": [
    "data.info()"
   ]
  },
  {
   "cell_type": "code",
   "execution_count": null,
   "id": "86cfb1c7-cc4b-4709-aba3-abde36707aa4",
   "metadata": {},
   "outputs": [],
   "source": [
    "train_data = data.iloc[:208,]\n",
    "\n",
    "test_data = data.iloc[208:,]"
   ]
  },
  {
   "cell_type": "code",
   "execution_count": null,
   "id": "bfe906fb-29e5-402c-95b6-aa43835e1738",
   "metadata": {
    "scrolled": true,
    "tags": []
   },
   "outputs": [],
   "source": [
    "train_data.head()"
   ]
  },
  {
   "cell_type": "code",
   "execution_count": null,
   "id": "aa0817f5-6b17-4c66-a96b-6cdd1322193b",
   "metadata": {
    "scrolled": true,
    "tags": []
   },
   "outputs": [],
   "source": [
    "test_data.head()"
   ]
  },
  {
   "cell_type": "code",
   "execution_count": null,
   "id": "3d40a22a-9a90-4f07-ad50-b1cc73c57d01",
   "metadata": {},
   "outputs": [],
   "source": [
    "X_train = train_data.drop(['cases'], axis = 'columns')\n",
    "y_train = train_data['cases']\n",
    "X_test = test_data.drop(['cases'], axis = 'columns')\n",
    "y_test = test_data['cases']"
   ]
  },
  {
   "cell_type": "code",
   "execution_count": null,
   "id": "a96e255f-4285-427c-b81d-570ae7f3fcee",
   "metadata": {},
   "outputs": [],
   "source": [
    "# Standardize input features\n",
    "ss = StandardScaler()\n",
    "X_train_scaled = ss.fit_transform(X_train)\n",
    "X_test_scaled = ss.transform(X_test)"
   ]
  },
  {
   "cell_type": "code",
   "execution_count": null,
   "id": "eaf50d85-730d-4ef8-990b-f08314312b39",
   "metadata": {},
   "outputs": [],
   "source": [
    "kernel='rbf', degree=3, gamma='scale', coef0=0.0, tol=0.001, C=1.0, epsilon=0.1"
   ]
  },
  {
   "cell_type": "code",
   "execution_count": null,
   "id": "33528aff-735e-430e-ad31-200266f5d4ad",
   "metadata": {},
   "outputs": [],
   "source": [
    "svr = SVR()\n",
    "param_grid = {'C': [0.1,1,10,100,1000], 'gamma': ['scale', 'auto'],\n",
    "              'degree':[3,4,5],'kernel': ['rbf', 'poly', 'sigmoid'],\n",
    "              'epsilon':[0.1,0.3,0.5,0.7,0.9,1.1], 'tol':[0.0001,0.001,0.01,0.1,1,10,100,1000]}\n",
    "grid_search = GridSearchCV(svr, param_grid, cv=5, n_jobs=-1)\n",
    "grid_search.fit(X_train_scaled,y_train)\n",
    "best_model = grid_search.best_estimator_\n",
    "print('Best hyperparameters:', grid_search.best_params_)\n",
    "print('Best score:', grid_search.best_score_)"
   ]
  },
  {
   "cell_type": "code",
   "execution_count": null,
   "id": "aea5c613-26af-4216-b1e1-405f43909fd5",
   "metadata": {},
   "outputs": [],
   "source": [
    "# Use the best model to predict new data\n",
    "best_model = grid_search.best_estimator_\n",
    "y_pred = best_model.predict(X_test_scaled)\n",
    "rmse = mean_squared_error(y_test, y_pred, squared=False)\n",
    "mse = mean_squared_error(y_test, y_pred)\n",
    "mae = mean_absolute_error(y_test, y_pred)\n",
    "print(f\"RMSE: {rmse:.2f}\")\n",
    "print('Mean Squared Error:', mse)\n",
    "print('Mean Absolute Error:', mae)"
   ]
  },
  {
   "cell_type": "code",
   "execution_count": null,
   "id": "a4d8ec82-1294-4e80-8be1-8c65f1892593",
   "metadata": {},
   "outputs": [],
   "source": [
    "# Get the index of the test set\n",
    "train_index = X_train.index\n",
    "test_index = X_test.index\n",
    "\n",
    "# Create a line plot of the predictions and true values against the index\n",
    "plt.plot(train_index, y_train, label='2014-2017 Actual Cases')\n",
    "plt.plot(test_index, y_test, label='2018 Actual Cases')\n",
    "plt.plot(test_index, y_pred, label='2018 Predicted Cases')\n",
    "plt.xlabel('Week')\n",
    "plt.ylabel('Number of Dengue Cases')\n",
    "plt.legend()\n",
    "plt.show()"
   ]
  },
  {
   "cell_type": "code",
   "execution_count": null,
   "id": "08f6ed7e-8e9b-4588-abff-0139b035de8f",
   "metadata": {
    "tags": []
   },
   "outputs": [],
   "source": [
    "df = pd.DataFrame({'year': X_test['year'], 'week': X_test['week'],'y_true': y_test, 'y_pred': y_pred, })\n",
    "df"
   ]
  }
 ],
 "metadata": {
  "kernelspec": {
   "display_name": "Python [conda env:anaconda3-dsi-sg]",
   "language": "python",
   "name": "conda-env-anaconda3-dsi-sg-py"
  },
  "language_info": {
   "codemirror_mode": {
    "name": "ipython",
    "version": 3
   },
   "file_extension": ".py",
   "mimetype": "text/x-python",
   "name": "python",
   "nbconvert_exporter": "python",
   "pygments_lexer": "ipython3",
   "version": "3.9.13"
  }
 },
 "nbformat": 4,
 "nbformat_minor": 5
}

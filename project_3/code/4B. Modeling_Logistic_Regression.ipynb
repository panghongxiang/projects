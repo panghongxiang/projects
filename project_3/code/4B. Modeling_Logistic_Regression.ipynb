{
 "cells": [
  {
   "cell_type": "markdown",
   "id": "3529be22-528b-4ceb-8687-f9d77a04f022",
   "metadata": {},
   "source": [
    "<img src=\"http://imgur.com/1ZcRyrc.png\" style=\"float: left; margin: 20px; height: 55px\">\n",
    "\n",
    "# Project 3: Developing a classification model for Twitter topics (Formula 1 vs MotoGP)"
   ]
  },
  {
   "cell_type": "markdown",
   "id": "504be8f1-c98d-44e0-8d10-5d26baf8fb58",
   "metadata": {},
   "source": [
    "### Contents:\n",
    "- [Modeling and Evaluation (Logistic Regression)](#Modeling-and-Evaluation-(Logistic-Regression))"
   ]
  },
  {
   "cell_type": "markdown",
   "id": "e489f4a1-5703-42e0-a2fe-bb6f436b409f",
   "metadata": {},
   "source": [
    "## Modeling and Evaluation (Logistic Regression)"
   ]
  },
  {
   "cell_type": "markdown",
   "id": "5e0ed666-7d23-4637-ae67-9b1f27dc88d5",
   "metadata": {},
   "source": [
    "In this section we will build a Logistic Regression model, which derives the probability of an outcome as a function of a number of predictor variables. In this context, we are deriving the probability of a tweet having F1 related content.\n",
    "\n",
    "Although our Naive Bayes model (refer to notebook 4A) has achieved high scores, it is good to have a different model to compare the results and assess if the first model is accurate.\n",
    "\n",
    "We will adopt the following approach in our model building:\n",
    "\n",
    "1. Build a model (M1) using tweet as feature and evaluate the model.\n",
    "2. Build a model (M2)  using hashtag as feature and evaluate the model.\n",
    "3. If hashtag is overly dominant as a predictor, re-evaluate performance of M1 on tweets excluding hashtag/mentions.\n",
    "4. Try to improve M1 by incorporating other features such as tweet length, tweet word count, number of likes, and number of retweets.\n",
    "5. Determine best threshold to maximize recall and F1 scores.\n",
    "\n",
    "Rationale behind approach:\n",
    "As our data was scrapped from the official accounts of Formula 1 and MotoGP, 97% of tweets included hashtags to other official accounts such as the drivers or the constructor teams. However, our aim is to create a classifier that will recommend Formula 1 related tweets from anyone to users who have chosen to follow the topic of Formula 1. Individual users are less likely to include hashtags or mentions as they are not as strictly managed as official accounts. Hence, we want to make sure our model works sufficiently well for tweets that do not have any hashtag or mention. \n",
    "\n",
    "Since our aim is to accurately provide Formula 1 related tweets to the news feeds of interested users, we will be focusing on maximizing recall, so that we will capture as many of the actual related tweets as possible. However, we do not want our model to be predicting all tweets as Formula 1 related, which would give us 100% recall but also super low precision. Hence we will try to maximize recall while maintaining a good ROC AUC score, which reflects how well the model is able to separate the classes."
   ]
  },
  {
   "cell_type": "code",
   "execution_count": 1,
   "id": "f49f8f95-391a-465d-bb2b-163901f1cbed",
   "metadata": {
    "tags": []
   },
   "outputs": [],
   "source": [
    "# Import libraries\n",
    "import numpy as np\n",
    "import pandas as pd\n",
    "\n",
    "from sklearn.feature_extraction.text import CountVectorizer\n",
    "from sklearn.linear_model import LogisticRegression\n",
    "from sklearn.model_selection import train_test_split\n",
    "from sklearn.metrics import confusion_matrix, make_scorer, plot_confusion_matrix, accuracy_score, plot_roc_curve, roc_auc_score, recall_score, precision_score, f1_score\n",
    "\n",
    "\n",
    "import matplotlib.pyplot as plt\n",
    "import seaborn as sns"
   ]
  },
  {
   "cell_type": "code",
   "execution_count": 2,
   "id": "95dd7606-9bb1-4651-976b-577474c1bc3a",
   "metadata": {},
   "outputs": [
    {
     "data": {
      "text/html": [
       "<div>\n",
       "<style scoped>\n",
       "    .dataframe tbody tr th:only-of-type {\n",
       "        vertical-align: middle;\n",
       "    }\n",
       "\n",
       "    .dataframe tbody tr th {\n",
       "        vertical-align: top;\n",
       "    }\n",
       "\n",
       "    .dataframe thead th {\n",
       "        text-align: right;\n",
       "    }\n",
       "</style>\n",
       "<table border=\"1\" class=\"dataframe\">\n",
       "  <thead>\n",
       "    <tr style=\"text-align: right;\">\n",
       "      <th></th>\n",
       "      <th>tweet</th>\n",
       "      <th>text</th>\n",
       "      <th>hashtag</th>\n",
       "      <th>mention</th>\n",
       "      <th>username</th>\n",
       "      <th>like_count</th>\n",
       "      <th>retweet_count</th>\n",
       "      <th>tweet_length</th>\n",
       "      <th>tweet_word_count</th>\n",
       "    </tr>\n",
       "  </thead>\n",
       "  <tbody>\n",
       "    <tr>\n",
       "      <th>0</th>\n",
       "      <td>tension running high team principal group meet...</td>\n",
       "      <td>tension running high team principal group meet...</td>\n",
       "      <td>f1  drivetosurvive5</td>\n",
       "      <td>netflix</td>\n",
       "      <td>F1</td>\n",
       "      <td>22499</td>\n",
       "      <td>1637</td>\n",
       "      <td>181</td>\n",
       "      <td>27</td>\n",
       "    </tr>\n",
       "    <tr>\n",
       "      <th>1</th>\n",
       "      <td>striking pose , ft. glorious mullet followed @...</td>\n",
       "      <td>striking pose , ft. glorious mullet followed p...</td>\n",
       "      <td>f1</td>\n",
       "      <td>valtteribottas  alfaromeof1</td>\n",
       "      <td>F1</td>\n",
       "      <td>3553</td>\n",
       "      <td>291</td>\n",
       "      <td>243</td>\n",
       "      <td>45</td>\n",
       "    </tr>\n",
       "    <tr>\n",
       "      <th>2</th>\n",
       "      <td>fantasy price reveal create ultimate team ahea...</td>\n",
       "      <td>fantasy price reveal create ultimate team ahea...</td>\n",
       "      <td>f1  f1fantasy</td>\n",
       "      <td>NaN</td>\n",
       "      <td>F1</td>\n",
       "      <td>1527</td>\n",
       "      <td>146</td>\n",
       "      <td>132</td>\n",
       "      <td>23</td>\n",
       "    </tr>\n",
       "    <tr>\n",
       "      <th>3</th>\n",
       "      <td>almost time f1 fantasy restart ! tip get # f1f...</td>\n",
       "      <td>almost time f1 fantasy restart ! tip get team ...</td>\n",
       "      <td>f1fantasy  f1</td>\n",
       "      <td>NaN</td>\n",
       "      <td>F1</td>\n",
       "      <td>1215</td>\n",
       "      <td>210</td>\n",
       "      <td>164</td>\n",
       "      <td>30</td>\n",
       "    </tr>\n",
       "    <tr>\n",
       "      <th>4</th>\n",
       "      <td>put two together ! @ pierregasly good pal @ yu...</td>\n",
       "      <td>put two together ! good pal</td>\n",
       "      <td>f1</td>\n",
       "      <td>pierregasly  yukitsunoda07</td>\n",
       "      <td>F1</td>\n",
       "      <td>8125</td>\n",
       "      <td>785</td>\n",
       "      <td>114</td>\n",
       "      <td>16</td>\n",
       "    </tr>\n",
       "  </tbody>\n",
       "</table>\n",
       "</div>"
      ],
      "text/plain": [
       "                                               tweet  \\\n",
       "0  tension running high team principal group meet...   \n",
       "1  striking pose , ft. glorious mullet followed @...   \n",
       "2  fantasy price reveal create ultimate team ahea...   \n",
       "3  almost time f1 fantasy restart ! tip get # f1f...   \n",
       "4  put two together ! @ pierregasly good pal @ yu...   \n",
       "\n",
       "                                                text               hashtag  \\\n",
       "0  tension running high team principal group meet...  f1  drivetosurvive5    \n",
       "1  striking pose , ft. glorious mullet followed p...                   f1    \n",
       "2  fantasy price reveal create ultimate team ahea...         f1  f1fantasy   \n",
       "3  almost time f1 fantasy restart ! tip get team ...      f1fantasy  f1      \n",
       "4                        put two together ! good pal                   f1    \n",
       "\n",
       "                       mention username  like_count  retweet_count  \\\n",
       "0                     netflix        F1       22499           1637   \n",
       "1  valtteribottas  alfaromeof1       F1        3553            291   \n",
       "2                          NaN       F1        1527            146   \n",
       "3                          NaN       F1        1215            210   \n",
       "4  pierregasly  yukitsunoda07        F1        8125            785   \n",
       "\n",
       "   tweet_length  tweet_word_count  \n",
       "0           181                27  \n",
       "1           243                45  \n",
       "2           132                23  \n",
       "3           164                30  \n",
       "4           114                16  "
      ]
     },
     "execution_count": 2,
     "metadata": {},
     "output_type": "execute_result"
    }
   ],
   "source": [
    "# Read in file\n",
    "df = pd.read_csv(\"../data/train_data_cleaned.csv\")\n",
    "df.head()"
   ]
  },
  {
   "cell_type": "code",
   "execution_count": 3,
   "id": "3b03211f-edd8-4c1f-9a37-c16c5b70247e",
   "metadata": {},
   "outputs": [
    {
     "data": {
      "text/plain": [
       "0    11676\n",
       "1     8173\n",
       "Name: f1, dtype: int64"
      ]
     },
     "execution_count": 3,
     "metadata": {},
     "output_type": "execute_result"
    }
   ],
   "source": [
    "# Create outcome variable\n",
    "df['f1'] = df['username'].map({'F1':1, 'MotoGP':0})\n",
    "df['f1'].value_counts()"
   ]
  },
  {
   "cell_type": "markdown",
   "id": "1a55fae1-bb03-411d-b9ca-c0d6b701b865",
   "metadata": {},
   "source": [
    "### Logistic Regression using tweet as feature"
   ]
  },
  {
   "cell_type": "code",
   "execution_count": 4,
   "id": "14db4633-e9af-442d-9030-b0074a4f6b1d",
   "metadata": {},
   "outputs": [
    {
     "data": {
      "text/plain": [
       "0    11672\n",
       "1     8147\n",
       "Name: f1, dtype: int64"
      ]
     },
     "execution_count": 4,
     "metadata": {},
     "output_type": "execute_result"
    }
   ],
   "source": [
    "# Select text feature\n",
    "df_tweet = df.dropna(subset=['tweet'])\n",
    "df_tweet['f1'].value_counts()"
   ]
  },
  {
   "cell_type": "code",
   "execution_count": 5,
   "id": "cf6722ea-9927-4a39-832a-6a09f78902b6",
   "metadata": {},
   "outputs": [],
   "source": [
    "# Train-test split for modeling\n",
    "X1 = df_tweet[['tweet','text','like_count','retweet_count','tweet_length','tweet_word_count']]\n",
    "y1 = df_tweet['f1']\n",
    "\n",
    "X1_train, X1_test, y1_train, y1_test = train_test_split(X1,\n",
    "                                                    y1,\n",
    "                                                    test_size=0.25,\n",
    "                                                    random_state=42,\n",
    "                                                    stratify=y1)"
   ]
  },
  {
   "cell_type": "code",
   "execution_count": 6,
   "id": "a8c7fb64-1d22-43d0-8684-67c41ffbb913",
   "metadata": {},
   "outputs": [],
   "source": [
    "# Instantiate CountVectorizer.\n",
    "cv = CountVectorizer(stop_words = 'english', min_df = 10)"
   ]
  },
  {
   "cell_type": "code",
   "execution_count": 7,
   "id": "86c2a5b8-d9cf-4f13-8c7c-9d8468719d7c",
   "metadata": {},
   "outputs": [
    {
     "name": "stderr",
     "output_type": "stream",
     "text": [
      "/opt/homebrew/Caskroom/miniconda/base/envs/dsi-sg/lib/python3.9/site-packages/sklearn/utils/deprecation.py:87: FutureWarning: Function get_feature_names is deprecated; get_feature_names is deprecated in 1.0 and will be removed in 1.2. Please use get_feature_names_out instead.\n",
      "  warnings.warn(msg, category=FutureWarning)\n"
     ]
    },
    {
     "data": {
      "text/html": [
       "<div>\n",
       "<style scoped>\n",
       "    .dataframe tbody tr th:only-of-type {\n",
       "        vertical-align: middle;\n",
       "    }\n",
       "\n",
       "    .dataframe tbody tr th {\n",
       "        vertical-align: top;\n",
       "    }\n",
       "\n",
       "    .dataframe thead th {\n",
       "        text-align: right;\n",
       "    }\n",
       "</style>\n",
       "<table border=\"1\" class=\"dataframe\">\n",
       "  <thead>\n",
       "    <tr style=\"text-align: right;\">\n",
       "      <th></th>\n",
       "      <th>00</th>\n",
       "      <th>10</th>\n",
       "      <th>100</th>\n",
       "      <th>10th</th>\n",
       "      <th>11</th>\n",
       "      <th>11th</th>\n",
       "      <th>12</th>\n",
       "      <th>12th</th>\n",
       "      <th>13</th>\n",
       "      <th>13th</th>\n",
       "      <th>...</th>\n",
       "      <th>young</th>\n",
       "      <th>youngest</th>\n",
       "      <th>youtube</th>\n",
       "      <th>yuki</th>\n",
       "      <th>yukitsunoda07</th>\n",
       "      <th>zandvoort</th>\n",
       "      <th>zarco</th>\n",
       "      <th>zhou</th>\n",
       "      <th>zhouguanyu24</th>\n",
       "      <th>zone</th>\n",
       "    </tr>\n",
       "  </thead>\n",
       "  <tbody>\n",
       "    <tr>\n",
       "      <th>0</th>\n",
       "      <td>0</td>\n",
       "      <td>0</td>\n",
       "      <td>0</td>\n",
       "      <td>0</td>\n",
       "      <td>0</td>\n",
       "      <td>0</td>\n",
       "      <td>0</td>\n",
       "      <td>0</td>\n",
       "      <td>0</td>\n",
       "      <td>0</td>\n",
       "      <td>...</td>\n",
       "      <td>0</td>\n",
       "      <td>0</td>\n",
       "      <td>0</td>\n",
       "      <td>0</td>\n",
       "      <td>0</td>\n",
       "      <td>0</td>\n",
       "      <td>0</td>\n",
       "      <td>0</td>\n",
       "      <td>0</td>\n",
       "      <td>0</td>\n",
       "    </tr>\n",
       "    <tr>\n",
       "      <th>1</th>\n",
       "      <td>0</td>\n",
       "      <td>0</td>\n",
       "      <td>0</td>\n",
       "      <td>0</td>\n",
       "      <td>0</td>\n",
       "      <td>0</td>\n",
       "      <td>0</td>\n",
       "      <td>0</td>\n",
       "      <td>0</td>\n",
       "      <td>0</td>\n",
       "      <td>...</td>\n",
       "      <td>0</td>\n",
       "      <td>0</td>\n",
       "      <td>0</td>\n",
       "      <td>0</td>\n",
       "      <td>0</td>\n",
       "      <td>0</td>\n",
       "      <td>0</td>\n",
       "      <td>0</td>\n",
       "      <td>0</td>\n",
       "      <td>0</td>\n",
       "    </tr>\n",
       "    <tr>\n",
       "      <th>2</th>\n",
       "      <td>0</td>\n",
       "      <td>0</td>\n",
       "      <td>0</td>\n",
       "      <td>0</td>\n",
       "      <td>0</td>\n",
       "      <td>0</td>\n",
       "      <td>0</td>\n",
       "      <td>0</td>\n",
       "      <td>0</td>\n",
       "      <td>0</td>\n",
       "      <td>...</td>\n",
       "      <td>0</td>\n",
       "      <td>0</td>\n",
       "      <td>0</td>\n",
       "      <td>0</td>\n",
       "      <td>0</td>\n",
       "      <td>0</td>\n",
       "      <td>0</td>\n",
       "      <td>0</td>\n",
       "      <td>0</td>\n",
       "      <td>0</td>\n",
       "    </tr>\n",
       "    <tr>\n",
       "      <th>3</th>\n",
       "      <td>0</td>\n",
       "      <td>0</td>\n",
       "      <td>0</td>\n",
       "      <td>0</td>\n",
       "      <td>0</td>\n",
       "      <td>0</td>\n",
       "      <td>0</td>\n",
       "      <td>0</td>\n",
       "      <td>0</td>\n",
       "      <td>0</td>\n",
       "      <td>...</td>\n",
       "      <td>0</td>\n",
       "      <td>0</td>\n",
       "      <td>0</td>\n",
       "      <td>0</td>\n",
       "      <td>0</td>\n",
       "      <td>0</td>\n",
       "      <td>0</td>\n",
       "      <td>0</td>\n",
       "      <td>0</td>\n",
       "      <td>0</td>\n",
       "    </tr>\n",
       "    <tr>\n",
       "      <th>4</th>\n",
       "      <td>0</td>\n",
       "      <td>0</td>\n",
       "      <td>0</td>\n",
       "      <td>0</td>\n",
       "      <td>0</td>\n",
       "      <td>0</td>\n",
       "      <td>0</td>\n",
       "      <td>0</td>\n",
       "      <td>0</td>\n",
       "      <td>0</td>\n",
       "      <td>...</td>\n",
       "      <td>0</td>\n",
       "      <td>0</td>\n",
       "      <td>0</td>\n",
       "      <td>0</td>\n",
       "      <td>0</td>\n",
       "      <td>0</td>\n",
       "      <td>0</td>\n",
       "      <td>0</td>\n",
       "      <td>0</td>\n",
       "      <td>0</td>\n",
       "    </tr>\n",
       "  </tbody>\n",
       "</table>\n",
       "<p>5 rows × 1956 columns</p>\n",
       "</div>"
      ],
      "text/plain": [
       "   00  10  100  10th  11  11th  12  12th  13  13th  ...  young  youngest  \\\n",
       "0   0   0    0     0   0     0   0     0   0     0  ...      0         0   \n",
       "1   0   0    0     0   0     0   0     0   0     0  ...      0         0   \n",
       "2   0   0    0     0   0     0   0     0   0     0  ...      0         0   \n",
       "3   0   0    0     0   0     0   0     0   0     0  ...      0         0   \n",
       "4   0   0    0     0   0     0   0     0   0     0  ...      0         0   \n",
       "\n",
       "   youtube  yuki  yukitsunoda07  zandvoort  zarco  zhou  zhouguanyu24  zone  \n",
       "0        0     0              0          0      0     0             0     0  \n",
       "1        0     0              0          0      0     0             0     0  \n",
       "2        0     0              0          0      0     0             0     0  \n",
       "3        0     0              0          0      0     0             0     0  \n",
       "4        0     0              0          0      0     0             0     0  \n",
       "\n",
       "[5 rows x 1956 columns]"
      ]
     },
     "execution_count": 7,
     "metadata": {},
     "output_type": "execute_result"
    }
   ],
   "source": [
    "# Fit our CountVectorizer on the training data and transform training data.\n",
    "X1_train_tweet_cv = pd.DataFrame(cv.fit_transform(X1_train['tweet']).todense(),\n",
    "                          columns = cv.get_feature_names())\n",
    "X1_train_tweet_cv.head()"
   ]
  },
  {
   "cell_type": "code",
   "execution_count": 8,
   "id": "8b3722b7-2a4b-4f9d-bd8d-5e5da87df795",
   "metadata": {},
   "outputs": [
    {
     "name": "stderr",
     "output_type": "stream",
     "text": [
      "/opt/homebrew/Caskroom/miniconda/base/envs/dsi-sg/lib/python3.9/site-packages/sklearn/utils/deprecation.py:87: FutureWarning: Function get_feature_names is deprecated; get_feature_names is deprecated in 1.0 and will be removed in 1.2. Please use get_feature_names_out instead.\n",
      "  warnings.warn(msg, category=FutureWarning)\n"
     ]
    }
   ],
   "source": [
    "# Transform our testing data with the already-fit CountVectorizer.\n",
    "X1_test_tweet_cv = pd.DataFrame(cv.transform(X1_test['tweet']).todense(),\n",
    "                         columns = cv.get_feature_names())"
   ]
  },
  {
   "cell_type": "code",
   "execution_count": 9,
   "id": "a7745952-5bcd-465c-8f64-a523ecf90734",
   "metadata": {},
   "outputs": [],
   "source": [
    "# Instantiate Log Reg model\n",
    "lr = LogisticRegression()\n",
    "\n",
    "# Fit model\n",
    "M1 = lr.fit(X1_train_tweet_cv, y1_train)"
   ]
  },
  {
   "cell_type": "code",
   "execution_count": 10,
   "id": "4a5f4f1d-0b87-4ca2-a2e5-70f4dee2d7d9",
   "metadata": {},
   "outputs": [
    {
     "data": {
      "text/plain": [
       "0.9954924650161464"
      ]
     },
     "execution_count": 10,
     "metadata": {},
     "output_type": "execute_result"
    }
   ],
   "source": [
    "# Score model on the training set.\n",
    "M1.score(X1_train_tweet_cv, y1_train)"
   ]
  },
  {
   "cell_type": "code",
   "execution_count": 11,
   "id": "86e44437-ef6f-449a-83fc-cd0a9f0e7eb4",
   "metadata": {},
   "outputs": [],
   "source": [
    "# Create function to evaluate model based on accuracy, recall, precision, f1-score\n",
    "def evaluate_model(X_test,y_test,threshold,model):\n",
    "    \n",
    "    prob = model.predict_proba(X_test)\n",
    "    pred = (prob[:, 1] >= threshold).astype(int)\n",
    "    \n",
    "    #derive confusion matrix\n",
    "    cm = confusion_matrix(y_test,pred)\n",
    "    tn, fp, fn, tp = confusion_matrix(y_test, pred).ravel()\n",
    "    \n",
    "    # calculate accuracy\n",
    "    accuracy = (tn + tp) / (tn + fp + fn + tp)\n",
    "\n",
    "    # calculate recall\n",
    "    recall = tp / (tp + fn)\n",
    "\n",
    "    # calculate precision\n",
    "    precision = tp / (tp + fp)\n",
    "\n",
    "    # calculate F1 score\n",
    "    f1_score = 2 * (precision*recall) / (precision + recall)\n",
    "\n",
    "    plot_confusion_matrix(model, X_test, y_test, cmap='Blues', \n",
    "                      values_format='d', display_labels=['MotoGP', 'F1']);\n",
    "    print(\"Accuracy: {}\".format(accuracy))\n",
    "    print(\"Recall: {}\".format(recall))\n",
    "    print(\"Precision: {}\".format(precision))\n",
    "    print(\"F1 Score: {}\".format(f1_score))"
   ]
  },
  {
   "cell_type": "code",
   "execution_count": 12,
   "id": "324e433e-7bac-43e2-9f4e-539e203482c9",
   "metadata": {},
   "outputs": [
    {
     "name": "stdout",
     "output_type": "stream",
     "text": [
      "Accuracy: 0.9917255297679112\n",
      "Recall: 0.9803632793323515\n",
      "Precision: 0.9994994994994995\n",
      "F1 Score: 0.9898389095415118\n"
     ]
    },
    {
     "name": "stderr",
     "output_type": "stream",
     "text": [
      "/opt/homebrew/Caskroom/miniconda/base/envs/dsi-sg/lib/python3.9/site-packages/sklearn/utils/deprecation.py:87: FutureWarning: Function plot_confusion_matrix is deprecated; Function `plot_confusion_matrix` is deprecated in 1.0 and will be removed in 1.2. Use one of the class methods: ConfusionMatrixDisplay.from_predictions or ConfusionMatrixDisplay.from_estimator.\n",
      "  warnings.warn(msg, category=FutureWarning)\n"
     ]
    },
    {
     "data": {
      "image/png": "[encoded data removed]",
      "text/plain": [
       "<Figure size 640x480 with 2 Axes>"
      ]
     },
     "metadata": {},
     "output_type": "display_data"
    }
   ],
   "source": [
    "# Evaluate Model\n",
    "evaluate_model(X1_test_tweet_cv, y1_test, 0.5, M1)"
   ]
  },
  {
   "cell_type": "markdown",
   "id": "34d2483e-a32c-48a5-9807-f59f85011d51",
   "metadata": {},
   "source": [
    "#### M1 has high accuracy, recall, precision, and F1 score. Confusion matrix shows that there were very few Type I and II errors in the predictions."
   ]
  },
  {
   "cell_type": "markdown",
   "id": "131664fd-3195-48da-a6ea-99f2c627f8e6",
   "metadata": {
    "tags": []
   },
   "source": [
    "### Logistic Regression using hashtag as feature"
   ]
  },
  {
   "cell_type": "code",
   "execution_count": 13,
   "id": "74a72f0c-392c-4f9c-9f13-26ce9fad7faa",
   "metadata": {},
   "outputs": [
    {
     "data": {
      "text/plain": [
       "0    11332\n",
       "1     7922\n",
       "Name: f1, dtype: int64"
      ]
     },
     "execution_count": 13,
     "metadata": {},
     "output_type": "execute_result"
    }
   ],
   "source": [
    "# Select text feature\n",
    "df_hashtag = df.dropna(subset=['hashtag'])\n",
    "df_hashtag['f1'].value_counts()"
   ]
  },
  {
   "cell_type": "code",
   "execution_count": 14,
   "id": "3640798e-1801-45e8-bd76-2faaecdb9917",
   "metadata": {},
   "outputs": [],
   "source": [
    "# Train-test split for modeling\n",
    "X2 = df_hashtag[['hashtag']]\n",
    "y2 = df_hashtag['f1']\n",
    "\n",
    "X2_train, X2_test, y2_train, y2_test = train_test_split(X2,\n",
    "                                                    y2,\n",
    "                                                    test_size=0.25,\n",
    "                                                    random_state=42,\n",
    "                                                    stratify=y2)"
   ]
  },
  {
   "cell_type": "code",
   "execution_count": 15,
   "id": "3d500fc5-b78f-4277-8e3a-dc895eca236f",
   "metadata": {},
   "outputs": [],
   "source": [
    "# Instantiate CountVectorizer.\n",
    "cv = CountVectorizer(stop_words = 'english', min_df = 10)"
   ]
  },
  {
   "cell_type": "code",
   "execution_count": 16,
   "id": "e9cb98fd-9048-4cd4-aacc-4829329171bd",
   "metadata": {},
   "outputs": [
    {
     "name": "stderr",
     "output_type": "stream",
     "text": [
      "/opt/homebrew/Caskroom/miniconda/base/envs/dsi-sg/lib/python3.9/site-packages/sklearn/utils/deprecation.py:87: FutureWarning: Function get_feature_names is deprecated; get_feature_names is deprecated in 1.0 and will be removed in 1.2. Please use get_feature_names_out instead.\n",
      "  warnings.warn(msg, category=FutureWarning)\n"
     ]
    }
   ],
   "source": [
    "# Fit our CountVectorizer on the training data and transform training data.\n",
    "X2_train_hashtag_cv = pd.DataFrame(cv.fit_transform(X2_train['hashtag']).todense(),\n",
    "                          columns = cv.get_feature_names())"
   ]
  },
  {
   "cell_type": "code",
   "execution_count": 17,
   "id": "f96c3a27-e808-48aa-8dd7-95a1a1139474",
   "metadata": {},
   "outputs": [
    {
     "name": "stderr",
     "output_type": "stream",
     "text": [
      "/opt/homebrew/Caskroom/miniconda/base/envs/dsi-sg/lib/python3.9/site-packages/sklearn/utils/deprecation.py:87: FutureWarning: Function get_feature_names is deprecated; get_feature_names is deprecated in 1.0 and will be removed in 1.2. Please use get_feature_names_out instead.\n",
      "  warnings.warn(msg, category=FutureWarning)\n"
     ]
    }
   ],
   "source": [
    "# Transform our testing data with the already-fit CountVectorizer.\n",
    "X2_test_hashtag_cv = pd.DataFrame(cv.transform(X2_test['hashtag']).todense(),\n",
    "                         columns = cv.get_feature_names())"
   ]
  },
  {
   "cell_type": "code",
   "execution_count": 18,
   "id": "6d1180a5-4a96-4b61-a16a-c039f48875cf",
   "metadata": {},
   "outputs": [],
   "source": [
    "# Instantiate Log Reg model\n",
    "lr = LogisticRegression()\n",
    "\n",
    "# Fit model\n",
    "M2 = lr.fit(X2_train_hashtag_cv, y2_train)"
   ]
  },
  {
   "cell_type": "code",
   "execution_count": 19,
   "id": "e1b0fd0b-ac92-44c8-8db0-35563f83d054",
   "metadata": {},
   "outputs": [
    {
     "data": {
      "text/plain": [
       "0.9914819944598338"
      ]
     },
     "execution_count": 19,
     "metadata": {},
     "output_type": "execute_result"
    }
   ],
   "source": [
    "# Score model on the training set.\n",
    "M2.score(X2_train_hashtag_cv, y2_train)"
   ]
  },
  {
   "cell_type": "code",
   "execution_count": 20,
   "id": "969091ee-86a7-4c05-bcc7-8a8fdf008d7a",
   "metadata": {},
   "outputs": [
    {
     "data": {
      "text/plain": [
       "0.9910677191524719"
      ]
     },
     "execution_count": 20,
     "metadata": {},
     "output_type": "execute_result"
    }
   ],
   "source": [
    "# Score model on the testing set.\n",
    "M2.score(X2_test_hashtag_cv, y2_test)"
   ]
  },
  {
   "cell_type": "code",
   "execution_count": 21,
   "id": "c241d205-30e2-4e73-9802-e718dc98bc59",
   "metadata": {},
   "outputs": [
    {
     "name": "stdout",
     "output_type": "stream",
     "text": [
      "Accuracy: 0.9910677191524719\n",
      "Recall: 0.9782937910146391\n",
      "Precision: 1.0\n",
      "F1 Score: 0.9890278132176576\n"
     ]
    },
    {
     "name": "stderr",
     "output_type": "stream",
     "text": [
      "/opt/homebrew/Caskroom/miniconda/base/envs/dsi-sg/lib/python3.9/site-packages/sklearn/utils/deprecation.py:87: FutureWarning: Function plot_confusion_matrix is deprecated; Function `plot_confusion_matrix` is deprecated in 1.0 and will be removed in 1.2. Use one of the class methods: ConfusionMatrixDisplay.from_predictions or ConfusionMatrixDisplay.from_estimator.\n",
      "  warnings.warn(msg, category=FutureWarning)\n"
     ]
    },
    {
     "data": {
      "image/png": "[encoded data removed]",
      "text/plain": [
       "<Figure size 640x480 with 2 Axes>"
      ]
     },
     "metadata": {},
     "output_type": "display_data"
    }
   ],
   "source": [
    "# Evaluate Model\n",
    "evaluate_model(X2_test_hashtag_cv, y2_test, 0.5, M2)"
   ]
  },
  {
   "cell_type": "markdown",
   "id": "1581eb9b-9347-4463-ad9f-eb5b8f12997a",
   "metadata": {},
   "source": [
    "#### Similar to M1, M2 has high accuracy, recall, precision, and F1 score. Confusion matrix shows that there were zero Type 1 error and very few Type II errors in the predictions. This implies that the performance of M1 could have been greatly influenced by hashtags, which might hinder its performance for tweets without hashtags."
   ]
  },
  {
   "cell_type": "markdown",
   "id": "bd7855e1-3f3f-4cf5-b7fd-f17ca47e3d82",
   "metadata": {
    "tags": []
   },
   "source": [
    "### Evaluate M1 on text-only tweets"
   ]
  },
  {
   "cell_type": "code",
   "execution_count": 22,
   "id": "1d7fc888-b6a7-49c8-adbf-14f1c739783b",
   "metadata": {},
   "outputs": [
    {
     "data": {
      "text/plain": [
       "(4943, 2)"
      ]
     },
     "execution_count": 22,
     "metadata": {},
     "output_type": "execute_result"
    }
   ],
   "source": [
    "# Select text feature\n",
    "df_text = pd.DataFrame({'text': X1_test['text'], 'f1':y1_test})\n",
    "df_text = df_text.dropna(subset='text')\n",
    "df_text.shape"
   ]
  },
  {
   "cell_type": "code",
   "execution_count": 23,
   "id": "876c9ddb-0342-4716-bbbc-67a81c4a5534",
   "metadata": {},
   "outputs": [],
   "source": [
    "# Instantiate CountVectorizer.\n",
    "cv = CountVectorizer(stop_words = 'english', min_df = 10)"
   ]
  },
  {
   "cell_type": "code",
   "execution_count": 24,
   "id": "e5eb3f22-dfc2-450b-86f7-cde361786622",
   "metadata": {},
   "outputs": [
    {
     "name": "stderr",
     "output_type": "stream",
     "text": [
      "/opt/homebrew/Caskroom/miniconda/base/envs/dsi-sg/lib/python3.9/site-packages/sklearn/utils/deprecation.py:87: FutureWarning: Function get_feature_names is deprecated; get_feature_names is deprecated in 1.0 and will be removed in 1.2. Please use get_feature_names_out instead.\n",
      "  warnings.warn(msg, category=FutureWarning)\n"
     ]
    }
   ],
   "source": [
    "# Fit our CountVectorizer on the training data and transform training data.\n",
    "X1_train_tweet_cv = pd.DataFrame(cv.fit_transform(X1_train['tweet']).todense(),\n",
    "                          columns = cv.get_feature_names())"
   ]
  },
  {
   "cell_type": "code",
   "execution_count": 25,
   "id": "3b32c5eb-961f-4485-a4b3-ba6cd062d15a",
   "metadata": {},
   "outputs": [
    {
     "data": {
      "text/html": [
       "<div>\n",
       "<style scoped>\n",
       "    .dataframe tbody tr th:only-of-type {\n",
       "        vertical-align: middle;\n",
       "    }\n",
       "\n",
       "    .dataframe tbody tr th {\n",
       "        vertical-align: top;\n",
       "    }\n",
       "\n",
       "    .dataframe thead th {\n",
       "        text-align: right;\n",
       "    }\n",
       "</style>\n",
       "<table border=\"1\" class=\"dataframe\">\n",
       "  <thead>\n",
       "    <tr style=\"text-align: right;\">\n",
       "      <th></th>\n",
       "      <th>00</th>\n",
       "      <th>10</th>\n",
       "      <th>100</th>\n",
       "      <th>10th</th>\n",
       "      <th>11</th>\n",
       "      <th>11th</th>\n",
       "      <th>12</th>\n",
       "      <th>12th</th>\n",
       "      <th>13</th>\n",
       "      <th>13th</th>\n",
       "      <th>...</th>\n",
       "      <th>young</th>\n",
       "      <th>youngest</th>\n",
       "      <th>youtube</th>\n",
       "      <th>yuki</th>\n",
       "      <th>yukitsunoda07</th>\n",
       "      <th>zandvoort</th>\n",
       "      <th>zarco</th>\n",
       "      <th>zhou</th>\n",
       "      <th>zhouguanyu24</th>\n",
       "      <th>zone</th>\n",
       "    </tr>\n",
       "  </thead>\n",
       "  <tbody>\n",
       "    <tr>\n",
       "      <th>0</th>\n",
       "      <td>0</td>\n",
       "      <td>0</td>\n",
       "      <td>0</td>\n",
       "      <td>0</td>\n",
       "      <td>0</td>\n",
       "      <td>0</td>\n",
       "      <td>0</td>\n",
       "      <td>0</td>\n",
       "      <td>0</td>\n",
       "      <td>0</td>\n",
       "      <td>...</td>\n",
       "      <td>0</td>\n",
       "      <td>0</td>\n",
       "      <td>0</td>\n",
       "      <td>0</td>\n",
       "      <td>0</td>\n",
       "      <td>0</td>\n",
       "      <td>0</td>\n",
       "      <td>0</td>\n",
       "      <td>0</td>\n",
       "      <td>0</td>\n",
       "    </tr>\n",
       "    <tr>\n",
       "      <th>1</th>\n",
       "      <td>0</td>\n",
       "      <td>0</td>\n",
       "      <td>0</td>\n",
       "      <td>0</td>\n",
       "      <td>0</td>\n",
       "      <td>0</td>\n",
       "      <td>0</td>\n",
       "      <td>0</td>\n",
       "      <td>0</td>\n",
       "      <td>0</td>\n",
       "      <td>...</td>\n",
       "      <td>0</td>\n",
       "      <td>0</td>\n",
       "      <td>0</td>\n",
       "      <td>0</td>\n",
       "      <td>0</td>\n",
       "      <td>0</td>\n",
       "      <td>0</td>\n",
       "      <td>0</td>\n",
       "      <td>0</td>\n",
       "      <td>0</td>\n",
       "    </tr>\n",
       "    <tr>\n",
       "      <th>2</th>\n",
       "      <td>0</td>\n",
       "      <td>0</td>\n",
       "      <td>0</td>\n",
       "      <td>0</td>\n",
       "      <td>0</td>\n",
       "      <td>0</td>\n",
       "      <td>0</td>\n",
       "      <td>0</td>\n",
       "      <td>0</td>\n",
       "      <td>0</td>\n",
       "      <td>...</td>\n",
       "      <td>0</td>\n",
       "      <td>0</td>\n",
       "      <td>0</td>\n",
       "      <td>0</td>\n",
       "      <td>0</td>\n",
       "      <td>0</td>\n",
       "      <td>0</td>\n",
       "      <td>0</td>\n",
       "      <td>0</td>\n",
       "      <td>0</td>\n",
       "    </tr>\n",
       "    <tr>\n",
       "      <th>3</th>\n",
       "      <td>0</td>\n",
       "      <td>0</td>\n",
       "      <td>0</td>\n",
       "      <td>0</td>\n",
       "      <td>0</td>\n",
       "      <td>0</td>\n",
       "      <td>0</td>\n",
       "      <td>0</td>\n",
       "      <td>0</td>\n",
       "      <td>0</td>\n",
       "      <td>...</td>\n",
       "      <td>0</td>\n",
       "      <td>0</td>\n",
       "      <td>0</td>\n",
       "      <td>0</td>\n",
       "      <td>0</td>\n",
       "      <td>0</td>\n",
       "      <td>0</td>\n",
       "      <td>0</td>\n",
       "      <td>0</td>\n",
       "      <td>0</td>\n",
       "    </tr>\n",
       "    <tr>\n",
       "      <th>4</th>\n",
       "      <td>0</td>\n",
       "      <td>0</td>\n",
       "      <td>0</td>\n",
       "      <td>0</td>\n",
       "      <td>0</td>\n",
       "      <td>0</td>\n",
       "      <td>0</td>\n",
       "      <td>0</td>\n",
       "      <td>0</td>\n",
       "      <td>0</td>\n",
       "      <td>...</td>\n",
       "      <td>0</td>\n",
       "      <td>0</td>\n",
       "      <td>0</td>\n",
       "      <td>0</td>\n",
       "      <td>0</td>\n",
       "      <td>0</td>\n",
       "      <td>0</td>\n",
       "      <td>0</td>\n",
       "      <td>0</td>\n",
       "      <td>0</td>\n",
       "    </tr>\n",
       "  </tbody>\n",
       "</table>\n",
       "<p>5 rows × 1956 columns</p>\n",
       "</div>"
      ],
      "text/plain": [
       "   00  10  100  10th  11  11th  12  12th  13  13th  ...  young  youngest  \\\n",
       "0   0   0    0     0   0     0   0     0   0     0  ...      0         0   \n",
       "1   0   0    0     0   0     0   0     0   0     0  ...      0         0   \n",
       "2   0   0    0     0   0     0   0     0   0     0  ...      0         0   \n",
       "3   0   0    0     0   0     0   0     0   0     0  ...      0         0   \n",
       "4   0   0    0     0   0     0   0     0   0     0  ...      0         0   \n",
       "\n",
       "   youtube  yuki  yukitsunoda07  zandvoort  zarco  zhou  zhouguanyu24  zone  \n",
       "0        0     0              0          0      0     0             0     0  \n",
       "1        0     0              0          0      0     0             0     0  \n",
       "2        0     0              0          0      0     0             0     0  \n",
       "3        0     0              0          0      0     0             0     0  \n",
       "4        0     0              0          0      0     0             0     0  \n",
       "\n",
       "[5 rows x 1956 columns]"
      ]
     },
     "execution_count": 25,
     "metadata": {},
     "output_type": "execute_result"
    }
   ],
   "source": [
    "X1_train_tweet_cv.head()"
   ]
  },
  {
   "cell_type": "code",
   "execution_count": 26,
   "id": "93fca903-194a-4eaa-8f35-084bba19f847",
   "metadata": {},
   "outputs": [
    {
     "name": "stderr",
     "output_type": "stream",
     "text": [
      "/opt/homebrew/Caskroom/miniconda/base/envs/dsi-sg/lib/python3.9/site-packages/sklearn/utils/deprecation.py:87: FutureWarning: Function get_feature_names is deprecated; get_feature_names is deprecated in 1.0 and will be removed in 1.2. Please use get_feature_names_out instead.\n",
      "  warnings.warn(msg, category=FutureWarning)\n"
     ]
    }
   ],
   "source": [
    "# Transform our testing data with the already-fit CountVectorizer.\n",
    "X1_test_text_cv = pd.DataFrame(cv.transform(df_text['text']).todense(),\n",
    "                         columns = cv.get_feature_names())"
   ]
  },
  {
   "cell_type": "code",
   "execution_count": 27,
   "id": "15c53041-016b-41fe-847c-f3dcb4247fe1",
   "metadata": {},
   "outputs": [],
   "source": [
    "# Create target variable\n",
    "y1_test_text = df_text['f1']"
   ]
  },
  {
   "cell_type": "code",
   "execution_count": 28,
   "id": "c0c2b43b-ba4b-48ac-a838-4cf0ca418baa",
   "metadata": {},
   "outputs": [
    {
     "data": {
      "text/plain": [
       "0.9954924650161464"
      ]
     },
     "execution_count": 28,
     "metadata": {},
     "output_type": "execute_result"
    }
   ],
   "source": [
    "# Score model on the training set.\n",
    "M1.score(X1_train_tweet_cv, y1_train)"
   ]
  },
  {
   "cell_type": "code",
   "execution_count": 29,
   "id": "6a52ec5a-c306-4241-8f62-812dcf366df2",
   "metadata": {},
   "outputs": [
    {
     "name": "stderr",
     "output_type": "stream",
     "text": [
      "/opt/homebrew/Caskroom/miniconda/base/envs/dsi-sg/lib/python3.9/site-packages/sklearn/utils/deprecation.py:87: FutureWarning: Function plot_confusion_matrix is deprecated; Function `plot_confusion_matrix` is deprecated in 1.0 and will be removed in 1.2. Use one of the class methods: ConfusionMatrixDisplay.from_predictions or ConfusionMatrixDisplay.from_estimator.\n",
      "  warnings.warn(msg, category=FutureWarning)\n"
     ]
    },
    {
     "name": "stdout",
     "output_type": "stream",
     "text": [
      "Accuracy: 0.7720008092251669\n",
      "Recall: 0.4533793783917119\n",
      "Precision: 0.9797441364605544\n",
      "F1 Score: 0.6198988195615515\n"
     ]
    },
    {
     "data": {
      "image/png": "[encoded data removed]",
      "text/plain": [
       "<Figure size 640x480 with 2 Axes>"
      ]
     },
     "metadata": {},
     "output_type": "display_data"
    }
   ],
   "source": [
    "evaluate_model(X1_test_text_cv, y1_test_text, 0.5, M1)"
   ]
  },
  {
   "cell_type": "markdown",
   "id": "eb64a7a6-c47e-4a70-9030-0f5b85b15e6e",
   "metadata": {
    "tags": []
   },
   "source": [
    "#### M1 performance dropped when applied to text-only tweets, with accuracy dropping from 99% to 77%. Recall rates also dropped form 98% to 45%. We will try to improve M1's performance on text-only tweets by incorporating additional features."
   ]
  },
  {
   "cell_type": "markdown",
   "id": "d1107d9a-1b5e-4038-9861-e797082bd4a1",
   "metadata": {
    "tags": []
   },
   "source": [
    "### Retraining M1 with additional features"
   ]
  },
  {
   "cell_type": "code",
   "execution_count": 30,
   "id": "22663329-7e30-4b4d-ab24-582782cc56c4",
   "metadata": {},
   "outputs": [
    {
     "data": {
      "text/plain": [
       "(14864, 4)"
      ]
     },
     "execution_count": 30,
     "metadata": {},
     "output_type": "execute_result"
    }
   ],
   "source": [
    "# Separate non-text features on training set\n",
    "X1_train_add = X1_train.drop(columns=['tweet','text'])\n",
    "X1_train_add.shape"
   ]
  },
  {
   "cell_type": "code",
   "execution_count": 31,
   "id": "e0a19a8d-5e98-439b-a184-6ffd31cdbcba",
   "metadata": {},
   "outputs": [
    {
     "data": {
      "text/plain": [
       "<14864x1956 sparse matrix of type '<class 'numpy.int64'>'\n",
       "\twith 128170 stored elements in Compressed Sparse Row format>"
      ]
     },
     "execution_count": 31,
     "metadata": {},
     "output_type": "execute_result"
    }
   ],
   "source": [
    "# Tokenize text features on training set\n",
    "\n",
    "# Instantiate CountVectorizer.\n",
    "cv = CountVectorizer(stop_words = 'english', min_df = 10)\n",
    "X1_tweet = cv.fit_transform(X1_train['tweet'])\n",
    "X1_tweet"
   ]
  },
  {
   "cell_type": "code",
   "execution_count": 32,
   "id": "64809a34-03fd-4636-9ef3-f6ebc5107beb",
   "metadata": {},
   "outputs": [
    {
     "data": {
      "text/plain": [
       "array([[  0,   0,   0, ...,  32, 179,  29],\n",
       "       [  0,   0,   0, ...,  67, 123,  24],\n",
       "       [  0,   0,   0, ..., 313, 131,  18],\n",
       "       ...,\n",
       "       [  0,   0,   0, ...,  19, 175,  27],\n",
       "       [  0,   0,   0, ..., 507,  67,  10],\n",
       "       [  0,   0,   0, ..., 119, 111,  14]])"
      ]
     },
     "execution_count": 32,
     "metadata": {},
     "output_type": "execute_result"
    }
   ],
   "source": [
    "# Combine all features for training set\n",
    "X1_train_all = np.column_stack((X1_tweet.toarray(),X1_train_add))\n",
    "X1_train_all"
   ]
  },
  {
   "cell_type": "code",
   "execution_count": 33,
   "id": "bcfb2012-b9a4-42bb-a6f1-1af4b07d81a3",
   "metadata": {},
   "outputs": [
    {
     "data": {
      "text/plain": [
       "(4943, 4)"
      ]
     },
     "execution_count": 33,
     "metadata": {},
     "output_type": "execute_result"
    }
   ],
   "source": [
    "# Separate non-text features on testing set\n",
    "X1_test_add = X1_test.dropna()\n",
    "X1_test_add = X1_test_add.drop(columns=['tweet','text'])\n",
    "X1_test_add.shape"
   ]
  },
  {
   "cell_type": "code",
   "execution_count": 34,
   "id": "df302912-c233-4d34-8331-b513338f31a5",
   "metadata": {},
   "outputs": [
    {
     "data": {
      "text/plain": [
       "<4943x1956 sparse matrix of type '<class 'numpy.int64'>'\n",
       "\twith 31528 stored elements in Compressed Sparse Row format>"
      ]
     },
     "execution_count": 34,
     "metadata": {},
     "output_type": "execute_result"
    }
   ],
   "source": [
    "# Tokenize text features on testing set\n",
    "X1_text = cv.transform(df_text['text'])\n",
    "X1_text"
   ]
  },
  {
   "cell_type": "code",
   "execution_count": 35,
   "id": "ebb7f297-cd84-4217-b6d1-09b38d64ba05",
   "metadata": {},
   "outputs": [
    {
     "data": {
      "text/plain": [
       "array([[  0,   0,   0, ...,  51,  59,   8],\n",
       "       [  0,   0,   0, ...,  81, 156,  26],\n",
       "       [  0,   0,   0, ..., 102,  87,  13],\n",
       "       ...,\n",
       "       [  0,   0,   0, ..., 172, 204,  23],\n",
       "       [  0,   0,   0, ...,  20,  91,  13],\n",
       "       [  0,   0,   0, ...,  30, 189,  30]])"
      ]
     },
     "execution_count": 35,
     "metadata": {},
     "output_type": "execute_result"
    }
   ],
   "source": [
    "# Combine all features for testing set\n",
    "X1_test_all = np.column_stack((X1_text.toarray(),X1_test_add))\n",
    "X1_test_all"
   ]
  },
  {
   "cell_type": "code",
   "execution_count": 36,
   "id": "96a7b9aa-8144-4562-9628-a0dc82f93014",
   "metadata": {},
   "outputs": [
    {
     "name": "stderr",
     "output_type": "stream",
     "text": [
      "/opt/homebrew/Caskroom/miniconda/base/envs/dsi-sg/lib/python3.9/site-packages/sklearn/linear_model/_logistic.py:444: ConvergenceWarning: lbfgs failed to converge (status=1):\n",
      "STOP: TOTAL NO. of ITERATIONS REACHED LIMIT.\n",
      "\n",
      "Increase the number of iterations (max_iter) or scale the data as shown in:\n",
      "    https://scikit-learn.org/stable/modules/preprocessing.html\n",
      "Please also refer to the documentation for alternative solver options:\n",
      "    https://scikit-learn.org/stable/modules/linear_model.html#logistic-regression\n",
      "  n_iter_i = _check_optimize_result(\n"
     ]
    }
   ],
   "source": [
    "# Instantiate Log Reg model\n",
    "lr = LogisticRegression()\n",
    "\n",
    "# Fit model\n",
    "M3 = lr.fit(X1_train_all, y1_train)"
   ]
  },
  {
   "cell_type": "code",
   "execution_count": 37,
   "id": "32970293-3666-4fc6-834d-2b7f37d9f8d8",
   "metadata": {},
   "outputs": [
    {
     "data": {
      "text/plain": [
       "0.9927341227125942"
      ]
     },
     "execution_count": 37,
     "metadata": {},
     "output_type": "execute_result"
    }
   ],
   "source": [
    "# Score model on the training set.\n",
    "M3.score(X1_train_all, y1_train)"
   ]
  },
  {
   "cell_type": "code",
   "execution_count": 38,
   "id": "ba05a893-0b24-4889-95ae-d1f22f4f552e",
   "metadata": {},
   "outputs": [
    {
     "name": "stdout",
     "output_type": "stream",
     "text": [
      "Accuracy: 0.8889338458426057\n",
      "Recall: 0.7335964479526393\n",
      "Precision: 0.9939839572192514\n",
      "F1 Score: 0.8441669032074935\n"
     ]
    },
    {
     "name": "stderr",
     "output_type": "stream",
     "text": [
      "/opt/homebrew/Caskroom/miniconda/base/envs/dsi-sg/lib/python3.9/site-packages/sklearn/utils/deprecation.py:87: FutureWarning: Function plot_confusion_matrix is deprecated; Function `plot_confusion_matrix` is deprecated in 1.0 and will be removed in 1.2. Use one of the class methods: ConfusionMatrixDisplay.from_predictions or ConfusionMatrixDisplay.from_estimator.\n",
      "  warnings.warn(msg, category=FutureWarning)\n"
     ]
    },
    {
     "data": {
      "image/png": "[encoded data removed]",
      "text/plain": [
       "<Figure size 640x480 with 2 Axes>"
      ]
     },
     "metadata": {},
     "output_type": "display_data"
    }
   ],
   "source": [
    "# Evaluate model\n",
    "evaluate_model(X1_test_all, y1_test_text, 0.5, M3)"
   ]
  },
  {
   "cell_type": "markdown",
   "id": "250a5fef-0074-41d8-acf2-f39008dc3be2",
   "metadata": {
    "tags": []
   },
   "source": [
    "#### After incorporating additional features, model performance improved again. M3's accuracy increased to 89% on text-only tweets and recall increased to 73%, compared to 77% and 45% respectively for M1."
   ]
  },
  {
   "cell_type": "markdown",
   "id": "aa3f3c03-c5d5-4f5a-9501-46a8d995ed4e",
   "metadata": {},
   "source": [
    "### Evaluate M3 on tweets"
   ]
  },
  {
   "cell_type": "code",
   "execution_count": 39,
   "id": "95583229-ff44-4a07-ba59-f9b5b8782099",
   "metadata": {},
   "outputs": [
    {
     "data": {
      "text/plain": [
       "(4955, 4)"
      ]
     },
     "execution_count": 39,
     "metadata": {},
     "output_type": "execute_result"
    }
   ],
   "source": [
    "# Separate non-text features\n",
    "X1_test_add_tweet = X1_test.drop(columns=['tweet','text'])\n",
    "X1_test_add_tweet.shape"
   ]
  },
  {
   "cell_type": "code",
   "execution_count": 40,
   "id": "c271e2fb-9a22-4d66-94a4-b7e9f46ae8cf",
   "metadata": {},
   "outputs": [
    {
     "data": {
      "text/plain": [
       "<4955x1956 sparse matrix of type '<class 'numpy.int64'>'\n",
       "\twith 42677 stored elements in Compressed Sparse Row format>"
      ]
     },
     "execution_count": 40,
     "metadata": {},
     "output_type": "execute_result"
    }
   ],
   "source": [
    "# Tokenize text features\n",
    "X1_test_tweet = cv.transform(X1_test['tweet'])\n",
    "X1_test_tweet"
   ]
  },
  {
   "cell_type": "code",
   "execution_count": 41,
   "id": "69542f27-0a36-42df-bcec-d07923f73165",
   "metadata": {},
   "outputs": [
    {
     "data": {
      "text/plain": [
       "array([[  0,   0,   0, ...,  51,  59,   8],\n",
       "       [  0,   0,   0, ...,  81, 156,  26],\n",
       "       [  0,   0,   0, ..., 102,  87,  13],\n",
       "       ...,\n",
       "       [  0,   0,   0, ..., 172, 204,  23],\n",
       "       [  0,   0,   0, ...,  20,  91,  13],\n",
       "       [  0,   0,   0, ...,  30, 189,  30]])"
      ]
     },
     "execution_count": 41,
     "metadata": {},
     "output_type": "execute_result"
    }
   ],
   "source": [
    "# Combine all features\n",
    "X1_test_all_tweet = np.column_stack((X1_test_tweet.toarray(),X1_test_add_tweet))\n",
    "X1_test_all_tweet"
   ]
  },
  {
   "cell_type": "code",
   "execution_count": 42,
   "id": "0e2cbb91-b2f1-4e5d-9f47-7621a4d63e26",
   "metadata": {},
   "outputs": [
    {
     "name": "stderr",
     "output_type": "stream",
     "text": [
      "/opt/homebrew/Caskroom/miniconda/base/envs/dsi-sg/lib/python3.9/site-packages/sklearn/utils/deprecation.py:87: FutureWarning: Function plot_confusion_matrix is deprecated; Function `plot_confusion_matrix` is deprecated in 1.0 and will be removed in 1.2. Use one of the class methods: ConfusionMatrixDisplay.from_predictions or ConfusionMatrixDisplay.from_estimator.\n",
      "  warnings.warn(msg, category=FutureWarning)\n"
     ]
    },
    {
     "name": "stdout",
     "output_type": "stream",
     "text": [
      "Accuracy: 0.9927346115035318\n",
      "Recall: 0.9833087874324987\n",
      "Precision: 0.999002493765586\n",
      "F1 Score: 0.9910935180603662\n"
     ]
    },
    {
     "data": {
      "image/png": "[encoded data removed]",
      "text/plain": [
       "<Figure size 640x480 with 2 Axes>"
      ]
     },
     "metadata": {},
     "output_type": "display_data"
    }
   ],
   "source": [
    "# Evaluate model\n",
    "evaluate_model(X1_test_all_tweet, y1_test, 0.5, M3)"
   ]
  },
  {
   "cell_type": "markdown",
   "id": "1446afb9-82e2-408d-b40a-7b3ce3ec1007",
   "metadata": {},
   "source": [
    "M3 showed accuracy of 99% and recall rate of 98% on tweets, back to similar levels as M1."
   ]
  },
  {
   "cell_type": "markdown",
   "id": "42798645-d95f-4251-b6c3-592b75ab69ef",
   "metadata": {},
   "source": [
    "#### Checking ROC AUC for text-only tweet prediction"
   ]
  },
  {
   "cell_type": "code",
   "execution_count": 43,
   "id": "65ed72ef-6621-4120-90d4-b65337b05f4c",
   "metadata": {},
   "outputs": [
    {
     "data": {
      "text/plain": [
       "array([[0.91737622, 0.08262378],\n",
       "       [0.683553  , 0.316447  ],\n",
       "       [0.21814527, 0.78185473],\n",
       "       ...,\n",
       "       [0.30271096, 0.69728904],\n",
       "       [0.87939606, 0.12060394],\n",
       "       [0.98212878, 0.01787122]])"
      ]
     },
     "execution_count": 43,
     "metadata": {},
     "output_type": "execute_result"
    }
   ],
   "source": [
    "prob_text=M3.predict_proba(X1_test_all)\n",
    "prob_text"
   ]
  },
  {
   "cell_type": "code",
   "execution_count": 44,
   "id": "e2ad3310-eef3-46d6-8240-1d9054decf71",
   "metadata": {},
   "outputs": [
    {
     "data": {
      "text/html": [
       "<div>\n",
       "<style scoped>\n",
       "    .dataframe tbody tr th:only-of-type {\n",
       "        vertical-align: middle;\n",
       "    }\n",
       "\n",
       "    .dataframe tbody tr th {\n",
       "        vertical-align: top;\n",
       "    }\n",
       "\n",
       "    .dataframe thead th {\n",
       "        text-align: right;\n",
       "    }\n",
       "</style>\n",
       "<table border=\"1\" class=\"dataframe\">\n",
       "  <thead>\n",
       "    <tr style=\"text-align: right;\">\n",
       "      <th></th>\n",
       "      <th>f1</th>\n",
       "      <th>prob</th>\n",
       "    </tr>\n",
       "  </thead>\n",
       "  <tbody>\n",
       "    <tr>\n",
       "      <th>13367</th>\n",
       "      <td>0</td>\n",
       "      <td>0.082624</td>\n",
       "    </tr>\n",
       "    <tr>\n",
       "      <th>2422</th>\n",
       "      <td>1</td>\n",
       "      <td>0.316447</td>\n",
       "    </tr>\n",
       "    <tr>\n",
       "      <th>3546</th>\n",
       "      <td>1</td>\n",
       "      <td>0.781855</td>\n",
       "    </tr>\n",
       "    <tr>\n",
       "      <th>5260</th>\n",
       "      <td>1</td>\n",
       "      <td>0.291409</td>\n",
       "    </tr>\n",
       "    <tr>\n",
       "      <th>7152</th>\n",
       "      <td>1</td>\n",
       "      <td>0.946021</td>\n",
       "    </tr>\n",
       "  </tbody>\n",
       "</table>\n",
       "</div>"
      ],
      "text/plain": [
       "       f1      prob\n",
       "13367   0  0.082624\n",
       "2422    1  0.316447\n",
       "3546    1  0.781855\n",
       "5260    1  0.291409\n",
       "7152    1  0.946021"
      ]
     },
     "execution_count": 44,
     "metadata": {},
     "output_type": "execute_result"
    }
   ],
   "source": [
    "df_test_text=pd.DataFrame({'f1': y1_test_text, 'prob': prob_text[:,1]})\n",
    "df_test_text.head()"
   ]
  },
  {
   "cell_type": "code",
   "execution_count": 45,
   "id": "5a9407d0-15ee-4ef4-bddd-7c8d3d667ca1",
   "metadata": {},
   "outputs": [
    {
     "name": "stderr",
     "output_type": "stream",
     "text": [
      "/var/folders/3n/fkv2x4vs6_jc1rvhs53fssxr0000gn/T/ipykernel_2076/3692339015.py:5: UserWarning: \n",
      "\n",
      "`distplot` is a deprecated function and will be removed in seaborn v0.14.0.\n",
      "\n",
      "Please adapt your code to use either `displot` (a figure-level function with\n",
      "similar flexibility) or `histplot` (an axes-level function for histograms).\n",
      "\n",
      "For a guide to updating your code to use the new functions, please see\n",
      "https://gist.github.com/mwaskom/de44147ed2974457ad6372750bbe5751\n",
      "\n",
      "  sns.distplot(group[1], kde = False, bins = 20, label = f'Actual Outcome = {group[0]}')\n"
     ]
    },
    {
     "data": {
      "text/plain": [
       "Text(0.5, 1.0, 'Probabilities vs Actual Outcome')"
      ]
     },
     "execution_count": 45,
     "metadata": {},
     "output_type": "execute_result"
    },
    {
     "data": {
      "image/png": "[encoded data removed]",
      "text/plain": [
       "<Figure size 1200x500 with 1 Axes>"
      ]
     },
     "metadata": {},
     "output_type": "display_data"
    }
   ],
   "source": [
    "plt.figure(figsize = (12, 5))\n",
    "\n",
    "# plot distributions of predicted probabilities by actual values\n",
    "for group in df_test_text.groupby('f1'):\n",
    "    sns.distplot(group[1], kde = False, bins = 20, label = f'Actual Outcome = {group[0]}')\n",
    "\n",
    "# Add cutoff line\n",
    "plt.axvline(0.5, color = 'black', linestyle = '--')\n",
    "\n",
    "plt.xlabel('Predicted Probability that Outcome = 1')\n",
    "plt.legend();\n",
    "plt.title('Probabilities vs Actual Outcome')"
   ]
  },
  {
   "cell_type": "code",
   "execution_count": 46,
   "id": "e58c427f-8f95-4c47-a68e-969e3d28f189",
   "metadata": {},
   "outputs": [
    {
     "name": "stderr",
     "output_type": "stream",
     "text": [
      "/opt/homebrew/Caskroom/miniconda/base/envs/dsi-sg/lib/python3.9/site-packages/sklearn/utils/deprecation.py:87: FutureWarning: Function plot_roc_curve is deprecated; Function :func:`plot_roc_curve` is deprecated in 1.0 and will be removed in 1.2. Use one of the class methods: :meth:`sklearn.metrics.RocCurveDisplay.from_predictions` or :meth:`sklearn.metrics.RocCurveDisplay.from_estimator`.\n",
      "  warnings.warn(msg, category=FutureWarning)\n"
     ]
    },
    {
     "data": {
      "text/plain": [
       "Text(0.5, 1.0, 'ROC Curve')"
      ]
     },
     "execution_count": 46,
     "metadata": {},
     "output_type": "execute_result"
    },
    {
     "data": {
      "image/png": "[encoded data removed]",
      "text/plain": [
       "<Figure size 640x480 with 1 Axes>"
      ]
     },
     "metadata": {},
     "output_type": "display_data"
    }
   ],
   "source": [
    "plot_roc_curve(M3, X1_test_all, y1_test_text)\n",
    "plt.plot([0, 1], [0, 1],\n",
    "         label='baseline', linestyle='--')\n",
    "plt.legend();\n",
    "plt.title('ROC Curve')"
   ]
  },
  {
   "cell_type": "code",
   "execution_count": 47,
   "id": "70cf3f85-313e-48d2-b94f-b16225549ed7",
   "metadata": {},
   "outputs": [
    {
     "data": {
      "text/plain": [
       "0.9925762156023992"
      ]
     },
     "execution_count": 47,
     "metadata": {},
     "output_type": "execute_result"
    }
   ],
   "source": [
    "roc_auc_score(y1_test_text, M3.predict_proba(X1_test_all)[:,1])"
   ]
  },
  {
   "cell_type": "markdown",
   "id": "2720c72d-309b-4871-8493-a00e74198e03",
   "metadata": {},
   "source": [
    "#### Checking ROC AUC for tweet prediction"
   ]
  },
  {
   "cell_type": "code",
   "execution_count": 48,
   "id": "48a0ed62-19ef-42a9-b008-59134b970a67",
   "metadata": {},
   "outputs": [
    {
     "data": {
      "text/plain": [
       "array([[9.40991577e-01, 5.90084225e-02],\n",
       "       [7.39050282e-03, 9.92609497e-01],\n",
       "       [5.18275655e-04, 9.99481724e-01],\n",
       "       ...,\n",
       "       [8.91498062e-02, 9.10850194e-01],\n",
       "       [9.40386262e-01, 5.96137380e-02],\n",
       "       [9.99481138e-01, 5.18861694e-04]])"
      ]
     },
     "execution_count": 48,
     "metadata": {},
     "output_type": "execute_result"
    }
   ],
   "source": [
    "prob_tweet=M3.predict_proba(X1_test_all_tweet)\n",
    "prob_tweet"
   ]
  },
  {
   "cell_type": "code",
   "execution_count": 49,
   "id": "1136464e-1be0-4f4c-ad7b-f9f0d474e07f",
   "metadata": {},
   "outputs": [
    {
     "data": {
      "text/html": [
       "<div>\n",
       "<style scoped>\n",
       "    .dataframe tbody tr th:only-of-type {\n",
       "        vertical-align: middle;\n",
       "    }\n",
       "\n",
       "    .dataframe tbody tr th {\n",
       "        vertical-align: top;\n",
       "    }\n",
       "\n",
       "    .dataframe thead th {\n",
       "        text-align: right;\n",
       "    }\n",
       "</style>\n",
       "<table border=\"1\" class=\"dataframe\">\n",
       "  <thead>\n",
       "    <tr style=\"text-align: right;\">\n",
       "      <th></th>\n",
       "      <th>f1</th>\n",
       "      <th>prob</th>\n",
       "    </tr>\n",
       "  </thead>\n",
       "  <tbody>\n",
       "    <tr>\n",
       "      <th>13367</th>\n",
       "      <td>0</td>\n",
       "      <td>0.059008</td>\n",
       "    </tr>\n",
       "    <tr>\n",
       "      <th>2422</th>\n",
       "      <td>1</td>\n",
       "      <td>0.992609</td>\n",
       "    </tr>\n",
       "    <tr>\n",
       "      <th>3546</th>\n",
       "      <td>1</td>\n",
       "      <td>0.999482</td>\n",
       "    </tr>\n",
       "    <tr>\n",
       "      <th>5260</th>\n",
       "      <td>1</td>\n",
       "      <td>0.995466</td>\n",
       "    </tr>\n",
       "    <tr>\n",
       "      <th>7152</th>\n",
       "      <td>1</td>\n",
       "      <td>0.999893</td>\n",
       "    </tr>\n",
       "  </tbody>\n",
       "</table>\n",
       "</div>"
      ],
      "text/plain": [
       "       f1      prob\n",
       "13367   0  0.059008\n",
       "2422    1  0.992609\n",
       "3546    1  0.999482\n",
       "5260    1  0.995466\n",
       "7152    1  0.999893"
      ]
     },
     "execution_count": 49,
     "metadata": {},
     "output_type": "execute_result"
    }
   ],
   "source": [
    "df_test_tweet=pd.DataFrame({'f1': y1_test, 'prob': prob_tweet[:,1]})\n",
    "df_test_tweet.head()"
   ]
  },
  {
   "cell_type": "code",
   "execution_count": 50,
   "id": "82bd1062-21dd-4735-8c8a-e820dbb35c32",
   "metadata": {},
   "outputs": [
    {
     "name": "stderr",
     "output_type": "stream",
     "text": [
      "/var/folders/3n/fkv2x4vs6_jc1rvhs53fssxr0000gn/T/ipykernel_2076/3155054182.py:5: UserWarning: \n",
      "\n",
      "`distplot` is a deprecated function and will be removed in seaborn v0.14.0.\n",
      "\n",
      "Please adapt your code to use either `displot` (a figure-level function with\n",
      "similar flexibility) or `histplot` (an axes-level function for histograms).\n",
      "\n",
      "For a guide to updating your code to use the new functions, please see\n",
      "https://gist.github.com/mwaskom/de44147ed2974457ad6372750bbe5751\n",
      "\n",
      "  sns.distplot(group[1], kde = False, bins = 20, label = f'Actual Outcome = {group[0]}')\n"
     ]
    },
    {
     "data": {
      "text/plain": [
       "Text(0.5, 1.0, 'Probabilities vs Actual Outcome')"
      ]
     },
     "execution_count": 50,
     "metadata": {},
     "output_type": "execute_result"
    },
    {
     "data": {
      "image/png": "[encoded data removed]",
      "text/plain": [
       "<Figure size 1200x500 with 1 Axes>"
      ]
     },
     "metadata": {},
     "output_type": "display_data"
    }
   ],
   "source": [
    "plt.figure(figsize = (12, 5))\n",
    "\n",
    "# plot distributions of predicted probabilities by actual values\n",
    "for group in df_test_tweet.groupby('f1'):\n",
    "    sns.distplot(group[1], kde = False, bins = 20, label = f'Actual Outcome = {group[0]}')\n",
    "\n",
    "# Add cutoff line\n",
    "plt.axvline(0.5, color = 'black', linestyle = '--')\n",
    "\n",
    "plt.xlabel('Predicted Probability that Outcome = 1')\n",
    "plt.legend();\n",
    "plt.title('Probabilities vs Actual Outcome')"
   ]
  },
  {
   "cell_type": "code",
   "execution_count": 51,
   "id": "8aaec3e5-056d-4855-b48c-b531eddb73c8",
   "metadata": {},
   "outputs": [
    {
     "name": "stderr",
     "output_type": "stream",
     "text": [
      "/opt/homebrew/Caskroom/miniconda/base/envs/dsi-sg/lib/python3.9/site-packages/sklearn/utils/deprecation.py:87: FutureWarning: Function plot_roc_curve is deprecated; Function :func:`plot_roc_curve` is deprecated in 1.0 and will be removed in 1.2. Use one of the class methods: :meth:`sklearn.metrics.RocCurveDisplay.from_predictions` or :meth:`sklearn.metrics.RocCurveDisplay.from_estimator`.\n",
      "  warnings.warn(msg, category=FutureWarning)\n"
     ]
    },
    {
     "data": {
      "text/plain": [
       "Text(0.5, 1.0, 'ROC Curve')"
      ]
     },
     "execution_count": 51,
     "metadata": {},
     "output_type": "execute_result"
    },
    {
     "data": {
      "image/png": "[encoded data removed]",
      "text/plain": [
       "<Figure size 640x480 with 1 Axes>"
      ]
     },
     "metadata": {},
     "output_type": "display_data"
    }
   ],
   "source": [
    "plot_roc_curve(M3, X1_test_all_tweet, y1_test)\n",
    "plt.plot([0, 1], [0, 1],\n",
    "         label='baseline', linestyle='--')\n",
    "plt.legend();\n",
    "plt.title('ROC Curve')"
   ]
  },
  {
   "cell_type": "code",
   "execution_count": 52,
   "id": "41018a7b-852e-428e-aa89-b09885ec9b68",
   "metadata": {},
   "outputs": [
    {
     "data": {
      "text/plain": [
       "0.9993859318845364"
      ]
     },
     "execution_count": 52,
     "metadata": {},
     "output_type": "execute_result"
    }
   ],
   "source": [
    "roc_auc_score(y1_test, M3.predict_proba(X1_test_all_tweet)[:,1])"
   ]
  },
  {
   "cell_type": "markdown",
   "id": "71af5f21-061d-428c-8e7a-c2a6cde0c700",
   "metadata": {},
   "source": [
    "Looking at the probabilities vs actual outcome charts, there is potential to improve model performance further by adjusting to a lower threshold when classifying the tweets.\n",
    "\n",
    "The high ROC AUC scores also shows that M3 is able to distinguish between tweets from Formula 1 and MotoGP well."
   ]
  },
  {
   "cell_type": "code",
   "execution_count": 53,
   "id": "d34f13f2-75c5-4b07-9030-c1c5a3d6c9c1",
   "metadata": {},
   "outputs": [
    {
     "name": "stderr",
     "output_type": "stream",
     "text": [
      "/opt/homebrew/Caskroom/miniconda/base/envs/dsi-sg/lib/python3.9/site-packages/sklearn/utils/deprecation.py:87: FutureWarning: Function plot_confusion_matrix is deprecated; Function `plot_confusion_matrix` is deprecated in 1.0 and will be removed in 1.2. Use one of the class methods: ConfusionMatrixDisplay.from_predictions or ConfusionMatrixDisplay.from_estimator.\n",
      "  warnings.warn(msg, category=FutureWarning)\n"
     ]
    },
    {
     "name": "stdout",
     "output_type": "stream",
     "text": [
      "Accuracy: 0.9166498078090228\n",
      "Recall: 0.8051307350764677\n",
      "Precision: 0.9896907216494846\n",
      "F1 Score: 0.8879216539717084\n"
     ]
    },
    {
     "data": {
      "image/png": "[encoded data removed]",
      "text/plain": [
       "<Figure size 640x480 with 2 Axes>"
      ]
     },
     "metadata": {},
     "output_type": "display_data"
    }
   ],
   "source": [
    "# Evaluate model on text-only tweets\n",
    "evaluate_model(X1_test_all, y1_test_text, 0.4, M3)"
   ]
  },
  {
   "cell_type": "code",
   "execution_count": 54,
   "id": "24c0b12d-af3a-4990-8b3f-3e316d9c7c67",
   "metadata": {},
   "outputs": [
    {
     "name": "stderr",
     "output_type": "stream",
     "text": [
      "/opt/homebrew/Caskroom/miniconda/base/envs/dsi-sg/lib/python3.9/site-packages/sklearn/utils/deprecation.py:87: FutureWarning: Function plot_confusion_matrix is deprecated; Function `plot_confusion_matrix` is deprecated in 1.0 and will be removed in 1.2. Use one of the class methods: ConfusionMatrixDisplay.from_predictions or ConfusionMatrixDisplay.from_estimator.\n",
      "  warnings.warn(msg, category=FutureWarning)\n"
     ]
    },
    {
     "name": "stdout",
     "output_type": "stream",
     "text": [
      "Accuracy: 0.9401173376492009\n",
      "Recall: 0.871238283177109\n",
      "Precision: 0.9805663520266519\n",
      "F1 Score: 0.922675026123302\n"
     ]
    },
    {
     "data": {
      "image/png": "[encoded data removed]",
      "text/plain": [
       "<Figure size 640x480 with 2 Axes>"
      ]
     },
     "metadata": {},
     "output_type": "display_data"
    }
   ],
   "source": [
    "# Evaluate model on text-only tweets\n",
    "evaluate_model(X1_test_all, y1_test_text, 0.3, M3)"
   ]
  },
  {
   "cell_type": "code",
   "execution_count": 55,
   "id": "5ee3b4d5-b2b9-4077-b26f-ba4860ada7bd",
   "metadata": {},
   "outputs": [
    {
     "name": "stdout",
     "output_type": "stream",
     "text": [
      "Accuracy: 0.9945509586276489\n",
      "Recall: 0.9896907216494846\n",
      "Precision: 0.9970326409495549\n",
      "F1 Score: 0.9933481152993349\n"
     ]
    },
    {
     "name": "stderr",
     "output_type": "stream",
     "text": [
      "/opt/homebrew/Caskroom/miniconda/base/envs/dsi-sg/lib/python3.9/site-packages/sklearn/utils/deprecation.py:87: FutureWarning: Function plot_confusion_matrix is deprecated; Function `plot_confusion_matrix` is deprecated in 1.0 and will be removed in 1.2. Use one of the class methods: ConfusionMatrixDisplay.from_predictions or ConfusionMatrixDisplay.from_estimator.\n",
      "  warnings.warn(msg, category=FutureWarning)\n"
     ]
    },
    {
     "data": {
      "image/png": "[encoded data removed]",
      "text/plain": [
       "<Figure size 640x480 with 2 Axes>"
      ]
     },
     "metadata": {},
     "output_type": "display_data"
    }
   ],
   "source": [
    "# Evaluate model on tweets\n",
    "evaluate_model(X1_test_all_tweet, y1_test, 0.4, M3)"
   ]
  },
  {
   "cell_type": "code",
   "execution_count": 56,
   "id": "71712e90-c914-40f5-b95b-0c60ec13fe4e",
   "metadata": {},
   "outputs": [
    {
     "name": "stderr",
     "output_type": "stream",
     "text": [
      "/opt/homebrew/Caskroom/miniconda/base/envs/dsi-sg/lib/python3.9/site-packages/sklearn/utils/deprecation.py:87: FutureWarning: Function plot_confusion_matrix is deprecated; Function `plot_confusion_matrix` is deprecated in 1.0 and will be removed in 1.2. Use one of the class methods: ConfusionMatrixDisplay.from_predictions or ConfusionMatrixDisplay.from_estimator.\n",
      "  warnings.warn(msg, category=FutureWarning)\n"
     ]
    },
    {
     "name": "stdout",
     "output_type": "stream",
     "text": [
      "Accuracy: 0.9935418768920282\n",
      "Recall: 0.990672557682867\n",
      "Precision: 0.9935992122107337\n",
      "F1 Score: 0.9921337266470011\n"
     ]
    },
    {
     "data": {
      "image/png": "[encoded data removed]",
      "text/plain": [
       "<Figure size 640x480 with 2 Axes>"
      ]
     },
     "metadata": {},
     "output_type": "display_data"
    }
   ],
   "source": [
    "# Evaluate model on tweets\n",
    "evaluate_model(X1_test_all_tweet, y1_test, 0.3, M3)"
   ]
  },
  {
   "cell_type": "markdown",
   "id": "0d309ff9-3029-4612-a784-ac7fc55638f6",
   "metadata": {
    "tags": []
   },
   "source": [
    "### Conclusion"
   ]
  },
  {
   "cell_type": "markdown",
   "id": "19559116-0eaa-4923-a7c7-b1318a0ac96a",
   "metadata": {},
   "source": [
    "Although our first model M1 showed high scores in terms of Accuracy and Recall, we need to bear in mind that the model was built and test on tweets from the official Twitter accounts of Formula 1 and MotoGP. The high scores were achieved primarily due to the hashtags which are prevalent in 97% of the tweets.\n",
    "\n",
    "However, our aim is to build a classifier that is able to look at any tweet from any user, and determine if the tweet contains Formula 1 related content, so that we can push the tweet to the news feeds of users who are interested. Given that individual twitter accounts are unlikely to be as meticulous in including hastags, so we do need a model that can perform well when classifying tweets without any hashtag or mention. In this aspect, M1 only showed accuracy and recall rates of 77% and 45% respectively.\n",
    "\n",
    "Hence, we would recommend to adopt M3 (with threshold 0.3), which is able to perform well on tweets both with and without hashtags.\n",
    "\n",
    "|Model|Testing Accuracy|Recall|Precision|F1 Score|ROC AUC\n",
    "|---|---|---|---|---|---|\n",
    "|M1 (tweet-on-tweet)|0.992|0.980|0.999|0.990|--\n",
    "|M1 (tweet-on-text)|0.772|0.453|0.980|0.620|--\n",
    "|M2 (hashtag-on-hashtag)|0.991|0.978|1.000|0.989|--\n",
    "|M3 (all-on-tweet, 0.5)|0.993|0.983|0.999|0.991|0.999\n",
    "|M3 (all-on-text, 0.5)|0.889|0.734|0.994|0.844|0.993\n",
    "|M3 (all-on-tweet, 0.4)|0.995|0.990|0.997|0.993|--\n",
    "|M3 (all-on-text, 0.4)|0.917|0.805|0.987|0.888|--\n",
    "|M3 (all-on-tweet, 0.3)|0.994|0.991|0.994|0.992|--\n",
    "|M3 (all-on-text, 0.3)|0.940|0.871|0.981|0.923|--\n"
   ]
  }
 ],
 "metadata": {
  "kernelspec": {
   "display_name": "dsi-sg",
   "language": "python",
   "name": "dsi-sg"
  },
  "language_info": {
   "codemirror_mode": {
    "name": "ipython",
    "version": 3
   },
   "file_extension": ".py",
   "mimetype": "text/x-python",
   "name": "python",
   "nbconvert_exporter": "python",
   "pygments_lexer": "ipython3",
   "version": "3.9.13"
  }
 },
 "nbformat": 4,
 "nbformat_minor": 5
}

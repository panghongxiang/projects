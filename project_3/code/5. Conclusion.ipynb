{
 "cells": [
  {
   "cell_type": "markdown",
   "id": "6c7f6623-c0ca-4bbc-90a6-0779c45258bf",
   "metadata": {},
   "source": [
    "<img src=\"http://imgur.com/1ZcRyrc.png\" style=\"float: left; margin: 20px; height: 55px\">\n",
    "\n",
    "# Project 3: Developing a classification model for Twitter topics (Formula 1 vs MotoGP)"
   ]
  },
  {
   "cell_type": "markdown",
   "id": "e3b5fa2b-7a4c-4348-ac7d-42a7f02f0033",
   "metadata": {},
   "source": [
    "### Contents:\n",
    "- [Conclusion](#Conclusion)"
   ]
  },
  {
   "cell_type": "markdown",
   "id": "ba28c0d0-c764-40f3-8f48-b48af0db2189",
   "metadata": {},
   "source": [
    "## Conclusion"
   ]
  },
  {
   "cell_type": "markdown",
   "id": "64fbe531-2ac5-425f-9cee-e4e4eb920af4",
   "metadata": {},
   "source": [
    "After running several iterations of both Naive-Bayes and Logistic Regression models, the results are shown below.\n",
    "\n",
    "#### Naive-Bayes\n",
    "\n",
    "|Model|Testing Accuracy|Recall|Precision|F1 Score|ROC AUC\n",
    "|---|---|---|---|---|---|\n",
    "|M1 (tweet-on-tweet)|0.994|0.991|0.995|0.993|--\n",
    "|M1 (tweet-on-text)|0.883|0.794|0.910|0.848|--\n",
    "|M2 (hashtag-on-hashtag)|0.993|0.984|1.000|0.992|--\n",
    "|M3 (all-on-tweet)|0.919|0.879|0.919|0.899|0.961\n",
    "|M3 (all-on-text)|0.916|0.875|0.916|0.895|0.957\n",
    "\n",
    "#### Logistic Regression\n",
    "\n",
    "|Model|Testing Accuracy|Recall|Precision|F1 Score|ROC AUC\n",
    "|---|---|---|---|---|---|\n",
    "|M1 (tweet-on-tweet)|0.992|0.980|0.999|0.990|--\n",
    "|M1 (tweet-on-text)|0.772|0.453|0.980|0.620|--\n",
    "|M2 (hashtag-on-hashtag)|0.991|0.978|1.000|0.989|--\n",
    "|M3 (all-on-tweet, 0.5)|0.993|0.983|0.999|0.991|0.999\n",
    "|M3 (all-on-text, 0.5)|0.889|0.734|0.994|0.844|0.993\n",
    "|M3 (all-on-tweet, 0.4)|0.995|0.990|0.997|0.993|--\n",
    "|M3 (all-on-text, 0.4)|0.917|0.805|0.987|0.888|--\n",
    "|M3 (all-on-tweet, 0.3)|0.994|0.991|0.994|0.992|--\n",
    "|M3 (all-on-text, 0.3)|0.940|0.871|0.981|0.923|--"
   ]
  },
  {
   "cell_type": "markdown",
   "id": "e057d0a1-5f98-4693-8c92-8e1fa2293a0a",
   "metadata": {},
   "source": [
    "#### Model selection\n",
    "\n",
    "To recap our problem statement, Twitter needs a classification model that maximizes the recommendation of Formula 1 related tweets to users who have indicated interest in the topic, while minimizing the recommendation of other auto racing related tweets. This project aims to build a classifier that is able to differentiate Formula 1 related tweets from MotoGP related twxeets.\n",
    "\n",
    "With that in mind, it is important to develop a classifier that is not only able to have high accuracy, but also high recall rates and F1-scores. This is to prioritize capturing all Formula 1 related tweets as much as possible, while avoiding spam of non Formula 1 related tweets to show on the news feeds of users who are interested in Formula 1. Considering that our training data is scraped from official twitter accounts of Formula 1 and MotoGP, where the prevalence of hashtags is high, we would also like to take into account the performance of our model on tweets without hashtag/mention, which is more common among individual user accounts.\n",
    "\n",
    "Given this consideration, we recommend to choose the Logistic Regression (M3, 0.3 threshold), which performs well on tweets both with and without hashtags. The high ROC AUC score also implies that the model is a good fit for predicting the classification of tweets into Formula 1 vs MotoGP related."
   ]
  },
  {
   "cell_type": "markdown",
   "id": "b6c859ab-3040-4438-b80c-474fd43a722e",
   "metadata": {},
   "source": [
    "#### Limitations/Suggested area for improvement\n",
    "\n"
   ]
  },
  {
   "cell_type": "markdown",
   "id": "110be0e6-609f-4ac8-8ea1-3b88a6f3f74f",
   "metadata": {},
   "source": [
    "Although our model performed very well, one key limitation is that Tweet length, word count, number of likes, number of retweets are all features which could vary greatly among individual users, hence performance during actual deployment may drop further.\n",
    "\n",
    "A potential area for improvement is to use tweets from individual users instead to train our model further. We could deploy our model to first predict the classification of these tweets from individual users, then cross validate manually to correct the errors in predictions. After that, we can feed the validated data into our model to refine it further. In this manner, the model will be trained using the same type of inputs we can expect when it is eventually deployed."
   ]
  }
 ],
 "metadata": {
  "kernelspec": {
   "display_name": "dsi-sg",
   "language": "python",
   "name": "dsi-sg"
  },
  "language_info": {
   "codemirror_mode": {
    "name": "ipython",
    "version": 3
   },
   "file_extension": ".py",
   "mimetype": "text/x-python",
   "name": "python",
   "nbconvert_exporter": "python",
   "pygments_lexer": "ipython3",
   "version": "3.9.13"
  }
 },
 "nbformat": 4,
 "nbformat_minor": 5
}

{
 "cells": [
  {
   "cell_type": "markdown",
   "id": "3529be22-528b-4ceb-8687-f9d77a04f022",
   "metadata": {},
   "source": [
    "<img src=\"http://imgur.com/1ZcRyrc.png\" style=\"float: left; margin: 20px; height: 55px\">\n",
    "\n",
    "# Project 3: Developing a classification model for Twitter topics (Formula 1 vs MotoGP)"
   ]
  },
  {
   "cell_type": "markdown",
   "id": "504be8f1-c98d-44e0-8d10-5d26baf8fb58",
   "metadata": {},
   "source": [
    "### Contents:\n",
    "- [Modeling and Evaluation (Naive Bayes)](#Modeling-and-Evaluation-(Naive-Bayes))"
   ]
  },
  {
   "cell_type": "markdown",
   "id": "e489f4a1-5703-42e0-a2fe-bb6f436b409f",
   "metadata": {},
   "source": [
    "## Modeling and Evaluation (Naive Bayes)"
   ]
  },
  {
   "cell_type": "markdown",
   "id": "5e0ed666-7d23-4637-ae67-9b1f27dc88d5",
   "metadata": {},
   "source": [
    "In this section we will build a Naive Bayes model, which derives the probability of an event occurring using Bayes' theorem. In this context, we are deriving the probability of a tweet having F1 related content.\n",
    "\n",
    "As we will be using individual text words as our features, we will use Multinomial Naive-Bayes instead of Gaussian Naive Bayes, which is more suited for modeling with continuous features.\n",
    "\n",
    "Naive Bayes also works under the assumption that the features in the data are independent of each other. Based on the top bigrams identified in our EDA, the tokenized words do not seem to be related to each other as the top bigrams were all individual words followed by 'https' which do not have meaning when placed together.\n",
    "\n",
    "We will adopt the following approach in our model building:\n",
    "\n",
    "1. Build a model (M1) using tweet as feature and evaluate the model.\n",
    "2. Build a model (M2)  using hashtag as feature and evaluate the model.\n",
    "3. If hashtag is overly dominant as a predictor, re-evaluate performance of M1 on tweets excluding hashtag/mentions.\n",
    "4. Try to improve M1 by incorporating other features such as tweet length, tweet word count, number of likes, and number of retweets.\n",
    "5. Determine best threshold to maximize recall and F1 scores.\n",
    "\n",
    "Rationale behind approach:\n",
    "As our data was scrapped from the official accounts of Formula 1 and MotoGP, 97% of tweets included hashtags to other official accounts such as the drivers or the constructor teams. However, our aim is to create a classifier that will recommend Formula 1 related tweets from anyone to users who have chosen to follow the topic of Formula 1. Individual users are less likely to include hashtags or mentions as they are not as strictly managed as official accounts. Hence, we want to make sure our model works sufficiently well for tweets that do not have any hashtag or mention. \n",
    "\n",
    "Since our aim is to accurately provide Formula 1 related tweets to the news feeds of interested users, we will be focusing on maximizing recall, so that we will capture as many of the actual related tweets as possible. However, we do not want our model to be predicting all tweets as Formula 1 related, which would give us 100% recall but also super low precision. Hence we will try to maximize recall while maintaining a good ROC AUC score, which reflects how well the model is able to separate the classes."
   ]
  },
  {
   "cell_type": "code",
   "execution_count": 1,
   "id": "f49f8f95-391a-465d-bb2b-163901f1cbed",
   "metadata": {
    "tags": []
   },
   "outputs": [],
   "source": [
    "# Import libraries\n",
    "import numpy as np\n",
    "import pandas as pd\n",
    "\n",
    "from sklearn.model_selection import train_test_split\n",
    "from sklearn.feature_extraction.text import CountVectorizer\n",
    "from sklearn.naive_bayes import MultinomialNB\n",
    "from sklearn.model_selection import GridSearchCV\n",
    "from sklearn.metrics import confusion_matrix, make_scorer, plot_confusion_matrix, accuracy_score, plot_roc_curve, roc_auc_score, recall_score, precision_score, f1_score\n",
    "\n",
    "import matplotlib.pyplot as plt\n",
    "import seaborn as sns"
   ]
  },
  {
   "cell_type": "code",
   "execution_count": 2,
   "id": "95dd7606-9bb1-4651-976b-577474c1bc3a",
   "metadata": {},
   "outputs": [
    {
     "data": {
      "text/html": [
       "<div>\n",
       "<style scoped>\n",
       "    .dataframe tbody tr th:only-of-type {\n",
       "        vertical-align: middle;\n",
       "    }\n",
       "\n",
       "    .dataframe tbody tr th {\n",
       "        vertical-align: top;\n",
       "    }\n",
       "\n",
       "    .dataframe thead th {\n",
       "        text-align: right;\n",
       "    }\n",
       "</style>\n",
       "<table border=\"1\" class=\"dataframe\">\n",
       "  <thead>\n",
       "    <tr style=\"text-align: right;\">\n",
       "      <th></th>\n",
       "      <th>tweet</th>\n",
       "      <th>text</th>\n",
       "      <th>hashtag</th>\n",
       "      <th>mention</th>\n",
       "      <th>username</th>\n",
       "      <th>like_count</th>\n",
       "      <th>retweet_count</th>\n",
       "      <th>tweet_length</th>\n",
       "      <th>tweet_word_count</th>\n",
       "    </tr>\n",
       "  </thead>\n",
       "  <tbody>\n",
       "    <tr>\n",
       "      <th>0</th>\n",
       "      <td>tension running high team principal group meet...</td>\n",
       "      <td>tension running high team principal group meet...</td>\n",
       "      <td>f1  drivetosurvive5</td>\n",
       "      <td>netflix</td>\n",
       "      <td>F1</td>\n",
       "      <td>22499</td>\n",
       "      <td>1637</td>\n",
       "      <td>181</td>\n",
       "      <td>27</td>\n",
       "    </tr>\n",
       "    <tr>\n",
       "      <th>1</th>\n",
       "      <td>striking pose , ft. glorious mullet followed @...</td>\n",
       "      <td>striking pose , ft. glorious mullet followed p...</td>\n",
       "      <td>f1</td>\n",
       "      <td>valtteribottas  alfaromeof1</td>\n",
       "      <td>F1</td>\n",
       "      <td>3553</td>\n",
       "      <td>291</td>\n",
       "      <td>243</td>\n",
       "      <td>45</td>\n",
       "    </tr>\n",
       "    <tr>\n",
       "      <th>2</th>\n",
       "      <td>fantasy price reveal create ultimate team ahea...</td>\n",
       "      <td>fantasy price reveal create ultimate team ahea...</td>\n",
       "      <td>f1  f1fantasy</td>\n",
       "      <td>NaN</td>\n",
       "      <td>F1</td>\n",
       "      <td>1527</td>\n",
       "      <td>146</td>\n",
       "      <td>132</td>\n",
       "      <td>23</td>\n",
       "    </tr>\n",
       "    <tr>\n",
       "      <th>3</th>\n",
       "      <td>almost time f1 fantasy restart ! tip get # f1f...</td>\n",
       "      <td>almost time f1 fantasy restart ! tip get team ...</td>\n",
       "      <td>f1fantasy  f1</td>\n",
       "      <td>NaN</td>\n",
       "      <td>F1</td>\n",
       "      <td>1215</td>\n",
       "      <td>210</td>\n",
       "      <td>164</td>\n",
       "      <td>30</td>\n",
       "    </tr>\n",
       "    <tr>\n",
       "      <th>4</th>\n",
       "      <td>put two together ! @ pierregasly good pal @ yu...</td>\n",
       "      <td>put two together ! good pal</td>\n",
       "      <td>f1</td>\n",
       "      <td>pierregasly  yukitsunoda07</td>\n",
       "      <td>F1</td>\n",
       "      <td>8125</td>\n",
       "      <td>785</td>\n",
       "      <td>114</td>\n",
       "      <td>16</td>\n",
       "    </tr>\n",
       "  </tbody>\n",
       "</table>\n",
       "</div>"
      ],
      "text/plain": [
       "                                               tweet  \\\n",
       "0  tension running high team principal group meet...   \n",
       "1  striking pose , ft. glorious mullet followed @...   \n",
       "2  fantasy price reveal create ultimate team ahea...   \n",
       "3  almost time f1 fantasy restart ! tip get # f1f...   \n",
       "4  put two together ! @ pierregasly good pal @ yu...   \n",
       "\n",
       "                                                text               hashtag  \\\n",
       "0  tension running high team principal group meet...  f1  drivetosurvive5    \n",
       "1  striking pose , ft. glorious mullet followed p...                   f1    \n",
       "2  fantasy price reveal create ultimate team ahea...         f1  f1fantasy   \n",
       "3  almost time f1 fantasy restart ! tip get team ...      f1fantasy  f1      \n",
       "4                        put two together ! good pal                   f1    \n",
       "\n",
       "                       mention username  like_count  retweet_count  \\\n",
       "0                     netflix        F1       22499           1637   \n",
       "1  valtteribottas  alfaromeof1       F1        3553            291   \n",
       "2                          NaN       F1        1527            146   \n",
       "3                          NaN       F1        1215            210   \n",
       "4  pierregasly  yukitsunoda07        F1        8125            785   \n",
       "\n",
       "   tweet_length  tweet_word_count  \n",
       "0           181                27  \n",
       "1           243                45  \n",
       "2           132                23  \n",
       "3           164                30  \n",
       "4           114                16  "
      ]
     },
     "execution_count": 2,
     "metadata": {},
     "output_type": "execute_result"
    }
   ],
   "source": [
    "# Read in file\n",
    "df = pd.read_csv(\"../data/train_data_cleaned.csv\")\n",
    "df.head()"
   ]
  },
  {
   "cell_type": "code",
   "execution_count": 3,
   "id": "3b03211f-edd8-4c1f-9a37-c16c5b70247e",
   "metadata": {},
   "outputs": [
    {
     "data": {
      "text/plain": [
       "0    11676\n",
       "1     8173\n",
       "Name: f1, dtype: int64"
      ]
     },
     "execution_count": 3,
     "metadata": {},
     "output_type": "execute_result"
    }
   ],
   "source": [
    "# Create outcome variable\n",
    "df['f1'] = df['username'].map({'F1':1, 'MotoGP':0})\n",
    "df['f1'].value_counts()"
   ]
  },
  {
   "cell_type": "markdown",
   "id": "1a55fae1-bb03-411d-b9ca-c0d6b701b865",
   "metadata": {},
   "source": [
    "### Naive-Bayes using tweet as feature"
   ]
  },
  {
   "cell_type": "code",
   "execution_count": 4,
   "id": "14db4633-e9af-442d-9030-b0074a4f6b1d",
   "metadata": {},
   "outputs": [
    {
     "data": {
      "text/plain": [
       "0    11672\n",
       "1     8147\n",
       "Name: f1, dtype: int64"
      ]
     },
     "execution_count": 4,
     "metadata": {},
     "output_type": "execute_result"
    }
   ],
   "source": [
    "# Select text feature\n",
    "df_tweet = df.dropna(subset=['tweet'])\n",
    "df_tweet['f1'].value_counts()"
   ]
  },
  {
   "cell_type": "code",
   "execution_count": 5,
   "id": "cf6722ea-9927-4a39-832a-6a09f78902b6",
   "metadata": {},
   "outputs": [],
   "source": [
    "# Train-test split for modeling\n",
    "X1 = df_tweet[['tweet','text','like_count','retweet_count','tweet_length','tweet_word_count']]\n",
    "y1 = df_tweet['f1']\n",
    "\n",
    "X1_train, X1_test, y1_train, y1_test = train_test_split(X1,\n",
    "                                                    y1,\n",
    "                                                    test_size=0.25,\n",
    "                                                    random_state=42,\n",
    "                                                    stratify=y1)"
   ]
  },
  {
   "cell_type": "code",
   "execution_count": 6,
   "id": "a8c7fb64-1d22-43d0-8684-67c41ffbb913",
   "metadata": {},
   "outputs": [],
   "source": [
    "# Instantiate CountVectorizer.\n",
    "cv = CountVectorizer(stop_words = 'english', min_df = 10)"
   ]
  },
  {
   "cell_type": "code",
   "execution_count": 7,
   "id": "86c2a5b8-d9cf-4f13-8c7c-9d8468719d7c",
   "metadata": {},
   "outputs": [
    {
     "name": "stderr",
     "output_type": "stream",
     "text": [
      "/opt/homebrew/Caskroom/miniconda/base/envs/dsi-sg/lib/python3.9/site-packages/sklearn/utils/deprecation.py:87: FutureWarning: Function get_feature_names is deprecated; get_feature_names is deprecated in 1.0 and will be removed in 1.2. Please use get_feature_names_out instead.\n",
      "  warnings.warn(msg, category=FutureWarning)\n"
     ]
    },
    {
     "data": {
      "text/html": [
       "<div>\n",
       "<style scoped>\n",
       "    .dataframe tbody tr th:only-of-type {\n",
       "        vertical-align: middle;\n",
       "    }\n",
       "\n",
       "    .dataframe tbody tr th {\n",
       "        vertical-align: top;\n",
       "    }\n",
       "\n",
       "    .dataframe thead th {\n",
       "        text-align: right;\n",
       "    }\n",
       "</style>\n",
       "<table border=\"1\" class=\"dataframe\">\n",
       "  <thead>\n",
       "    <tr style=\"text-align: right;\">\n",
       "      <th></th>\n",
       "      <th>00</th>\n",
       "      <th>10</th>\n",
       "      <th>100</th>\n",
       "      <th>10th</th>\n",
       "      <th>11</th>\n",
       "      <th>11th</th>\n",
       "      <th>12</th>\n",
       "      <th>12th</th>\n",
       "      <th>13</th>\n",
       "      <th>13th</th>\n",
       "      <th>...</th>\n",
       "      <th>young</th>\n",
       "      <th>youngest</th>\n",
       "      <th>youtube</th>\n",
       "      <th>yuki</th>\n",
       "      <th>yukitsunoda07</th>\n",
       "      <th>zandvoort</th>\n",
       "      <th>zarco</th>\n",
       "      <th>zhou</th>\n",
       "      <th>zhouguanyu24</th>\n",
       "      <th>zone</th>\n",
       "    </tr>\n",
       "  </thead>\n",
       "  <tbody>\n",
       "    <tr>\n",
       "      <th>0</th>\n",
       "      <td>0</td>\n",
       "      <td>0</td>\n",
       "      <td>0</td>\n",
       "      <td>0</td>\n",
       "      <td>0</td>\n",
       "      <td>0</td>\n",
       "      <td>0</td>\n",
       "      <td>0</td>\n",
       "      <td>0</td>\n",
       "      <td>0</td>\n",
       "      <td>...</td>\n",
       "      <td>0</td>\n",
       "      <td>0</td>\n",
       "      <td>0</td>\n",
       "      <td>0</td>\n",
       "      <td>0</td>\n",
       "      <td>0</td>\n",
       "      <td>0</td>\n",
       "      <td>0</td>\n",
       "      <td>0</td>\n",
       "      <td>0</td>\n",
       "    </tr>\n",
       "    <tr>\n",
       "      <th>1</th>\n",
       "      <td>0</td>\n",
       "      <td>0</td>\n",
       "      <td>0</td>\n",
       "      <td>0</td>\n",
       "      <td>0</td>\n",
       "      <td>0</td>\n",
       "      <td>0</td>\n",
       "      <td>0</td>\n",
       "      <td>0</td>\n",
       "      <td>0</td>\n",
       "      <td>...</td>\n",
       "      <td>0</td>\n",
       "      <td>0</td>\n",
       "      <td>0</td>\n",
       "      <td>0</td>\n",
       "      <td>0</td>\n",
       "      <td>0</td>\n",
       "      <td>0</td>\n",
       "      <td>0</td>\n",
       "      <td>0</td>\n",
       "      <td>0</td>\n",
       "    </tr>\n",
       "    <tr>\n",
       "      <th>2</th>\n",
       "      <td>0</td>\n",
       "      <td>0</td>\n",
       "      <td>0</td>\n",
       "      <td>0</td>\n",
       "      <td>0</td>\n",
       "      <td>0</td>\n",
       "      <td>0</td>\n",
       "      <td>0</td>\n",
       "      <td>0</td>\n",
       "      <td>0</td>\n",
       "      <td>...</td>\n",
       "      <td>0</td>\n",
       "      <td>0</td>\n",
       "      <td>0</td>\n",
       "      <td>0</td>\n",
       "      <td>0</td>\n",
       "      <td>0</td>\n",
       "      <td>0</td>\n",
       "      <td>0</td>\n",
       "      <td>0</td>\n",
       "      <td>0</td>\n",
       "    </tr>\n",
       "    <tr>\n",
       "      <th>3</th>\n",
       "      <td>0</td>\n",
       "      <td>0</td>\n",
       "      <td>0</td>\n",
       "      <td>0</td>\n",
       "      <td>0</td>\n",
       "      <td>0</td>\n",
       "      <td>0</td>\n",
       "      <td>0</td>\n",
       "      <td>0</td>\n",
       "      <td>0</td>\n",
       "      <td>...</td>\n",
       "      <td>0</td>\n",
       "      <td>0</td>\n",
       "      <td>0</td>\n",
       "      <td>0</td>\n",
       "      <td>0</td>\n",
       "      <td>0</td>\n",
       "      <td>0</td>\n",
       "      <td>0</td>\n",
       "      <td>0</td>\n",
       "      <td>0</td>\n",
       "    </tr>\n",
       "    <tr>\n",
       "      <th>4</th>\n",
       "      <td>0</td>\n",
       "      <td>0</td>\n",
       "      <td>0</td>\n",
       "      <td>0</td>\n",
       "      <td>0</td>\n",
       "      <td>0</td>\n",
       "      <td>0</td>\n",
       "      <td>0</td>\n",
       "      <td>0</td>\n",
       "      <td>0</td>\n",
       "      <td>...</td>\n",
       "      <td>0</td>\n",
       "      <td>0</td>\n",
       "      <td>0</td>\n",
       "      <td>0</td>\n",
       "      <td>0</td>\n",
       "      <td>0</td>\n",
       "      <td>0</td>\n",
       "      <td>0</td>\n",
       "      <td>0</td>\n",
       "      <td>0</td>\n",
       "    </tr>\n",
       "  </tbody>\n",
       "</table>\n",
       "<p>5 rows × 1956 columns</p>\n",
       "</div>"
      ],
      "text/plain": [
       "   00  10  100  10th  11  11th  12  12th  13  13th  ...  young  youngest  \\\n",
       "0   0   0    0     0   0     0   0     0   0     0  ...      0         0   \n",
       "1   0   0    0     0   0     0   0     0   0     0  ...      0         0   \n",
       "2   0   0    0     0   0     0   0     0   0     0  ...      0         0   \n",
       "3   0   0    0     0   0     0   0     0   0     0  ...      0         0   \n",
       "4   0   0    0     0   0     0   0     0   0     0  ...      0         0   \n",
       "\n",
       "   youtube  yuki  yukitsunoda07  zandvoort  zarco  zhou  zhouguanyu24  zone  \n",
       "0        0     0              0          0      0     0             0     0  \n",
       "1        0     0              0          0      0     0             0     0  \n",
       "2        0     0              0          0      0     0             0     0  \n",
       "3        0     0              0          0      0     0             0     0  \n",
       "4        0     0              0          0      0     0             0     0  \n",
       "\n",
       "[5 rows x 1956 columns]"
      ]
     },
     "execution_count": 7,
     "metadata": {},
     "output_type": "execute_result"
    }
   ],
   "source": [
    "# Fit our CountVectorizer on the training data and transform training data.\n",
    "X1_train_tweet_cv = pd.DataFrame(cv.fit_transform(X1_train['tweet']).todense(),\n",
    "                          columns = cv.get_feature_names())\n",
    "X1_train_tweet_cv.head()"
   ]
  },
  {
   "cell_type": "code",
   "execution_count": 8,
   "id": "8b3722b7-2a4b-4f9d-bd8d-5e5da87df795",
   "metadata": {},
   "outputs": [
    {
     "name": "stderr",
     "output_type": "stream",
     "text": [
      "/opt/homebrew/Caskroom/miniconda/base/envs/dsi-sg/lib/python3.9/site-packages/sklearn/utils/deprecation.py:87: FutureWarning: Function get_feature_names is deprecated; get_feature_names is deprecated in 1.0 and will be removed in 1.2. Please use get_feature_names_out instead.\n",
      "  warnings.warn(msg, category=FutureWarning)\n"
     ]
    }
   ],
   "source": [
    "# Transform our testing data with the already-fit CountVectorizer.\n",
    "X1_test_tweet_cv = pd.DataFrame(cv.transform(X1_test['tweet']).todense(),\n",
    "                         columns = cv.get_feature_names())"
   ]
  },
  {
   "cell_type": "code",
   "execution_count": 9,
   "id": "a7745952-5bcd-465c-8f64-a523ecf90734",
   "metadata": {},
   "outputs": [],
   "source": [
    "# Instantiate Naive-Bayes model\n",
    "nb = MultinomialNB()\n",
    "\n",
    "# Fit model\n",
    "M1 = nb.fit(X1_train_tweet_cv, y1_train)"
   ]
  },
  {
   "cell_type": "code",
   "execution_count": 10,
   "id": "4a5f4f1d-0b87-4ca2-a2e5-70f4dee2d7d9",
   "metadata": {},
   "outputs": [
    {
     "data": {
      "text/plain": [
       "0.9946178686759957"
      ]
     },
     "execution_count": 10,
     "metadata": {},
     "output_type": "execute_result"
    }
   ],
   "source": [
    "# Score model on the training set.\n",
    "M1.score(X1_train_tweet_cv, y1_train)"
   ]
  },
  {
   "cell_type": "code",
   "execution_count": 11,
   "id": "86e44437-ef6f-449a-83fc-cd0a9f0e7eb4",
   "metadata": {},
   "outputs": [],
   "source": [
    "# Create function to evaluate model based on accuracy, recall, precision, f1-score\n",
    "def evaluate_model(X_test,y_test,threshold,model):\n",
    "    \n",
    "    prob = model.predict_proba(X_test)\n",
    "    pred = (prob[:, 1] >= threshold).astype(int)\n",
    "    \n",
    "    #derive confusion matrix\n",
    "    cm = confusion_matrix(y_test,pred)\n",
    "    tn, fp, fn, tp = confusion_matrix(y_test, pred).ravel()\n",
    "    \n",
    "    # calculate accuracy\n",
    "    accuracy = (tn + tp) / (tn + fp + fn + tp)\n",
    "\n",
    "    # calculate recall\n",
    "    recall = tp / (tp + fn)\n",
    "\n",
    "    # calculate precision\n",
    "    precision = tp / (tp + fp)\n",
    "\n",
    "    # calculate F1 score\n",
    "    f1_score = 2 * (precision*recall) / (precision + recall)\n",
    "\n",
    "    plot_confusion_matrix(model, X_test, y_test, cmap='Blues', \n",
    "                      values_format='d', display_labels=['MotoGP', 'F1']);\n",
    "    print(\"Accuracy: {}\".format(accuracy))\n",
    "    print(\"Recall: {}\".format(recall))\n",
    "    print(\"Precision: {}\".format(precision))\n",
    "    print(\"F1 Score: {}\".format(f1_score))"
   ]
  },
  {
   "cell_type": "code",
   "execution_count": 12,
   "id": "324e433e-7bac-43e2-9f4e-539e203482c9",
   "metadata": {},
   "outputs": [
    {
     "name": "stdout",
     "output_type": "stream",
     "text": [
      "Accuracy: 0.9943491422805247\n",
      "Recall: 0.9916543937162494\n",
      "Precision: 0.9945839487936977\n",
      "F1 Score: 0.9931170108161258\n"
     ]
    },
    {
     "name": "stderr",
     "output_type": "stream",
     "text": [
      "/opt/homebrew/Caskroom/miniconda/base/envs/dsi-sg/lib/python3.9/site-packages/sklearn/utils/deprecation.py:87: FutureWarning: Function plot_confusion_matrix is deprecated; Function `plot_confusion_matrix` is deprecated in 1.0 and will be removed in 1.2. Use one of the class methods: ConfusionMatrixDisplay.from_predictions or ConfusionMatrixDisplay.from_estimator.\n",
      "  warnings.warn(msg, category=FutureWarning)\n"
     ]
    },
    {
     "data": {
      "image/png": "[encoded data removed]",
      "text/plain": [
       "<Figure size 640x480 with 2 Axes>"
      ]
     },
     "metadata": {},
     "output_type": "display_data"
    }
   ],
   "source": [
    "# Evaluate Model\n",
    "evaluate_model(X1_test_tweet_cv, y1_test, 0.5, M1)"
   ]
  },
  {
   "cell_type": "markdown",
   "id": "34d2483e-a32c-48a5-9807-f59f85011d51",
   "metadata": {},
   "source": [
    "#### M1 has high accuracy, recall, precision, and F1 score. Confusion matrix shows that there were very few Type I and II errors in the predictions."
   ]
  },
  {
   "cell_type": "markdown",
   "id": "131664fd-3195-48da-a6ea-99f2c627f8e6",
   "metadata": {
    "tags": []
   },
   "source": [
    "### Naive-Bayes using hashtag as feature"
   ]
  },
  {
   "cell_type": "code",
   "execution_count": 13,
   "id": "74a72f0c-392c-4f9c-9f13-26ce9fad7faa",
   "metadata": {},
   "outputs": [
    {
     "data": {
      "text/plain": [
       "0    11332\n",
       "1     7922\n",
       "Name: f1, dtype: int64"
      ]
     },
     "execution_count": 13,
     "metadata": {},
     "output_type": "execute_result"
    }
   ],
   "source": [
    "# Select text feature\n",
    "df_hashtag = df.dropna(subset=['hashtag'])\n",
    "df_hashtag['f1'].value_counts()"
   ]
  },
  {
   "cell_type": "code",
   "execution_count": 14,
   "id": "3640798e-1801-45e8-bd76-2faaecdb9917",
   "metadata": {},
   "outputs": [],
   "source": [
    "# Train-test split for modeling\n",
    "X2 = df_hashtag[['hashtag']]\n",
    "y2 = df_hashtag['f1']\n",
    "\n",
    "X2_train, X2_test, y2_train, y2_test = train_test_split(X2,\n",
    "                                                    y2,\n",
    "                                                    test_size=0.25,\n",
    "                                                    random_state=42,\n",
    "                                                    stratify=y2)"
   ]
  },
  {
   "cell_type": "code",
   "execution_count": 15,
   "id": "3d500fc5-b78f-4277-8e3a-dc895eca236f",
   "metadata": {},
   "outputs": [],
   "source": [
    "# Instantiate CountVectorizer.\n",
    "cv = CountVectorizer(stop_words = 'english', min_df = 10)"
   ]
  },
  {
   "cell_type": "code",
   "execution_count": 16,
   "id": "e9cb98fd-9048-4cd4-aacc-4829329171bd",
   "metadata": {},
   "outputs": [
    {
     "name": "stderr",
     "output_type": "stream",
     "text": [
      "/opt/homebrew/Caskroom/miniconda/base/envs/dsi-sg/lib/python3.9/site-packages/sklearn/utils/deprecation.py:87: FutureWarning: Function get_feature_names is deprecated; get_feature_names is deprecated in 1.0 and will be removed in 1.2. Please use get_feature_names_out instead.\n",
      "  warnings.warn(msg, category=FutureWarning)\n"
     ]
    }
   ],
   "source": [
    "# Fit our CountVectorizer on the training data and transform training data.\n",
    "X2_train_hashtag_cv = pd.DataFrame(cv.fit_transform(X2_train['hashtag']).todense(),\n",
    "                          columns = cv.get_feature_names())"
   ]
  },
  {
   "cell_type": "code",
   "execution_count": 17,
   "id": "f96c3a27-e808-48aa-8dd7-95a1a1139474",
   "metadata": {},
   "outputs": [
    {
     "name": "stderr",
     "output_type": "stream",
     "text": [
      "/opt/homebrew/Caskroom/miniconda/base/envs/dsi-sg/lib/python3.9/site-packages/sklearn/utils/deprecation.py:87: FutureWarning: Function get_feature_names is deprecated; get_feature_names is deprecated in 1.0 and will be removed in 1.2. Please use get_feature_names_out instead.\n",
      "  warnings.warn(msg, category=FutureWarning)\n"
     ]
    }
   ],
   "source": [
    "# Transform our testing data with the already-fit CountVectorizer.\n",
    "X2_test_hashtag_cv = pd.DataFrame(cv.transform(X2_test['hashtag']).todense(),\n",
    "                         columns = cv.get_feature_names())"
   ]
  },
  {
   "cell_type": "code",
   "execution_count": 18,
   "id": "6d1180a5-4a96-4b61-a16a-c039f48875cf",
   "metadata": {},
   "outputs": [],
   "source": [
    "# Instantiate Naive-Bayes model\n",
    "nb = MultinomialNB()\n",
    "\n",
    "# Fit model\n",
    "M2 = nb.fit(X2_train_hashtag_cv, y2_train)"
   ]
  },
  {
   "cell_type": "code",
   "execution_count": 19,
   "id": "e1b0fd0b-ac92-44c8-8db0-35563f83d054",
   "metadata": {},
   "outputs": [
    {
     "data": {
      "text/plain": [
       "0.9927285318559557"
      ]
     },
     "execution_count": 19,
     "metadata": {},
     "output_type": "execute_result"
    }
   ],
   "source": [
    "# Score model on the training set.\n",
    "M2.score(X2_train_hashtag_cv, y2_train)"
   ]
  },
  {
   "cell_type": "code",
   "execution_count": 20,
   "id": "969091ee-86a7-4c05-bcc7-8a8fdf008d7a",
   "metadata": {},
   "outputs": [
    {
     "data": {
      "text/plain": [
       "0.9933527212297466"
      ]
     },
     "execution_count": 20,
     "metadata": {},
     "output_type": "execute_result"
    }
   ],
   "source": [
    "# Score model on the testing set.\n",
    "M2.score(X2_test_hashtag_cv, y2_test)"
   ]
  },
  {
   "cell_type": "code",
   "execution_count": 21,
   "id": "c241d205-30e2-4e73-9802-e718dc98bc59",
   "metadata": {},
   "outputs": [
    {
     "name": "stderr",
     "output_type": "stream",
     "text": [
      "/opt/homebrew/Caskroom/miniconda/base/envs/dsi-sg/lib/python3.9/site-packages/sklearn/utils/deprecation.py:87: FutureWarning: Function plot_confusion_matrix is deprecated; Function `plot_confusion_matrix` is deprecated in 1.0 and will be removed in 1.2. Use one of the class methods: ConfusionMatrixDisplay.from_predictions or ConfusionMatrixDisplay.from_estimator.\n",
      "  warnings.warn(msg, category=FutureWarning)\n"
     ]
    },
    {
     "name": "stdout",
     "output_type": "stream",
     "text": [
      "Accuracy: 0.9933527212297466\n",
      "Recall: 0.9838465421504291\n",
      "Precision: 1.0\n",
      "F1 Score: 0.9918575063613231\n"
     ]
    },
    {
     "data": {
      "image/png": "[encoded data removed]",
      "text/plain": [
       "<Figure size 640x480 with 2 Axes>"
      ]
     },
     "metadata": {},
     "output_type": "display_data"
    }
   ],
   "source": [
    "# Evaluate Model\n",
    "evaluate_model(X2_test_hashtag_cv, y2_test, 0.5, M2)"
   ]
  },
  {
   "cell_type": "markdown",
   "id": "1581eb9b-9347-4463-ad9f-eb5b8f12997a",
   "metadata": {},
   "source": [
    "#### Similar to M1, M2 has high accuracy, recall, precision, and F1 score. Confusion matrix shows that there were zero Type 1 error and very few Type II errors in the predictions. This implies that the performance of M1 could have been greatly influenced by hashtags, which might hinder its performance for tweets without hashtags."
   ]
  },
  {
   "cell_type": "markdown",
   "id": "bd7855e1-3f3f-4cf5-b7fd-f17ca47e3d82",
   "metadata": {
    "tags": []
   },
   "source": [
    "### Evaluate M1 on text-only tweets"
   ]
  },
  {
   "cell_type": "code",
   "execution_count": 22,
   "id": "1d7fc888-b6a7-49c8-adbf-14f1c739783b",
   "metadata": {},
   "outputs": [
    {
     "data": {
      "text/plain": [
       "(4943, 2)"
      ]
     },
     "execution_count": 22,
     "metadata": {},
     "output_type": "execute_result"
    }
   ],
   "source": [
    "# Select text feature\n",
    "df_text = pd.DataFrame({'text': X1_test['text'], 'f1':y1_test})\n",
    "df_text = df_text.dropna(subset='text')\n",
    "df_text.shape"
   ]
  },
  {
   "cell_type": "code",
   "execution_count": 23,
   "id": "876c9ddb-0342-4716-bbbc-67a81c4a5534",
   "metadata": {},
   "outputs": [],
   "source": [
    "# Instantiate CountVectorizer.\n",
    "cv = CountVectorizer(stop_words = 'english', min_df = 10)"
   ]
  },
  {
   "cell_type": "code",
   "execution_count": 24,
   "id": "e5eb3f22-dfc2-450b-86f7-cde361786622",
   "metadata": {},
   "outputs": [
    {
     "name": "stderr",
     "output_type": "stream",
     "text": [
      "/opt/homebrew/Caskroom/miniconda/base/envs/dsi-sg/lib/python3.9/site-packages/sklearn/utils/deprecation.py:87: FutureWarning: Function get_feature_names is deprecated; get_feature_names is deprecated in 1.0 and will be removed in 1.2. Please use get_feature_names_out instead.\n",
      "  warnings.warn(msg, category=FutureWarning)\n"
     ]
    }
   ],
   "source": [
    "# Fit our CountVectorizer on the training data and transform training data.\n",
    "X1_train_tweet_cv = pd.DataFrame(cv.fit_transform(X1_train['tweet']).todense(),\n",
    "                          columns = cv.get_feature_names())"
   ]
  },
  {
   "cell_type": "code",
   "execution_count": 25,
   "id": "3b32c5eb-961f-4485-a4b3-ba6cd062d15a",
   "metadata": {},
   "outputs": [
    {
     "data": {
      "text/html": [
       "<div>\n",
       "<style scoped>\n",
       "    .dataframe tbody tr th:only-of-type {\n",
       "        vertical-align: middle;\n",
       "    }\n",
       "\n",
       "    .dataframe tbody tr th {\n",
       "        vertical-align: top;\n",
       "    }\n",
       "\n",
       "    .dataframe thead th {\n",
       "        text-align: right;\n",
       "    }\n",
       "</style>\n",
       "<table border=\"1\" class=\"dataframe\">\n",
       "  <thead>\n",
       "    <tr style=\"text-align: right;\">\n",
       "      <th></th>\n",
       "      <th>00</th>\n",
       "      <th>10</th>\n",
       "      <th>100</th>\n",
       "      <th>10th</th>\n",
       "      <th>11</th>\n",
       "      <th>11th</th>\n",
       "      <th>12</th>\n",
       "      <th>12th</th>\n",
       "      <th>13</th>\n",
       "      <th>13th</th>\n",
       "      <th>...</th>\n",
       "      <th>young</th>\n",
       "      <th>youngest</th>\n",
       "      <th>youtube</th>\n",
       "      <th>yuki</th>\n",
       "      <th>yukitsunoda07</th>\n",
       "      <th>zandvoort</th>\n",
       "      <th>zarco</th>\n",
       "      <th>zhou</th>\n",
       "      <th>zhouguanyu24</th>\n",
       "      <th>zone</th>\n",
       "    </tr>\n",
       "  </thead>\n",
       "  <tbody>\n",
       "    <tr>\n",
       "      <th>0</th>\n",
       "      <td>0</td>\n",
       "      <td>0</td>\n",
       "      <td>0</td>\n",
       "      <td>0</td>\n",
       "      <td>0</td>\n",
       "      <td>0</td>\n",
       "      <td>0</td>\n",
       "      <td>0</td>\n",
       "      <td>0</td>\n",
       "      <td>0</td>\n",
       "      <td>...</td>\n",
       "      <td>0</td>\n",
       "      <td>0</td>\n",
       "      <td>0</td>\n",
       "      <td>0</td>\n",
       "      <td>0</td>\n",
       "      <td>0</td>\n",
       "      <td>0</td>\n",
       "      <td>0</td>\n",
       "      <td>0</td>\n",
       "      <td>0</td>\n",
       "    </tr>\n",
       "    <tr>\n",
       "      <th>1</th>\n",
       "      <td>0</td>\n",
       "      <td>0</td>\n",
       "      <td>0</td>\n",
       "      <td>0</td>\n",
       "      <td>0</td>\n",
       "      <td>0</td>\n",
       "      <td>0</td>\n",
       "      <td>0</td>\n",
       "      <td>0</td>\n",
       "      <td>0</td>\n",
       "      <td>...</td>\n",
       "      <td>0</td>\n",
       "      <td>0</td>\n",
       "      <td>0</td>\n",
       "      <td>0</td>\n",
       "      <td>0</td>\n",
       "      <td>0</td>\n",
       "      <td>0</td>\n",
       "      <td>0</td>\n",
       "      <td>0</td>\n",
       "      <td>0</td>\n",
       "    </tr>\n",
       "    <tr>\n",
       "      <th>2</th>\n",
       "      <td>0</td>\n",
       "      <td>0</td>\n",
       "      <td>0</td>\n",
       "      <td>0</td>\n",
       "      <td>0</td>\n",
       "      <td>0</td>\n",
       "      <td>0</td>\n",
       "      <td>0</td>\n",
       "      <td>0</td>\n",
       "      <td>0</td>\n",
       "      <td>...</td>\n",
       "      <td>0</td>\n",
       "      <td>0</td>\n",
       "      <td>0</td>\n",
       "      <td>0</td>\n",
       "      <td>0</td>\n",
       "      <td>0</td>\n",
       "      <td>0</td>\n",
       "      <td>0</td>\n",
       "      <td>0</td>\n",
       "      <td>0</td>\n",
       "    </tr>\n",
       "    <tr>\n",
       "      <th>3</th>\n",
       "      <td>0</td>\n",
       "      <td>0</td>\n",
       "      <td>0</td>\n",
       "      <td>0</td>\n",
       "      <td>0</td>\n",
       "      <td>0</td>\n",
       "      <td>0</td>\n",
       "      <td>0</td>\n",
       "      <td>0</td>\n",
       "      <td>0</td>\n",
       "      <td>...</td>\n",
       "      <td>0</td>\n",
       "      <td>0</td>\n",
       "      <td>0</td>\n",
       "      <td>0</td>\n",
       "      <td>0</td>\n",
       "      <td>0</td>\n",
       "      <td>0</td>\n",
       "      <td>0</td>\n",
       "      <td>0</td>\n",
       "      <td>0</td>\n",
       "    </tr>\n",
       "    <tr>\n",
       "      <th>4</th>\n",
       "      <td>0</td>\n",
       "      <td>0</td>\n",
       "      <td>0</td>\n",
       "      <td>0</td>\n",
       "      <td>0</td>\n",
       "      <td>0</td>\n",
       "      <td>0</td>\n",
       "      <td>0</td>\n",
       "      <td>0</td>\n",
       "      <td>0</td>\n",
       "      <td>...</td>\n",
       "      <td>0</td>\n",
       "      <td>0</td>\n",
       "      <td>0</td>\n",
       "      <td>0</td>\n",
       "      <td>0</td>\n",
       "      <td>0</td>\n",
       "      <td>0</td>\n",
       "      <td>0</td>\n",
       "      <td>0</td>\n",
       "      <td>0</td>\n",
       "    </tr>\n",
       "  </tbody>\n",
       "</table>\n",
       "<p>5 rows × 1956 columns</p>\n",
       "</div>"
      ],
      "text/plain": [
       "   00  10  100  10th  11  11th  12  12th  13  13th  ...  young  youngest  \\\n",
       "0   0   0    0     0   0     0   0     0   0     0  ...      0         0   \n",
       "1   0   0    0     0   0     0   0     0   0     0  ...      0         0   \n",
       "2   0   0    0     0   0     0   0     0   0     0  ...      0         0   \n",
       "3   0   0    0     0   0     0   0     0   0     0  ...      0         0   \n",
       "4   0   0    0     0   0     0   0     0   0     0  ...      0         0   \n",
       "\n",
       "   youtube  yuki  yukitsunoda07  zandvoort  zarco  zhou  zhouguanyu24  zone  \n",
       "0        0     0              0          0      0     0             0     0  \n",
       "1        0     0              0          0      0     0             0     0  \n",
       "2        0     0              0          0      0     0             0     0  \n",
       "3        0     0              0          0      0     0             0     0  \n",
       "4        0     0              0          0      0     0             0     0  \n",
       "\n",
       "[5 rows x 1956 columns]"
      ]
     },
     "execution_count": 25,
     "metadata": {},
     "output_type": "execute_result"
    }
   ],
   "source": [
    "X1_train_tweet_cv.head()"
   ]
  },
  {
   "cell_type": "code",
   "execution_count": 26,
   "id": "93fca903-194a-4eaa-8f35-084bba19f847",
   "metadata": {},
   "outputs": [
    {
     "name": "stderr",
     "output_type": "stream",
     "text": [
      "/opt/homebrew/Caskroom/miniconda/base/envs/dsi-sg/lib/python3.9/site-packages/sklearn/utils/deprecation.py:87: FutureWarning: Function get_feature_names is deprecated; get_feature_names is deprecated in 1.0 and will be removed in 1.2. Please use get_feature_names_out instead.\n",
      "  warnings.warn(msg, category=FutureWarning)\n"
     ]
    }
   ],
   "source": [
    "# Transform our testing data with the already-fit CountVectorizer.\n",
    "X1_test_text_cv = pd.DataFrame(cv.transform(df_text['text']).todense(),\n",
    "                         columns = cv.get_feature_names())"
   ]
  },
  {
   "cell_type": "code",
   "execution_count": 27,
   "id": "15c53041-016b-41fe-847c-f3dcb4247fe1",
   "metadata": {},
   "outputs": [],
   "source": [
    "# Create target variable\n",
    "y1_test_text = df_text['f1']"
   ]
  },
  {
   "cell_type": "code",
   "execution_count": 28,
   "id": "c0c2b43b-ba4b-48ac-a838-4cf0ca418baa",
   "metadata": {},
   "outputs": [
    {
     "data": {
      "text/plain": [
       "0.9946178686759957"
      ]
     },
     "execution_count": 28,
     "metadata": {},
     "output_type": "execute_result"
    }
   ],
   "source": [
    "# Score model on the training set.\n",
    "M1.score(X1_train_tweet_cv, y1_train)"
   ]
  },
  {
   "cell_type": "code",
   "execution_count": 29,
   "id": "6a52ec5a-c306-4241-8f62-812dcf366df2",
   "metadata": {},
   "outputs": [
    {
     "name": "stderr",
     "output_type": "stream",
     "text": [
      "/opt/homebrew/Caskroom/miniconda/base/envs/dsi-sg/lib/python3.9/site-packages/sklearn/utils/deprecation.py:87: FutureWarning: Function plot_confusion_matrix is deprecated; Function `plot_confusion_matrix` is deprecated in 1.0 and will be removed in 1.2. Use one of the class methods: ConfusionMatrixDisplay.from_predictions or ConfusionMatrixDisplay.from_estimator.\n",
      "  warnings.warn(msg, category=FutureWarning)\n"
     ]
    },
    {
     "name": "stdout",
     "output_type": "stream",
     "text": [
      "Accuracy: 0.8834715759660126\n",
      "Recall: 0.7942772570300938\n",
      "Precision: 0.9101187111362352\n",
      "F1 Score: 0.8482613277133826\n"
     ]
    },
    {
     "data": {
      "image/png": "[encoded data removed]",
      "text/plain": [
       "<Figure size 640x480 with 2 Axes>"
      ]
     },
     "metadata": {},
     "output_type": "display_data"
    }
   ],
   "source": [
    "evaluate_model(X1_test_text_cv, y1_test_text, 0.5, M1)"
   ]
  },
  {
   "cell_type": "markdown",
   "id": "eb64a7a6-c47e-4a70-9030-0f5b85b15e6e",
   "metadata": {
    "tags": []
   },
   "source": [
    "#### M1 performance dropped when applied to text-only tweets, with accuracy dropping from 99% to 88%. Recall rates also dropped form 99% to 78%. We will try to improve M1's performance on text-only tweets by incorporating additional features."
   ]
  },
  {
   "cell_type": "markdown",
   "id": "d1107d9a-1b5e-4038-9861-e797082bd4a1",
   "metadata": {
    "tags": []
   },
   "source": [
    "### Retraining M1 with additional features"
   ]
  },
  {
   "cell_type": "code",
   "execution_count": 30,
   "id": "22663329-7e30-4b4d-ab24-582782cc56c4",
   "metadata": {},
   "outputs": [
    {
     "data": {
      "text/plain": [
       "(14864, 4)"
      ]
     },
     "execution_count": 30,
     "metadata": {},
     "output_type": "execute_result"
    }
   ],
   "source": [
    "# Separate non-text features on training set\n",
    "X1_train_add = X1_train.drop(columns=['tweet','text'])\n",
    "X1_train_add.shape"
   ]
  },
  {
   "cell_type": "code",
   "execution_count": 31,
   "id": "e0a19a8d-5e98-439b-a184-6ffd31cdbcba",
   "metadata": {},
   "outputs": [
    {
     "data": {
      "text/plain": [
       "<14864x1956 sparse matrix of type '<class 'numpy.int64'>'\n",
       "\twith 128170 stored elements in Compressed Sparse Row format>"
      ]
     },
     "execution_count": 31,
     "metadata": {},
     "output_type": "execute_result"
    }
   ],
   "source": [
    "# Tokenize text features on training set\n",
    "\n",
    "# Instantiate CountVectorizer.\n",
    "cv = CountVectorizer(stop_words = 'english', min_df = 10)\n",
    "X1_tweet = cv.fit_transform(X1_train['tweet'])\n",
    "X1_tweet"
   ]
  },
  {
   "cell_type": "code",
   "execution_count": 32,
   "id": "64809a34-03fd-4636-9ef3-f6ebc5107beb",
   "metadata": {},
   "outputs": [
    {
     "data": {
      "text/plain": [
       "array([[  0,   0,   0, ...,  32, 179,  29],\n",
       "       [  0,   0,   0, ...,  67, 123,  24],\n",
       "       [  0,   0,   0, ..., 313, 131,  18],\n",
       "       ...,\n",
       "       [  0,   0,   0, ...,  19, 175,  27],\n",
       "       [  0,   0,   0, ..., 507,  67,  10],\n",
       "       [  0,   0,   0, ..., 119, 111,  14]])"
      ]
     },
     "execution_count": 32,
     "metadata": {},
     "output_type": "execute_result"
    }
   ],
   "source": [
    "# Combine all features for training set\n",
    "X1_train_all = np.column_stack((X1_tweet.toarray(),X1_train_add))\n",
    "X1_train_all"
   ]
  },
  {
   "cell_type": "code",
   "execution_count": 33,
   "id": "bcfb2012-b9a4-42bb-a6f1-1af4b07d81a3",
   "metadata": {},
   "outputs": [
    {
     "data": {
      "text/plain": [
       "(4943, 4)"
      ]
     },
     "execution_count": 33,
     "metadata": {},
     "output_type": "execute_result"
    }
   ],
   "source": [
    "# Separate non-text features on testing set\n",
    "X1_test_add = X1_test.dropna()\n",
    "X1_test_add = X1_test_add.drop(columns=['tweet','text'])\n",
    "X1_test_add.shape"
   ]
  },
  {
   "cell_type": "code",
   "execution_count": 34,
   "id": "df302912-c233-4d34-8331-b513338f31a5",
   "metadata": {},
   "outputs": [
    {
     "data": {
      "text/plain": [
       "<4943x1956 sparse matrix of type '<class 'numpy.int64'>'\n",
       "\twith 31528 stored elements in Compressed Sparse Row format>"
      ]
     },
     "execution_count": 34,
     "metadata": {},
     "output_type": "execute_result"
    }
   ],
   "source": [
    "# Tokenize text features on testing set\n",
    "X1_text = cv.transform(df_text['text'])\n",
    "X1_text"
   ]
  },
  {
   "cell_type": "code",
   "execution_count": 35,
   "id": "ebb7f297-cd84-4217-b6d1-09b38d64ba05",
   "metadata": {},
   "outputs": [
    {
     "data": {
      "text/plain": [
       "array([[  0,   0,   0, ...,  51,  59,   8],\n",
       "       [  0,   0,   0, ...,  81, 156,  26],\n",
       "       [  0,   0,   0, ..., 102,  87,  13],\n",
       "       ...,\n",
       "       [  0,   0,   0, ..., 172, 204,  23],\n",
       "       [  0,   0,   0, ...,  20,  91,  13],\n",
       "       [  0,   0,   0, ...,  30, 189,  30]])"
      ]
     },
     "execution_count": 35,
     "metadata": {},
     "output_type": "execute_result"
    }
   ],
   "source": [
    "# Combine all features for testing set\n",
    "X1_test_all = np.column_stack((X1_text.toarray(),X1_test_add))\n",
    "X1_test_all"
   ]
  },
  {
   "cell_type": "code",
   "execution_count": 36,
   "id": "96a7b9aa-8144-4562-9628-a0dc82f93014",
   "metadata": {},
   "outputs": [],
   "source": [
    "# Instantiate Naive-Bayes model\n",
    "nb = MultinomialNB()\n",
    "\n",
    "# Fit model\n",
    "M3 = nb.fit(X1_train_all, y1_train)"
   ]
  },
  {
   "cell_type": "code",
   "execution_count": 37,
   "id": "32970293-3666-4fc6-834d-2b7f37d9f8d8",
   "metadata": {},
   "outputs": [
    {
     "data": {
      "text/plain": [
       "0.9120694294940797"
      ]
     },
     "execution_count": 37,
     "metadata": {},
     "output_type": "execute_result"
    }
   ],
   "source": [
    "# Score model on the training set.\n",
    "M3.score(X1_train_all, y1_train)"
   ]
  },
  {
   "cell_type": "code",
   "execution_count": 38,
   "id": "ba05a893-0b24-4889-95ae-d1f22f4f552e",
   "metadata": {},
   "outputs": [
    {
     "name": "stdout",
     "output_type": "stream",
     "text": [
      "Accuracy: 0.9158405826421202\n",
      "Recall: 0.8751850024666995\n",
      "Precision: 0.9158492514197212\n",
      "F1 Score: 0.8950554994954592\n"
     ]
    },
    {
     "name": "stderr",
     "output_type": "stream",
     "text": [
      "/opt/homebrew/Caskroom/miniconda/base/envs/dsi-sg/lib/python3.9/site-packages/sklearn/utils/deprecation.py:87: FutureWarning: Function plot_confusion_matrix is deprecated; Function `plot_confusion_matrix` is deprecated in 1.0 and will be removed in 1.2. Use one of the class methods: ConfusionMatrixDisplay.from_predictions or ConfusionMatrixDisplay.from_estimator.\n",
      "  warnings.warn(msg, category=FutureWarning)\n"
     ]
    },
    {
     "data": {
      "image/png": "[encoded data removed]",
      "text/plain": [
       "<Figure size 640x480 with 2 Axes>"
      ]
     },
     "metadata": {},
     "output_type": "display_data"
    }
   ],
   "source": [
    "# Evaluate model\n",
    "evaluate_model(X1_test_all, y1_test_text, 0.5, M3)"
   ]
  },
  {
   "cell_type": "markdown",
   "id": "250a5fef-0074-41d8-acf2-f39008dc3be2",
   "metadata": {},
   "source": [
    "#### After incorporating additional features, model performance improved again. M3's accuracy increased to 91% on text-only tweets and recall increased to 87%, compared to 88% and 79% respectively for M1."
   ]
  },
  {
   "cell_type": "markdown",
   "id": "aa3f3c03-c5d5-4f5a-9501-46a8d995ed4e",
   "metadata": {},
   "source": [
    "### Evaluate M3 on tweets"
   ]
  },
  {
   "cell_type": "code",
   "execution_count": 39,
   "id": "95583229-ff44-4a07-ba59-f9b5b8782099",
   "metadata": {},
   "outputs": [
    {
     "data": {
      "text/plain": [
       "(4955, 4)"
      ]
     },
     "execution_count": 39,
     "metadata": {},
     "output_type": "execute_result"
    }
   ],
   "source": [
    "# Separate non-text features\n",
    "X1_test_add_tweet = X1_test.drop(columns=['tweet','text'])\n",
    "X1_test_add_tweet.shape"
   ]
  },
  {
   "cell_type": "code",
   "execution_count": 40,
   "id": "c271e2fb-9a22-4d66-94a4-b7e9f46ae8cf",
   "metadata": {},
   "outputs": [
    {
     "data": {
      "text/plain": [
       "<4955x1956 sparse matrix of type '<class 'numpy.int64'>'\n",
       "\twith 42677 stored elements in Compressed Sparse Row format>"
      ]
     },
     "execution_count": 40,
     "metadata": {},
     "output_type": "execute_result"
    }
   ],
   "source": [
    "# Tokenize text features\n",
    "X1_test_tweet = cv.transform(X1_test['tweet'])\n",
    "X1_test_tweet"
   ]
  },
  {
   "cell_type": "code",
   "execution_count": 41,
   "id": "69542f27-0a36-42df-bcec-d07923f73165",
   "metadata": {},
   "outputs": [
    {
     "data": {
      "text/plain": [
       "array([[  0,   0,   0, ...,  51,  59,   8],\n",
       "       [  0,   0,   0, ...,  81, 156,  26],\n",
       "       [  0,   0,   0, ..., 102,  87,  13],\n",
       "       ...,\n",
       "       [  0,   0,   0, ..., 172, 204,  23],\n",
       "       [  0,   0,   0, ...,  20,  91,  13],\n",
       "       [  0,   0,   0, ...,  30, 189,  30]])"
      ]
     },
     "execution_count": 41,
     "metadata": {},
     "output_type": "execute_result"
    }
   ],
   "source": [
    "# Combine all features\n",
    "X1_test_all_tweet = np.column_stack((X1_test_tweet.toarray(),X1_test_add_tweet))\n",
    "X1_test_all_tweet"
   ]
  },
  {
   "cell_type": "code",
   "execution_count": 42,
   "id": "0e2cbb91-b2f1-4e5d-9f47-7621a4d63e26",
   "metadata": {},
   "outputs": [
    {
     "name": "stderr",
     "output_type": "stream",
     "text": [
      "/opt/homebrew/Caskroom/miniconda/base/envs/dsi-sg/lib/python3.9/site-packages/sklearn/utils/deprecation.py:87: FutureWarning: Function plot_confusion_matrix is deprecated; Function `plot_confusion_matrix` is deprecated in 1.0 and will be removed in 1.2. Use one of the class methods: ConfusionMatrixDisplay.from_predictions or ConfusionMatrixDisplay.from_estimator.\n",
      "  warnings.warn(msg, category=FutureWarning)\n"
     ]
    },
    {
     "name": "stdout",
     "output_type": "stream",
     "text": [
      "Accuracy: 0.9186680121089809\n",
      "Recall: 0.8792341678939617\n",
      "Precision: 0.9194045174537988\n",
      "F1 Score: 0.898870765370138\n"
     ]
    },
    {
     "data": {
      "image/png": "[encoded data removed]",
      "text/plain": [
       "<Figure size 640x480 with 2 Axes>"
      ]
     },
     "metadata": {},
     "output_type": "display_data"
    }
   ],
   "source": [
    "# Evaluate model\n",
    "evaluate_model(X1_test_all_tweet, y1_test, 0.5, M3)"
   ]
  },
  {
   "cell_type": "markdown",
   "id": "1446afb9-82e2-408d-b40a-7b3ce3ec1007",
   "metadata": {},
   "source": [
    "M3 showed accuracy of 92% and recall rate of 88% on tweets, which is still high, although lower than M1."
   ]
  },
  {
   "cell_type": "markdown",
   "id": "42798645-d95f-4251-b6c3-592b75ab69ef",
   "metadata": {},
   "source": [
    "#### Checking ROC AUC for text-only tweet prediction"
   ]
  },
  {
   "cell_type": "code",
   "execution_count": 43,
   "id": "65ed72ef-6621-4120-90d4-b65337b05f4c",
   "metadata": {},
   "outputs": [
    {
     "data": {
      "text/plain": [
       "array([[1.00000000e+000, 7.98185007e-037],\n",
       "       [1.00000000e+000, 7.05699844e-060],\n",
       "       [1.44137638e-185, 1.00000000e+000],\n",
       "       ...,\n",
       "       [6.63303565e-080, 1.00000000e+000],\n",
       "       [1.00000000e+000, 8.60387783e-113],\n",
       "       [1.00000000e+000, 1.89871076e-249]])"
      ]
     },
     "execution_count": 43,
     "metadata": {},
     "output_type": "execute_result"
    }
   ],
   "source": [
    "prob_text=M3.predict_proba(X1_test_all)\n",
    "prob_text"
   ]
  },
  {
   "cell_type": "code",
   "execution_count": 44,
   "id": "e2ad3310-eef3-46d6-8240-1d9054decf71",
   "metadata": {},
   "outputs": [
    {
     "data": {
      "text/html": [
       "<div>\n",
       "<style scoped>\n",
       "    .dataframe tbody tr th:only-of-type {\n",
       "        vertical-align: middle;\n",
       "    }\n",
       "\n",
       "    .dataframe tbody tr th {\n",
       "        vertical-align: top;\n",
       "    }\n",
       "\n",
       "    .dataframe thead th {\n",
       "        text-align: right;\n",
       "    }\n",
       "</style>\n",
       "<table border=\"1\" class=\"dataframe\">\n",
       "  <thead>\n",
       "    <tr style=\"text-align: right;\">\n",
       "      <th></th>\n",
       "      <th>f1</th>\n",
       "      <th>prob</th>\n",
       "    </tr>\n",
       "  </thead>\n",
       "  <tbody>\n",
       "    <tr>\n",
       "      <th>13367</th>\n",
       "      <td>0</td>\n",
       "      <td>7.981850e-37</td>\n",
       "    </tr>\n",
       "    <tr>\n",
       "      <th>2422</th>\n",
       "      <td>1</td>\n",
       "      <td>7.056998e-60</td>\n",
       "    </tr>\n",
       "    <tr>\n",
       "      <th>3546</th>\n",
       "      <td>1</td>\n",
       "      <td>1.000000e+00</td>\n",
       "    </tr>\n",
       "    <tr>\n",
       "      <th>5260</th>\n",
       "      <td>1</td>\n",
       "      <td>1.000000e+00</td>\n",
       "    </tr>\n",
       "    <tr>\n",
       "      <th>7152</th>\n",
       "      <td>1</td>\n",
       "      <td>1.000000e+00</td>\n",
       "    </tr>\n",
       "  </tbody>\n",
       "</table>\n",
       "</div>"
      ],
      "text/plain": [
       "       f1          prob\n",
       "13367   0  7.981850e-37\n",
       "2422    1  7.056998e-60\n",
       "3546    1  1.000000e+00\n",
       "5260    1  1.000000e+00\n",
       "7152    1  1.000000e+00"
      ]
     },
     "execution_count": 44,
     "metadata": {},
     "output_type": "execute_result"
    }
   ],
   "source": [
    "df_test_text=pd.DataFrame({'f1': y1_test_text, 'prob': prob_text[:,1]})\n",
    "df_test_text.head()"
   ]
  },
  {
   "cell_type": "code",
   "execution_count": 45,
   "id": "5a9407d0-15ee-4ef4-bddd-7c8d3d667ca1",
   "metadata": {},
   "outputs": [
    {
     "name": "stderr",
     "output_type": "stream",
     "text": [
      "/var/folders/3n/fkv2x4vs6_jc1rvhs53fssxr0000gn/T/ipykernel_2071/3692339015.py:5: UserWarning: \n",
      "\n",
      "`distplot` is a deprecated function and will be removed in seaborn v0.14.0.\n",
      "\n",
      "Please adapt your code to use either `displot` (a figure-level function with\n",
      "similar flexibility) or `histplot` (an axes-level function for histograms).\n",
      "\n",
      "For a guide to updating your code to use the new functions, please see\n",
      "https://gist.github.com/mwaskom/de44147ed2974457ad6372750bbe5751\n",
      "\n",
      "  sns.distplot(group[1], kde = False, bins = 20, label = f'Actual Outcome = {group[0]}')\n"
     ]
    },
    {
     "data": {
      "text/plain": [
       "Text(0.5, 1.0, 'Probabilities vs Actual Outcome')"
      ]
     },
     "execution_count": 45,
     "metadata": {},
     "output_type": "execute_result"
    },
    {
     "data": {
      "image/png": "[encoded data removed]",
      "text/plain": [
       "<Figure size 1200x500 with 1 Axes>"
      ]
     },
     "metadata": {},
     "output_type": "display_data"
    }
   ],
   "source": [
    "plt.figure(figsize = (12, 5))\n",
    "\n",
    "# plot distributions of predicted probabilities by actual values\n",
    "for group in df_test_text.groupby('f1'):\n",
    "    sns.distplot(group[1], kde = False, bins = 20, label = f'Actual Outcome = {group[0]}')\n",
    "\n",
    "# Add cutoff line\n",
    "plt.axvline(0.5, color = 'black', linestyle = '--')\n",
    "\n",
    "plt.xlabel('Predicted Probability that Outcome = 1')\n",
    "plt.legend();\n",
    "plt.title('Probabilities vs Actual Outcome')"
   ]
  },
  {
   "cell_type": "code",
   "execution_count": 46,
   "id": "e58c427f-8f95-4c47-a68e-969e3d28f189",
   "metadata": {},
   "outputs": [
    {
     "name": "stderr",
     "output_type": "stream",
     "text": [
      "/opt/homebrew/Caskroom/miniconda/base/envs/dsi-sg/lib/python3.9/site-packages/sklearn/utils/deprecation.py:87: FutureWarning: Function plot_roc_curve is deprecated; Function :func:`plot_roc_curve` is deprecated in 1.0 and will be removed in 1.2. Use one of the class methods: :meth:`sklearn.metrics.RocCurveDisplay.from_predictions` or :meth:`sklearn.metrics.RocCurveDisplay.from_estimator`.\n",
      "  warnings.warn(msg, category=FutureWarning)\n"
     ]
    },
    {
     "data": {
      "text/plain": [
       "Text(0.5, 1.0, 'ROC Curve')"
      ]
     },
     "execution_count": 46,
     "metadata": {},
     "output_type": "execute_result"
    },
    {
     "data": {
      "image/png": "[encoded data removed]",
      "text/plain": [
       "<Figure size 640x480 with 1 Axes>"
      ]
     },
     "metadata": {},
     "output_type": "display_data"
    }
   ],
   "source": [
    "plot_roc_curve(M3, X1_test_all, y1_test_text)\n",
    "plt.plot([0, 1], [0, 1],\n",
    "         label='baseline', linestyle='--')\n",
    "plt.legend();\n",
    "plt.title('ROC Curve')"
   ]
  },
  {
   "cell_type": "code",
   "execution_count": 47,
   "id": "70cf3f85-313e-48d2-b94f-b16225549ed7",
   "metadata": {},
   "outputs": [
    {
     "data": {
      "text/plain": [
       "0.9572637534572707"
      ]
     },
     "execution_count": 47,
     "metadata": {},
     "output_type": "execute_result"
    }
   ],
   "source": [
    "roc_auc_score(y1_test_text, M3.predict_proba(X1_test_all)[:,1])"
   ]
  },
  {
   "cell_type": "markdown",
   "id": "2720c72d-309b-4871-8493-a00e74198e03",
   "metadata": {},
   "source": [
    "#### Checking ROC AUC for tweet prediction"
   ]
  },
  {
   "cell_type": "code",
   "execution_count": 48,
   "id": "48a0ed62-19ef-42a9-b008-59134b970a67",
   "metadata": {},
   "outputs": [
    {
     "data": {
      "text/plain": [
       "array([[1.00000000e+000, 5.74991355e-038],\n",
       "       [1.00000000e+000, 2.32907167e-059],\n",
       "       [1.28863106e-188, 1.00000000e+000],\n",
       "       ...,\n",
       "       [7.54096492e-082, 1.00000000e+000],\n",
       "       [1.00000000e+000, 3.01794572e-118],\n",
       "       [1.00000000e+000, 3.80421109e-257]])"
      ]
     },
     "execution_count": 48,
     "metadata": {},
     "output_type": "execute_result"
    }
   ],
   "source": [
    "prob_tweet=M3.predict_proba(X1_test_all_tweet)\n",
    "prob_tweet"
   ]
  },
  {
   "cell_type": "code",
   "execution_count": 49,
   "id": "1136464e-1be0-4f4c-ad7b-f9f0d474e07f",
   "metadata": {},
   "outputs": [
    {
     "data": {
      "text/html": [
       "<div>\n",
       "<style scoped>\n",
       "    .dataframe tbody tr th:only-of-type {\n",
       "        vertical-align: middle;\n",
       "    }\n",
       "\n",
       "    .dataframe tbody tr th {\n",
       "        vertical-align: top;\n",
       "    }\n",
       "\n",
       "    .dataframe thead th {\n",
       "        text-align: right;\n",
       "    }\n",
       "</style>\n",
       "<table border=\"1\" class=\"dataframe\">\n",
       "  <thead>\n",
       "    <tr style=\"text-align: right;\">\n",
       "      <th></th>\n",
       "      <th>f1</th>\n",
       "      <th>prob</th>\n",
       "    </tr>\n",
       "  </thead>\n",
       "  <tbody>\n",
       "    <tr>\n",
       "      <th>13367</th>\n",
       "      <td>0</td>\n",
       "      <td>5.749914e-38</td>\n",
       "    </tr>\n",
       "    <tr>\n",
       "      <th>2422</th>\n",
       "      <td>1</td>\n",
       "      <td>2.329072e-59</td>\n",
       "    </tr>\n",
       "    <tr>\n",
       "      <th>3546</th>\n",
       "      <td>1</td>\n",
       "      <td>1.000000e+00</td>\n",
       "    </tr>\n",
       "    <tr>\n",
       "      <th>5260</th>\n",
       "      <td>1</td>\n",
       "      <td>1.000000e+00</td>\n",
       "    </tr>\n",
       "    <tr>\n",
       "      <th>7152</th>\n",
       "      <td>1</td>\n",
       "      <td>1.000000e+00</td>\n",
       "    </tr>\n",
       "  </tbody>\n",
       "</table>\n",
       "</div>"
      ],
      "text/plain": [
       "       f1          prob\n",
       "13367   0  5.749914e-38\n",
       "2422    1  2.329072e-59\n",
       "3546    1  1.000000e+00\n",
       "5260    1  1.000000e+00\n",
       "7152    1  1.000000e+00"
      ]
     },
     "execution_count": 49,
     "metadata": {},
     "output_type": "execute_result"
    }
   ],
   "source": [
    "df_test_tweet=pd.DataFrame({'f1': y1_test, 'prob': prob_tweet[:,1]})\n",
    "df_test_tweet.head()"
   ]
  },
  {
   "cell_type": "code",
   "execution_count": 50,
   "id": "82bd1062-21dd-4735-8c8a-e820dbb35c32",
   "metadata": {},
   "outputs": [
    {
     "name": "stderr",
     "output_type": "stream",
     "text": [
      "/var/folders/3n/fkv2x4vs6_jc1rvhs53fssxr0000gn/T/ipykernel_2071/3155054182.py:5: UserWarning: \n",
      "\n",
      "`distplot` is a deprecated function and will be removed in seaborn v0.14.0.\n",
      "\n",
      "Please adapt your code to use either `displot` (a figure-level function with\n",
      "similar flexibility) or `histplot` (an axes-level function for histograms).\n",
      "\n",
      "For a guide to updating your code to use the new functions, please see\n",
      "https://gist.github.com/mwaskom/de44147ed2974457ad6372750bbe5751\n",
      "\n",
      "  sns.distplot(group[1], kde = False, bins = 20, label = f'Actual Outcome = {group[0]}')\n"
     ]
    },
    {
     "data": {
      "text/plain": [
       "Text(0.5, 1.0, 'Probabilities vs Actual Outcome')"
      ]
     },
     "execution_count": 50,
     "metadata": {},
     "output_type": "execute_result"
    },
    {
     "data": {
      "image/png": "[encoded data removed]",
      "text/plain": [
       "<Figure size 1200x500 with 1 Axes>"
      ]
     },
     "metadata": {},
     "output_type": "display_data"
    }
   ],
   "source": [
    "plt.figure(figsize = (12, 5))\n",
    "\n",
    "# plot distributions of predicted probabilities by actual values\n",
    "for group in df_test_tweet.groupby('f1'):\n",
    "    sns.distplot(group[1], kde = False, bins = 20, label = f'Actual Outcome = {group[0]}')\n",
    "\n",
    "# Add cutoff line\n",
    "plt.axvline(0.5, color = 'black', linestyle = '--')\n",
    "\n",
    "plt.xlabel('Predicted Probability that Outcome = 1')\n",
    "plt.legend();\n",
    "plt.title('Probabilities vs Actual Outcome')"
   ]
  },
  {
   "cell_type": "code",
   "execution_count": 51,
   "id": "8aaec3e5-056d-4855-b48c-b531eddb73c8",
   "metadata": {},
   "outputs": [
    {
     "name": "stderr",
     "output_type": "stream",
     "text": [
      "/opt/homebrew/Caskroom/miniconda/base/envs/dsi-sg/lib/python3.9/site-packages/sklearn/utils/deprecation.py:87: FutureWarning: Function plot_roc_curve is deprecated; Function :func:`plot_roc_curve` is deprecated in 1.0 and will be removed in 1.2. Use one of the class methods: :meth:`sklearn.metrics.RocCurveDisplay.from_predictions` or :meth:`sklearn.metrics.RocCurveDisplay.from_estimator`.\n",
      "  warnings.warn(msg, category=FutureWarning)\n"
     ]
    },
    {
     "data": {
      "text/plain": [
       "Text(0.5, 1.0, 'ROC Curve')"
      ]
     },
     "execution_count": 51,
     "metadata": {},
     "output_type": "execute_result"
    },
    {
     "data": {
      "image/png": "[encoded data removed]",
      "text/plain": [
       "<Figure size 640x480 with 1 Axes>"
      ]
     },
     "metadata": {},
     "output_type": "display_data"
    }
   ],
   "source": [
    "plot_roc_curve(M3, X1_test_all_tweet, y1_test)\n",
    "plt.plot([0, 1], [0, 1],\n",
    "         label='baseline', linestyle='--')\n",
    "plt.legend();\n",
    "plt.title('ROC Curve')"
   ]
  },
  {
   "cell_type": "code",
   "execution_count": 52,
   "id": "41018a7b-852e-428e-aa89-b09885ec9b68",
   "metadata": {},
   "outputs": [
    {
     "data": {
      "text/plain": [
       "0.9605643773870846"
      ]
     },
     "execution_count": 52,
     "metadata": {},
     "output_type": "execute_result"
    }
   ],
   "source": [
    "roc_auc_score(y1_test, M3.predict_proba(X1_test_all_tweet)[:,1])"
   ]
  },
  {
   "cell_type": "markdown",
   "id": "71af5f21-061d-428c-8e7a-c2a6cde0c700",
   "metadata": {},
   "source": [
    "Looking at the probabilities vs actual outcome charts, there is no need to adjust the default threshold of 0.5 when classifying the tweets as it wouldnt affect the the overall performance of M3.\n",
    "\n",
    "The high ROC AUC scores also shows that M3 is able to distinguish between tweets from Formula 1 and MotoGP well."
   ]
  },
  {
   "cell_type": "markdown",
   "id": "0d309ff9-3029-4612-a784-ac7fc55638f6",
   "metadata": {
    "tags": []
   },
   "source": [
    "### Conclusion"
   ]
  },
  {
   "cell_type": "markdown",
   "id": "19559116-0eaa-4923-a7c7-b1318a0ac96a",
   "metadata": {},
   "source": [
    "Although our first model M1 showed the highest scores in terms of Accuracy and Recall, we need to bear in mind that the model was built and test on tweets from the official Twitter accounts of Formula 1 and MotoGP. The high scores were achieved primarily due to the hashtags which are prevalent in 97% of the tweets.\n",
    "\n",
    "However, our aim is to build a classifier that is able to look at any tweet from any user, and determine if the tweet contains Formula 1 related content, so that we can push the tweet to the news feeds of users who are interested. Given that individual twitter accounts are unlikely to be as meticulous in including hastags, so we do need a model that can perform well when classifying tweets without any hashtag or mention. In this aspect, M1 only showed accuracy and recall rates of 88% and 79% respectively.\n",
    "\n",
    "Hence, we would recommend to adopt M3, which is able to perform well on tweets both with and without hashtags.\n",
    "\n",
    "|Model|Testing Accuracy|Recall|Precision|F1 Score|ROC AUC\n",
    "|---|---|---|---|---|---|\n",
    "|M1 (tweet-on-tweet)|0.994|0.991|0.995|0.993|--\n",
    "|M1 (tweet-on-text)|0.883|0.794|0.910|0.848|--\n",
    "|M2 (hashtag-on-hashtag)|0.993|0.984|1.000|0.992|--\n",
    "|M3 (all-on-tweet)|0.919|0.879|0.919|0.899|0.961\n",
    "|M3 (all-on-text)|0.916|0.875|0.916|0.895|0.957\n"
   ]
  }
 ],
 "metadata": {
  "kernelspec": {
   "display_name": "dsi-sg",
   "language": "python",
   "name": "dsi-sg"
  },
  "language_info": {
   "codemirror_mode": {
    "name": "ipython",
    "version": 3
   },
   "file_extension": ".py",
   "mimetype": "text/x-python",
   "name": "python",
   "nbconvert_exporter": "python",
   "pygments_lexer": "ipython3",
   "version": "3.9.13"
  }
 },
 "nbformat": 4,
 "nbformat_minor": 5
}
